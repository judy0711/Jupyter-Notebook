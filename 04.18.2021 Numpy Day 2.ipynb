{
 "cells": [
  {
   "cell_type": "code",
   "execution_count": 1,
   "metadata": {},
   "outputs": [],
   "source": [
    "import numpy as np"
   ]
  },
  {
   "cell_type": "markdown",
   "metadata": {},
   "source": [
    "## Aggregate Function"
   ]
  },
  {
   "cell_type": "code",
   "execution_count": 2,
   "metadata": {},
   "outputs": [
    {
     "name": "stdout",
     "output_type": "stream",
     "text": [
      "120\n",
      "[18 21 24 27 30]\n",
      "[15 40 65]\n",
      "1307674368000\n",
      "[ 66 168 312 504 750]\n",
      "[   120  30240 360360]\n"
     ]
    }
   ],
   "source": [
    "#aggregate along specific axis\n",
    "mat = np.arange(1,16).reshape(3,5)\n",
    "np.sum(mat)\n",
    "print(np.sum(mat))\n",
    "print(np.sum(mat, axis=0))\n",
    "print(np.sum(mat, axis=1))\n",
    "print(np.prod(mat)) #1*2*3*4....*15\n",
    "print(np.prod(mat, axis=0))\n",
    "print(np.prod(mat, axis=1))"
   ]
  },
  {
   "cell_type": "code",
   "execution_count": 3,
   "metadata": {},
   "outputs": [
    {
     "name": "stdout",
     "output_type": "stream",
     "text": [
      "[ 1.  2.  3.  4.  5.  6.  7.  8.  9. 10. 11. 12. 13. 14. nan]\n",
      "nan\n",
      "105.0\n"
     ]
    }
   ],
   "source": [
    "# Similar function names for array with missing values\n",
    "arr = np.arange(1, 16, dtype=float)  #float is for the NaN in the next line\n",
    "arr[-1] = np.NaN    # a given constant in numpy: similar to NoneType\n",
    "print(arr)\n",
    "print(np.sum(arr))  #won't run if there is NaN in the array\n",
    "print(np.nansum(arr)) "
   ]
  },
  {
   "cell_type": "code",
   "execution_count": null,
   "metadata": {},
   "outputs": [],
   "source": []
  }
 ],
 "metadata": {
  "kernelspec": {
   "display_name": "Python 3",
   "language": "python",
   "name": "python3"
  },
  "language_info": {
   "codemirror_mode": {
    "name": "ipython",
    "version": 3
   },
   "file_extension": ".py",
   "mimetype": "text/x-python",
   "name": "python",
   "nbconvert_exporter": "python",
   "pygments_lexer": "ipython3",
   "version": "3.8.6"
  }
 },
 "nbformat": 4,
 "nbformat_minor": 4
}
