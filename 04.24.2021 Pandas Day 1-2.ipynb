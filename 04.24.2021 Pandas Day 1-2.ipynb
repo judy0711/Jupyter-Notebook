{
 "cells": [
  {
   "cell_type": "code",
   "execution_count": 31,
   "metadata": {},
   "outputs": [],
   "source": [
    "import pandas as pd\n",
    "import numpy as np\n",
    "import ssl\n",
    "ssl._create_default_https_context = ssl._create_unverified_context\n",
    "import lxml"
   ]
  },
  {
   "cell_type": "markdown",
   "metadata": {},
   "source": [
    "## 04.18.2021"
   ]
  },
  {
   "cell_type": "code",
   "execution_count": 32,
   "metadata": {},
   "outputs": [
    {
     "output_type": "execute_result",
     "data": {
      "text/plain": [
       "                      title  imdb_rating\n",
       "0  The Shawshank Redemption          9.3\n",
       "1           The Dark Knight          9.0\n",
       "2          Schindler's List          8.9\n",
       "3              Forrest Gump          8.8\n",
       "4                 Inception          8.7"
      ],
      "text/html": "<div>\n<style scoped>\n    .dataframe tbody tr th:only-of-type {\n        vertical-align: middle;\n    }\n\n    .dataframe tbody tr th {\n        vertical-align: top;\n    }\n\n    .dataframe thead th {\n        text-align: right;\n    }\n</style>\n<table border=\"1\" class=\"dataframe\">\n  <thead>\n    <tr style=\"text-align: right;\">\n      <th></th>\n      <th>title</th>\n      <th>imdb_rating</th>\n    </tr>\n  </thead>\n  <tbody>\n    <tr>\n      <th>0</th>\n      <td>The Shawshank Redemption</td>\n      <td>9.3</td>\n    </tr>\n    <tr>\n      <th>1</th>\n      <td>The Dark Knight</td>\n      <td>9.0</td>\n    </tr>\n    <tr>\n      <th>2</th>\n      <td>Schindler's List</td>\n      <td>8.9</td>\n    </tr>\n    <tr>\n      <th>3</th>\n      <td>Forrest Gump</td>\n      <td>8.8</td>\n    </tr>\n    <tr>\n      <th>4</th>\n      <td>Inception</td>\n      <td>8.7</td>\n    </tr>\n  </tbody>\n</table>\n</div>"
     },
     "metadata": {},
     "execution_count": 32
    }
   ],
   "source": [
    "movie_df = pd.DataFrame()\n",
    "movie_df[\"title\"] = [\"The Shawshank Redemption\", \"The Dark Knight\", \"Schindler's List\", \"Forrest Gump\", \"Inception\"]\n",
    "movie_df[\"imdb_rating\"] = [9.3, 9.0, 8.9, 8.8, 8.7]\n",
    "#print(type(movie_df))\n",
    "movie_df\n",
    "#movie_df.loc[1,\"title\"]"
   ]
  },
  {
   "cell_type": "code",
   "execution_count": 33,
   "metadata": {},
   "outputs": [
    {
     "output_type": "stream",
     "name": "stdout",
     "text": [
      "<class 'pandas.core.indexes.range.RangeIndex'>\n<class 'pandas.core.series.Series'>\n<class 'pandas.core.series.Series'>\nRangeIndex(start=0, stop=5, step=1)\n['The Shawshank Redemption' 'The Dark Knight' \"Schindler's List\"\n 'Forrest Gump' 'Inception']\n"
     ]
    }
   ],
   "source": [
    "print(type(movie_df.index))\n",
    "print(type(movie_df[\"title\"]))\n",
    "print(type(movie_df[\"imdb_rating\"])) \n",
    "print(movie_df[\"title\"].index)\n",
    "print(movie_df[\"title\"].values)"
   ]
  },
  {
   "cell_type": "markdown",
   "metadata": {},
   "source": [
    "## 04.19.2021"
   ]
  },
  {
   "cell_type": "code",
   "execution_count": 34,
   "metadata": {},
   "outputs": [
    {
     "output_type": "stream",
     "name": "stdout",
     "text": [
      "2021-04-30\n<class 'datetime.date'>\n04-30-2021\n"
     ]
    }
   ],
   "source": [
    "from datetime import date \n",
    "from datetime import timedelta\n",
    "today = date.today()\n",
    "day_delta = timedelta(days=-2)\n",
    "data_date = today + day_delta\n",
    "print(data_date)\n",
    "print(type(data_date))\n",
    "data_date_str = date.strftime(data_date, '%m-%d-%Y') \n",
    "print(data_date_str)"
   ]
  },
  {
   "cell_type": "code",
   "execution_count": 35,
   "metadata": {},
   "outputs": [],
   "source": [
    "csv_url = \"https://raw.githubusercontent.com/CSSEGISandData/COVID-19/master/csse_covid_19_data/csse_covid_19_daily_reports/04-22-2021.csv\"\n"
   ]
  },
  {
   "cell_type": "code",
   "execution_count": 36,
   "metadata": {},
   "outputs": [
    {
     "output_type": "stream",
     "name": "stdout",
     "text": [
      "2021-05-02\n04-30-2021\n"
     ]
    },
    {
     "output_type": "execute_result",
     "data": {
      "text/plain": [
       "pandas.core.frame.DataFrame"
      ]
     },
     "metadata": {},
     "execution_count": 36
    }
   ],
   "source": [
    "from datetime import date \n",
    "from datetime import timedelta\n",
    "from urllib.error import HTTPError\n",
    "\n",
    "def get_latest_daily_report():\n",
    "    \n",
    "    today = date.today()\n",
    "    day_delta = timedelta(days=1)\n",
    "    data_date = today\n",
    "\n",
    "    while True: \n",
    "        try:\n",
    "            data_date_str = date.strftime(data_date, '%m-%d-%Y')\n",
    "            csv_url = \"https://raw.githubusercontent.com/CSSEGISandData/COVID-19/master/csse_covid_19_data/csse_covid_19_daily_reports/{}.csv\".format(data_date_str)\n",
    "            daily_report = pd.read_csv(csv_url)\n",
    "            break\n",
    "        except HTTPError:\n",
    "            data_date -= day_delta\n",
    "    print(today)\n",
    "    print(data_date_str)\n",
    "    return daily_report\n",
    "    \n",
    "\n",
    "daily_report = get_latest_daily_report()\n",
    "type(daily_report)\n"
   ]
  },
  {
   "cell_type": "code",
   "execution_count": 37,
   "metadata": {},
   "outputs": [
    {
     "output_type": "execute_result",
     "data": {
      "text/plain": [
       "      FIPS Admin2 Province_State      Country_Region          Last_Update  \\\n",
       "0      NaN    NaN            NaN         Afghanistan  2021-05-01 04:20:47   \n",
       "1      NaN    NaN            NaN             Albania  2021-05-01 04:20:47   \n",
       "2      NaN    NaN            NaN             Algeria  2021-05-01 04:20:47   \n",
       "3      NaN    NaN            NaN             Andorra  2021-05-01 04:20:47   \n",
       "4      NaN    NaN            NaN              Angola  2021-05-01 04:20:47   \n",
       "...    ...    ...            ...                 ...                  ...   \n",
       "3978   NaN    NaN            NaN             Vietnam  2021-05-01 04:20:47   \n",
       "3979   NaN    NaN            NaN  West Bank and Gaza  2021-05-01 04:20:47   \n",
       "3980   NaN    NaN            NaN               Yemen  2021-05-01 04:20:47   \n",
       "3981   NaN    NaN            NaN              Zambia  2021-05-01 04:20:47   \n",
       "3982   NaN    NaN            NaN            Zimbabwe  2021-05-01 04:20:47   \n",
       "\n",
       "            Lat       Long_  Confirmed  Deaths  Recovered   Active  \\\n",
       "0     33.939110   67.709953      59745    2625    53206.0   3914.0   \n",
       "1     41.153300   20.168300     131085    2394   109338.0  19353.0   \n",
       "2     28.033900    1.659600     122108    3253    85108.0  33747.0   \n",
       "3     42.506300    1.521800      13232     125    12684.0    423.0   \n",
       "4    -11.202700   17.873900      26652     596    23876.0   2180.0   \n",
       "...         ...         ...        ...     ...        ...      ...   \n",
       "3978  14.058324  108.277199       2928      35     2516.0    377.0   \n",
       "3979  31.952200   35.233200     296462    3249   272333.0  20880.0   \n",
       "3980  15.552727   48.516388       6317    1226     2751.0   2340.0   \n",
       "3981 -13.133897   27.849332      91586    1251    89933.0    402.0   \n",
       "3982 -19.015438   29.154857      38257    1567    35612.0   1078.0   \n",
       "\n",
       "            Combined_Key  Incident_Rate  Case_Fatality_Ratio  \n",
       "0            Afghanistan     153.474303             4.393673  \n",
       "1                Albania    4555.042046             1.826296  \n",
       "2                Algeria     278.460879             2.664035  \n",
       "3                Andorra   17125.477254             0.944680  \n",
       "4                 Angola      81.092262             2.236230  \n",
       "...                  ...            ...                  ...  \n",
       "3978             Vietnam       3.008057             1.195355  \n",
       "3979  West Bank and Gaza    5811.366883             1.095925  \n",
       "3980               Yemen      21.179531            19.407947  \n",
       "3981              Zambia     498.184395             1.365929  \n",
       "3982            Zimbabwe     257.398829             4.095982  \n",
       "\n",
       "[3983 rows x 14 columns]"
      ],
      "text/html": "<div>\n<style scoped>\n    .dataframe tbody tr th:only-of-type {\n        vertical-align: middle;\n    }\n\n    .dataframe tbody tr th {\n        vertical-align: top;\n    }\n\n    .dataframe thead th {\n        text-align: right;\n    }\n</style>\n<table border=\"1\" class=\"dataframe\">\n  <thead>\n    <tr style=\"text-align: right;\">\n      <th></th>\n      <th>FIPS</th>\n      <th>Admin2</th>\n      <th>Province_State</th>\n      <th>Country_Region</th>\n      <th>Last_Update</th>\n      <th>Lat</th>\n      <th>Long_</th>\n      <th>Confirmed</th>\n      <th>Deaths</th>\n      <th>Recovered</th>\n      <th>Active</th>\n      <th>Combined_Key</th>\n      <th>Incident_Rate</th>\n      <th>Case_Fatality_Ratio</th>\n    </tr>\n  </thead>\n  <tbody>\n    <tr>\n      <th>0</th>\n      <td>NaN</td>\n      <td>NaN</td>\n      <td>NaN</td>\n      <td>Afghanistan</td>\n      <td>2021-05-01 04:20:47</td>\n      <td>33.939110</td>\n      <td>67.709953</td>\n      <td>59745</td>\n      <td>2625</td>\n      <td>53206.0</td>\n      <td>3914.0</td>\n      <td>Afghanistan</td>\n      <td>153.474303</td>\n      <td>4.393673</td>\n    </tr>\n    <tr>\n      <th>1</th>\n      <td>NaN</td>\n      <td>NaN</td>\n      <td>NaN</td>\n      <td>Albania</td>\n      <td>2021-05-01 04:20:47</td>\n      <td>41.153300</td>\n      <td>20.168300</td>\n      <td>131085</td>\n      <td>2394</td>\n      <td>109338.0</td>\n      <td>19353.0</td>\n      <td>Albania</td>\n      <td>4555.042046</td>\n      <td>1.826296</td>\n    </tr>\n    <tr>\n      <th>2</th>\n      <td>NaN</td>\n      <td>NaN</td>\n      <td>NaN</td>\n      <td>Algeria</td>\n      <td>2021-05-01 04:20:47</td>\n      <td>28.033900</td>\n      <td>1.659600</td>\n      <td>122108</td>\n      <td>3253</td>\n      <td>85108.0</td>\n      <td>33747.0</td>\n      <td>Algeria</td>\n      <td>278.460879</td>\n      <td>2.664035</td>\n    </tr>\n    <tr>\n      <th>3</th>\n      <td>NaN</td>\n      <td>NaN</td>\n      <td>NaN</td>\n      <td>Andorra</td>\n      <td>2021-05-01 04:20:47</td>\n      <td>42.506300</td>\n      <td>1.521800</td>\n      <td>13232</td>\n      <td>125</td>\n      <td>12684.0</td>\n      <td>423.0</td>\n      <td>Andorra</td>\n      <td>17125.477254</td>\n      <td>0.944680</td>\n    </tr>\n    <tr>\n      <th>4</th>\n      <td>NaN</td>\n      <td>NaN</td>\n      <td>NaN</td>\n      <td>Angola</td>\n      <td>2021-05-01 04:20:47</td>\n      <td>-11.202700</td>\n      <td>17.873900</td>\n      <td>26652</td>\n      <td>596</td>\n      <td>23876.0</td>\n      <td>2180.0</td>\n      <td>Angola</td>\n      <td>81.092262</td>\n      <td>2.236230</td>\n    </tr>\n    <tr>\n      <th>...</th>\n      <td>...</td>\n      <td>...</td>\n      <td>...</td>\n      <td>...</td>\n      <td>...</td>\n      <td>...</td>\n      <td>...</td>\n      <td>...</td>\n      <td>...</td>\n      <td>...</td>\n      <td>...</td>\n      <td>...</td>\n      <td>...</td>\n      <td>...</td>\n    </tr>\n    <tr>\n      <th>3978</th>\n      <td>NaN</td>\n      <td>NaN</td>\n      <td>NaN</td>\n      <td>Vietnam</td>\n      <td>2021-05-01 04:20:47</td>\n      <td>14.058324</td>\n      <td>108.277199</td>\n      <td>2928</td>\n      <td>35</td>\n      <td>2516.0</td>\n      <td>377.0</td>\n      <td>Vietnam</td>\n      <td>3.008057</td>\n      <td>1.195355</td>\n    </tr>\n    <tr>\n      <th>3979</th>\n      <td>NaN</td>\n      <td>NaN</td>\n      <td>NaN</td>\n      <td>West Bank and Gaza</td>\n      <td>2021-05-01 04:20:47</td>\n      <td>31.952200</td>\n      <td>35.233200</td>\n      <td>296462</td>\n      <td>3249</td>\n      <td>272333.0</td>\n      <td>20880.0</td>\n      <td>West Bank and Gaza</td>\n      <td>5811.366883</td>\n      <td>1.095925</td>\n    </tr>\n    <tr>\n      <th>3980</th>\n      <td>NaN</td>\n      <td>NaN</td>\n      <td>NaN</td>\n      <td>Yemen</td>\n      <td>2021-05-01 04:20:47</td>\n      <td>15.552727</td>\n      <td>48.516388</td>\n      <td>6317</td>\n      <td>1226</td>\n      <td>2751.0</td>\n      <td>2340.0</td>\n      <td>Yemen</td>\n      <td>21.179531</td>\n      <td>19.407947</td>\n    </tr>\n    <tr>\n      <th>3981</th>\n      <td>NaN</td>\n      <td>NaN</td>\n      <td>NaN</td>\n      <td>Zambia</td>\n      <td>2021-05-01 04:20:47</td>\n      <td>-13.133897</td>\n      <td>27.849332</td>\n      <td>91586</td>\n      <td>1251</td>\n      <td>89933.0</td>\n      <td>402.0</td>\n      <td>Zambia</td>\n      <td>498.184395</td>\n      <td>1.365929</td>\n    </tr>\n    <tr>\n      <th>3982</th>\n      <td>NaN</td>\n      <td>NaN</td>\n      <td>NaN</td>\n      <td>Zimbabwe</td>\n      <td>2021-05-01 04:20:47</td>\n      <td>-19.015438</td>\n      <td>29.154857</td>\n      <td>38257</td>\n      <td>1567</td>\n      <td>35612.0</td>\n      <td>1078.0</td>\n      <td>Zimbabwe</td>\n      <td>257.398829</td>\n      <td>4.095982</td>\n    </tr>\n  </tbody>\n</table>\n<p>3983 rows × 14 columns</p>\n</div>"
     },
     "metadata": {},
     "execution_count": 37
    }
   ],
   "source": [
    "daily_report"
   ]
  },
  {
   "cell_type": "code",
   "execution_count": 38,
   "metadata": {},
   "outputs": [],
   "source": [
    "import sqlite3\n",
    "\n",
    "conn = sqlite3.connect('covid19.db')   #create a new database\n",
    "daily_report.to_sql('daily_report', conn, if_exists = 'replace') #replace"
   ]
  },
  {
   "cell_type": "code",
   "execution_count": 39,
   "metadata": {},
   "outputs": [
    {
     "output_type": "execute_result",
     "data": {
      "text/plain": [
       "   index  FIPS Admin2 Province_State Country_Region          Last_Update  \\\n",
       "0    643  None   None           None        Taiwan*  2021-05-01 04:20:47   \n",
       "\n",
       "    Lat  Long_  Confirmed  Deaths  Recovered  Active Combined_Key  \\\n",
       "0  23.7  121.0       1128      12     1053.0    63.0      Taiwan*   \n",
       "\n",
       "   Incident_Rate  Case_Fatality_Ratio  \n",
       "0       4.736158              1.06383  "
      ],
      "text/html": "<div>\n<style scoped>\n    .dataframe tbody tr th:only-of-type {\n        vertical-align: middle;\n    }\n\n    .dataframe tbody tr th {\n        vertical-align: top;\n    }\n\n    .dataframe thead th {\n        text-align: right;\n    }\n</style>\n<table border=\"1\" class=\"dataframe\">\n  <thead>\n    <tr style=\"text-align: right;\">\n      <th></th>\n      <th>index</th>\n      <th>FIPS</th>\n      <th>Admin2</th>\n      <th>Province_State</th>\n      <th>Country_Region</th>\n      <th>Last_Update</th>\n      <th>Lat</th>\n      <th>Long_</th>\n      <th>Confirmed</th>\n      <th>Deaths</th>\n      <th>Recovered</th>\n      <th>Active</th>\n      <th>Combined_Key</th>\n      <th>Incident_Rate</th>\n      <th>Case_Fatality_Ratio</th>\n    </tr>\n  </thead>\n  <tbody>\n    <tr>\n      <th>0</th>\n      <td>643</td>\n      <td>None</td>\n      <td>None</td>\n      <td>None</td>\n      <td>Taiwan*</td>\n      <td>2021-05-01 04:20:47</td>\n      <td>23.7</td>\n      <td>121.0</td>\n      <td>1128</td>\n      <td>12</td>\n      <td>1053.0</td>\n      <td>63.0</td>\n      <td>Taiwan*</td>\n      <td>4.736158</td>\n      <td>1.06383</td>\n    </tr>\n  </tbody>\n</table>\n</div>"
     },
     "metadata": {},
     "execution_count": 39
    }
   ],
   "source": [
    "sql_query = \"\"\"\n",
    "SELECT *\n",
    "    FROM daily_report\n",
    "WHERE Country_Region LIKE \"%Taiwan%\";\n",
    "\"\"\"\n",
    "pd.read_sql(sql_query, conn)\n",
    "\n"
   ]
  },
  {
   "cell_type": "code",
   "execution_count": 40,
   "metadata": {},
   "outputs": [],
   "source": [
    "excel_file_path = \"Movies-2.xls\" \n",
    "movie_excel = pd.read_excel(excel_file_path) #import excel file but not working"
   ]
  },
  {
   "cell_type": "code",
   "execution_count": 41,
   "metadata": {},
   "outputs": [
    {
     "output_type": "execute_result",
     "data": {
      "text/plain": [
       "          Title  Release Year  IMDB Rating\n",
       "0    Spider Man          2016          8.3\n",
       "1       Bat Man          2018          9.3\n",
       "2  Wonder Woman          2018          9.3"
      ],
      "text/html": "<div>\n<style scoped>\n    .dataframe tbody tr th:only-of-type {\n        vertical-align: middle;\n    }\n\n    .dataframe tbody tr th {\n        vertical-align: top;\n    }\n\n    .dataframe thead th {\n        text-align: right;\n    }\n</style>\n<table border=\"1\" class=\"dataframe\">\n  <thead>\n    <tr style=\"text-align: right;\">\n      <th></th>\n      <th>Title</th>\n      <th>Release Year</th>\n      <th>IMDB Rating</th>\n    </tr>\n  </thead>\n  <tbody>\n    <tr>\n      <th>0</th>\n      <td>Spider Man</td>\n      <td>2016</td>\n      <td>8.3</td>\n    </tr>\n    <tr>\n      <th>1</th>\n      <td>Bat Man</td>\n      <td>2018</td>\n      <td>9.3</td>\n    </tr>\n    <tr>\n      <th>2</th>\n      <td>Wonder Woman</td>\n      <td>2018</td>\n      <td>9.3</td>\n    </tr>\n  </tbody>\n</table>\n</div>"
     },
     "metadata": {},
     "execution_count": 41
    }
   ],
   "source": [
    "movie_excel"
   ]
  },
  {
   "cell_type": "code",
   "execution_count": 42,
   "metadata": {},
   "outputs": [],
   "source": [
    "def read_movies(csv_file_path):\n",
    "    movies_from_csv = pd.read_csv(csv_file_path,error_bad_lines=False)\n",
    "    return movies_from_csv"
   ]
  },
  {
   "cell_type": "code",
   "execution_count": 43,
   "metadata": {},
   "outputs": [
    {
     "output_type": "stream",
     "name": "stderr",
     "text": [
      "b'Skipping line 3: expected 3 fields, saw 4\\n'\n"
     ]
    },
    {
     "output_type": "execute_result",
     "data": {
      "text/plain": [
       "                      title   release_year   imdb_rating\n",
       "0  The Shawshank Redemption           1994           9.2\n",
       "1                 Inception           2010           8.7\n",
       "2              Forrest Gump           1994           8.8"
      ],
      "text/html": "<div>\n<style scoped>\n    .dataframe tbody tr th:only-of-type {\n        vertical-align: middle;\n    }\n\n    .dataframe tbody tr th {\n        vertical-align: top;\n    }\n\n    .dataframe thead th {\n        text-align: right;\n    }\n</style>\n<table border=\"1\" class=\"dataframe\">\n  <thead>\n    <tr style=\"text-align: right;\">\n      <th></th>\n      <th>title</th>\n      <th>release_year</th>\n      <th>imdb_rating</th>\n    </tr>\n  </thead>\n  <tbody>\n    <tr>\n      <th>0</th>\n      <td>The Shawshank Redemption</td>\n      <td>1994</td>\n      <td>9.2</td>\n    </tr>\n    <tr>\n      <th>1</th>\n      <td>Inception</td>\n      <td>2010</td>\n      <td>8.7</td>\n    </tr>\n    <tr>\n      <th>2</th>\n      <td>Forrest Gump</td>\n      <td>1994</td>\n      <td>8.8</td>\n    </tr>\n  </tbody>\n</table>\n</div>"
     },
     "metadata": {},
     "execution_count": 43
    }
   ],
   "source": [
    "read_movies('movies.csv')"
   ]
  },
  {
   "cell_type": "markdown",
   "metadata": {},
   "source": [
    "## import json\n",
    "\n",
    "with open('movie1.json') as json_file:\n",
    "    movies_from_json = json.load(json_file)         \n",
    "type(movies_from_json)"
   ]
  },
  {
   "cell_type": "code",
   "execution_count": 44,
   "metadata": {},
   "outputs": [
    {
     "output_type": "stream",
     "name": "stdout",
     "text": [
      "<class 'list'>\n1\n"
     ]
    }
   ],
   "source": [
    "request_url = \"https://www.imdb.com/chart/top\"\n",
    "html_tables = pd.read_html(request_url)\n",
    "print(type(html_tables)) \n",
    "print(len(html_tables))"
   ]
  },
  {
   "cell_type": "code",
   "execution_count": 45,
   "metadata": {},
   "outputs": [
    {
     "output_type": "execute_result",
     "data": {
      "text/plain": [
       "1"
      ]
     },
     "metadata": {},
     "execution_count": 45
    }
   ],
   "source": [
    "len(html_tables)"
   ]
  },
  {
   "cell_type": "code",
   "execution_count": 46,
   "metadata": {},
   "outputs": [
    {
     "output_type": "execute_result",
     "data": {
      "text/plain": [
       "     Unnamed: 0                    Rank & Title  IMDb Rating  \\\n",
       "0           NaN              1.  刺激1995  (1994)          9.2   \n",
       "1           NaN                  2.  教父  (1972)          9.1   \n",
       "2           NaN               3.  教父第二集  (1974)          9.0   \n",
       "3           NaN                4.  黑暗騎士  (2008)          9.0   \n",
       "4           NaN                5.  十二怒漢  (1957)          8.9   \n",
       "..          ...                             ...          ...   \n",
       "245         NaN          246.  Ratsasan  (2018)          8.0   \n",
       "246         NaN                247.  較量  (2013)          8.0   \n",
       "247         NaN            248.  電影版聲之形  (2016)          8.0   \n",
       "248         NaN  249.  新世紀福音戰士：AIR/真心為你  (1997)          8.0   \n",
       "249         NaN                250.  故土  (2004)          8.0   \n",
       "\n",
       "                            Your Rating  Unnamed: 4  \n",
       "0    12345678910 NOT YET RELEASED  Seen         NaN  \n",
       "1    12345678910 NOT YET RELEASED  Seen         NaN  \n",
       "2    12345678910 NOT YET RELEASED  Seen         NaN  \n",
       "3    12345678910 NOT YET RELEASED  Seen         NaN  \n",
       "4    12345678910 NOT YET RELEASED  Seen         NaN  \n",
       "..                                  ...         ...  \n",
       "245  12345678910 NOT YET RELEASED  Seen         NaN  \n",
       "246  12345678910 NOT YET RELEASED  Seen         NaN  \n",
       "247  12345678910 NOT YET RELEASED  Seen         NaN  \n",
       "248  12345678910 NOT YET RELEASED  Seen         NaN  \n",
       "249  12345678910 NOT YET RELEASED  Seen         NaN  \n",
       "\n",
       "[250 rows x 5 columns]"
      ],
      "text/html": "<div>\n<style scoped>\n    .dataframe tbody tr th:only-of-type {\n        vertical-align: middle;\n    }\n\n    .dataframe tbody tr th {\n        vertical-align: top;\n    }\n\n    .dataframe thead th {\n        text-align: right;\n    }\n</style>\n<table border=\"1\" class=\"dataframe\">\n  <thead>\n    <tr style=\"text-align: right;\">\n      <th></th>\n      <th>Unnamed: 0</th>\n      <th>Rank &amp; Title</th>\n      <th>IMDb Rating</th>\n      <th>Your Rating</th>\n      <th>Unnamed: 4</th>\n    </tr>\n  </thead>\n  <tbody>\n    <tr>\n      <th>0</th>\n      <td>NaN</td>\n      <td>1.  刺激1995  (1994)</td>\n      <td>9.2</td>\n      <td>12345678910 NOT YET RELEASED  Seen</td>\n      <td>NaN</td>\n    </tr>\n    <tr>\n      <th>1</th>\n      <td>NaN</td>\n      <td>2.  教父  (1972)</td>\n      <td>9.1</td>\n      <td>12345678910 NOT YET RELEASED  Seen</td>\n      <td>NaN</td>\n    </tr>\n    <tr>\n      <th>2</th>\n      <td>NaN</td>\n      <td>3.  教父第二集  (1974)</td>\n      <td>9.0</td>\n      <td>12345678910 NOT YET RELEASED  Seen</td>\n      <td>NaN</td>\n    </tr>\n    <tr>\n      <th>3</th>\n      <td>NaN</td>\n      <td>4.  黑暗騎士  (2008)</td>\n      <td>9.0</td>\n      <td>12345678910 NOT YET RELEASED  Seen</td>\n      <td>NaN</td>\n    </tr>\n    <tr>\n      <th>4</th>\n      <td>NaN</td>\n      <td>5.  十二怒漢  (1957)</td>\n      <td>8.9</td>\n      <td>12345678910 NOT YET RELEASED  Seen</td>\n      <td>NaN</td>\n    </tr>\n    <tr>\n      <th>...</th>\n      <td>...</td>\n      <td>...</td>\n      <td>...</td>\n      <td>...</td>\n      <td>...</td>\n    </tr>\n    <tr>\n      <th>245</th>\n      <td>NaN</td>\n      <td>246.  Ratsasan  (2018)</td>\n      <td>8.0</td>\n      <td>12345678910 NOT YET RELEASED  Seen</td>\n      <td>NaN</td>\n    </tr>\n    <tr>\n      <th>246</th>\n      <td>NaN</td>\n      <td>247.  較量  (2013)</td>\n      <td>8.0</td>\n      <td>12345678910 NOT YET RELEASED  Seen</td>\n      <td>NaN</td>\n    </tr>\n    <tr>\n      <th>247</th>\n      <td>NaN</td>\n      <td>248.  電影版聲之形  (2016)</td>\n      <td>8.0</td>\n      <td>12345678910 NOT YET RELEASED  Seen</td>\n      <td>NaN</td>\n    </tr>\n    <tr>\n      <th>248</th>\n      <td>NaN</td>\n      <td>249.  新世紀福音戰士：AIR/真心為你  (1997)</td>\n      <td>8.0</td>\n      <td>12345678910 NOT YET RELEASED  Seen</td>\n      <td>NaN</td>\n    </tr>\n    <tr>\n      <th>249</th>\n      <td>NaN</td>\n      <td>250.  故土  (2004)</td>\n      <td>8.0</td>\n      <td>12345678910 NOT YET RELEASED  Seen</td>\n      <td>NaN</td>\n    </tr>\n  </tbody>\n</table>\n<p>250 rows × 5 columns</p>\n</div>"
     },
     "metadata": {},
     "execution_count": 46
    }
   ],
   "source": [
    "html_tables[0]"
   ]
  },
  {
   "cell_type": "code",
   "execution_count": 47,
   "metadata": {},
   "outputs": [
    {
     "output_type": "execute_result",
     "data": {
      "text/plain": [
       "         FIPS      Admin2 Province_State Country_Region          Last_Update  \\\n",
       "652    1001.0     Autauga        Alabama             US  2021-05-01 04:20:47   \n",
       "653    1003.0     Baldwin        Alabama             US  2021-05-01 04:20:47   \n",
       "654    1005.0     Barbour        Alabama             US  2021-05-01 04:20:47   \n",
       "655    1007.0        Bibb        Alabama             US  2021-05-01 04:20:47   \n",
       "656    1009.0      Blount        Alabama             US  2021-05-01 04:20:47   \n",
       "...       ...         ...            ...            ...                  ...   \n",
       "3924  56039.0       Teton        Wyoming             US  2021-05-01 04:20:47   \n",
       "3925  56041.0       Uinta        Wyoming             US  2021-05-01 04:20:47   \n",
       "3926  90056.0  Unassigned        Wyoming             US  2021-05-01 04:20:47   \n",
       "3927  56043.0    Washakie        Wyoming             US  2021-05-01 04:20:47   \n",
       "3928  56045.0      Weston        Wyoming             US  2021-05-01 04:20:47   \n",
       "\n",
       "            Lat       Long_  Confirmed  Deaths  Recovered  Active  \\\n",
       "652   32.539527  -86.644082       6904     107        NaN     NaN   \n",
       "653   30.727750  -87.722071      20941     305        NaN     NaN   \n",
       "654   31.868263  -85.387129       2300      56        NaN     NaN   \n",
       "655   32.996421  -87.125115       2594      63        NaN     NaN   \n",
       "656   33.982109  -86.567906       6613     135        NaN     NaN   \n",
       "...         ...         ...        ...     ...        ...     ...   \n",
       "3924  43.935225 -110.589080       3732       9        NaN     NaN   \n",
       "3925  41.287818 -110.547578       2183      12        NaN     NaN   \n",
       "3926        NaN         NaN          0       0        NaN     NaN   \n",
       "3927  43.904516 -107.680187        903      26        NaN     NaN   \n",
       "3928  43.839612 -104.567488        650       5        NaN     NaN   \n",
       "\n",
       "                 Combined_Key  Incident_Rate  Case_Fatality_Ratio  \n",
       "652      Autauga, Alabama, US   12357.479103             1.549826  \n",
       "653      Baldwin, Alabama, US    9380.739493             1.456473  \n",
       "654      Barbour, Alabama, US    9317.021794             2.434783  \n",
       "655         Bibb, Alabama, US   11583.459855             2.428682  \n",
       "656       Blount, Alabama, US   11436.032235             2.041434  \n",
       "...                       ...            ...                  ...  \n",
       "3924       Teton, Wyoming, US   15905.216502             0.241158  \n",
       "3925       Uinta, Wyoming, US   10793.038663             0.549702  \n",
       "3926  Unassigned, Wyoming, US            NaN                  NaN  \n",
       "3927    Washakie, Wyoming, US   11569.506726             2.879291  \n",
       "3928      Weston, Wyoming, US    9383.571532             0.769231  \n",
       "\n",
       "[3277 rows x 14 columns]"
      ],
      "text/html": "<div>\n<style scoped>\n    .dataframe tbody tr th:only-of-type {\n        vertical-align: middle;\n    }\n\n    .dataframe tbody tr th {\n        vertical-align: top;\n    }\n\n    .dataframe thead th {\n        text-align: right;\n    }\n</style>\n<table border=\"1\" class=\"dataframe\">\n  <thead>\n    <tr style=\"text-align: right;\">\n      <th></th>\n      <th>FIPS</th>\n      <th>Admin2</th>\n      <th>Province_State</th>\n      <th>Country_Region</th>\n      <th>Last_Update</th>\n      <th>Lat</th>\n      <th>Long_</th>\n      <th>Confirmed</th>\n      <th>Deaths</th>\n      <th>Recovered</th>\n      <th>Active</th>\n      <th>Combined_Key</th>\n      <th>Incident_Rate</th>\n      <th>Case_Fatality_Ratio</th>\n    </tr>\n  </thead>\n  <tbody>\n    <tr>\n      <th>652</th>\n      <td>1001.0</td>\n      <td>Autauga</td>\n      <td>Alabama</td>\n      <td>US</td>\n      <td>2021-05-01 04:20:47</td>\n      <td>32.539527</td>\n      <td>-86.644082</td>\n      <td>6904</td>\n      <td>107</td>\n      <td>NaN</td>\n      <td>NaN</td>\n      <td>Autauga, Alabama, US</td>\n      <td>12357.479103</td>\n      <td>1.549826</td>\n    </tr>\n    <tr>\n      <th>653</th>\n      <td>1003.0</td>\n      <td>Baldwin</td>\n      <td>Alabama</td>\n      <td>US</td>\n      <td>2021-05-01 04:20:47</td>\n      <td>30.727750</td>\n      <td>-87.722071</td>\n      <td>20941</td>\n      <td>305</td>\n      <td>NaN</td>\n      <td>NaN</td>\n      <td>Baldwin, Alabama, US</td>\n      <td>9380.739493</td>\n      <td>1.456473</td>\n    </tr>\n    <tr>\n      <th>654</th>\n      <td>1005.0</td>\n      <td>Barbour</td>\n      <td>Alabama</td>\n      <td>US</td>\n      <td>2021-05-01 04:20:47</td>\n      <td>31.868263</td>\n      <td>-85.387129</td>\n      <td>2300</td>\n      <td>56</td>\n      <td>NaN</td>\n      <td>NaN</td>\n      <td>Barbour, Alabama, US</td>\n      <td>9317.021794</td>\n      <td>2.434783</td>\n    </tr>\n    <tr>\n      <th>655</th>\n      <td>1007.0</td>\n      <td>Bibb</td>\n      <td>Alabama</td>\n      <td>US</td>\n      <td>2021-05-01 04:20:47</td>\n      <td>32.996421</td>\n      <td>-87.125115</td>\n      <td>2594</td>\n      <td>63</td>\n      <td>NaN</td>\n      <td>NaN</td>\n      <td>Bibb, Alabama, US</td>\n      <td>11583.459855</td>\n      <td>2.428682</td>\n    </tr>\n    <tr>\n      <th>656</th>\n      <td>1009.0</td>\n      <td>Blount</td>\n      <td>Alabama</td>\n      <td>US</td>\n      <td>2021-05-01 04:20:47</td>\n      <td>33.982109</td>\n      <td>-86.567906</td>\n      <td>6613</td>\n      <td>135</td>\n      <td>NaN</td>\n      <td>NaN</td>\n      <td>Blount, Alabama, US</td>\n      <td>11436.032235</td>\n      <td>2.041434</td>\n    </tr>\n    <tr>\n      <th>...</th>\n      <td>...</td>\n      <td>...</td>\n      <td>...</td>\n      <td>...</td>\n      <td>...</td>\n      <td>...</td>\n      <td>...</td>\n      <td>...</td>\n      <td>...</td>\n      <td>...</td>\n      <td>...</td>\n      <td>...</td>\n      <td>...</td>\n      <td>...</td>\n    </tr>\n    <tr>\n      <th>3924</th>\n      <td>56039.0</td>\n      <td>Teton</td>\n      <td>Wyoming</td>\n      <td>US</td>\n      <td>2021-05-01 04:20:47</td>\n      <td>43.935225</td>\n      <td>-110.589080</td>\n      <td>3732</td>\n      <td>9</td>\n      <td>NaN</td>\n      <td>NaN</td>\n      <td>Teton, Wyoming, US</td>\n      <td>15905.216502</td>\n      <td>0.241158</td>\n    </tr>\n    <tr>\n      <th>3925</th>\n      <td>56041.0</td>\n      <td>Uinta</td>\n      <td>Wyoming</td>\n      <td>US</td>\n      <td>2021-05-01 04:20:47</td>\n      <td>41.287818</td>\n      <td>-110.547578</td>\n      <td>2183</td>\n      <td>12</td>\n      <td>NaN</td>\n      <td>NaN</td>\n      <td>Uinta, Wyoming, US</td>\n      <td>10793.038663</td>\n      <td>0.549702</td>\n    </tr>\n    <tr>\n      <th>3926</th>\n      <td>90056.0</td>\n      <td>Unassigned</td>\n      <td>Wyoming</td>\n      <td>US</td>\n      <td>2021-05-01 04:20:47</td>\n      <td>NaN</td>\n      <td>NaN</td>\n      <td>0</td>\n      <td>0</td>\n      <td>NaN</td>\n      <td>NaN</td>\n      <td>Unassigned, Wyoming, US</td>\n      <td>NaN</td>\n      <td>NaN</td>\n    </tr>\n    <tr>\n      <th>3927</th>\n      <td>56043.0</td>\n      <td>Washakie</td>\n      <td>Wyoming</td>\n      <td>US</td>\n      <td>2021-05-01 04:20:47</td>\n      <td>43.904516</td>\n      <td>-107.680187</td>\n      <td>903</td>\n      <td>26</td>\n      <td>NaN</td>\n      <td>NaN</td>\n      <td>Washakie, Wyoming, US</td>\n      <td>11569.506726</td>\n      <td>2.879291</td>\n    </tr>\n    <tr>\n      <th>3928</th>\n      <td>56045.0</td>\n      <td>Weston</td>\n      <td>Wyoming</td>\n      <td>US</td>\n      <td>2021-05-01 04:20:47</td>\n      <td>43.839612</td>\n      <td>-104.567488</td>\n      <td>650</td>\n      <td>5</td>\n      <td>NaN</td>\n      <td>NaN</td>\n      <td>Weston, Wyoming, US</td>\n      <td>9383.571532</td>\n      <td>0.769231</td>\n    </tr>\n  </tbody>\n</table>\n<p>3277 rows × 14 columns</p>\n</div>"
     },
     "metadata": {},
     "execution_count": 47
    }
   ],
   "source": [
    "daily_report[daily_report['Country_Region'] == 'US']"
   ]
  },
  {
   "cell_type": "code",
   "execution_count": 48,
   "metadata": {},
   "outputs": [
    {
     "output_type": "stream",
     "name": "stdout",
     "text": [
      "Country_Region    Taiwan*\nConfirmed            1128\nName: 643, dtype: object\n"
     ]
    },
    {
     "output_type": "execute_result",
     "data": {
      "text/plain": [
       "    Country_Region  Confirmed\n",
       "643        Taiwan*       1128"
      ],
      "text/html": "<div>\n<style scoped>\n    .dataframe tbody tr th:only-of-type {\n        vertical-align: middle;\n    }\n\n    .dataframe tbody tr th {\n        vertical-align: top;\n    }\n\n    .dataframe thead th {\n        text-align: right;\n    }\n</style>\n<table border=\"1\" class=\"dataframe\">\n  <thead>\n    <tr style=\"text-align: right;\">\n      <th></th>\n      <th>Country_Region</th>\n      <th>Confirmed</th>\n    </tr>\n  </thead>\n  <tbody>\n    <tr>\n      <th>643</th>\n      <td>Taiwan*</td>\n      <td>1128</td>\n    </tr>\n  </tbody>\n</table>\n</div>"
     },
     "metadata": {},
     "execution_count": 48
    }
   ],
   "source": [
    "print(daily_report.loc[643, ['Country_Region', 'Confirmed']]) # as Series \n",
    "daily_report.loc[[643], ['Country_Region', 'Confirmed']]# as DataFrame"
   ]
  },
  {
   "cell_type": "code",
   "execution_count": 49,
   "metadata": {},
   "outputs": [
    {
     "output_type": "stream",
     "name": "stdout",
     "text": [
      "Country_Region      US\nConfirmed         4174\nName: 3388, dtype: object\n"
     ]
    },
    {
     "output_type": "execute_result",
     "data": {
      "text/plain": [
       "     Country_Region  Confirmed\n",
       "3388             US       4174"
      ],
      "text/html": "<div>\n<style scoped>\n    .dataframe tbody tr th:only-of-type {\n        vertical-align: middle;\n    }\n\n    .dataframe tbody tr th {\n        vertical-align: top;\n    }\n\n    .dataframe thead th {\n        text-align: right;\n    }\n</style>\n<table border=\"1\" class=\"dataframe\">\n  <thead>\n    <tr style=\"text-align: right;\">\n      <th></th>\n      <th>Country_Region</th>\n      <th>Confirmed</th>\n    </tr>\n  </thead>\n  <tbody>\n    <tr>\n      <th>3388</th>\n      <td>US</td>\n      <td>4174</td>\n    </tr>\n  </tbody>\n</table>\n</div>"
     },
     "metadata": {},
     "execution_count": 49
    }
   ],
   "source": [
    "print(daily_report.iloc[3388, [3, 7]]) # as Series \n",
    "daily_report.iloc[[3388], [3, 7]] # as DataFrame"
   ]
  },
  {
   "cell_type": "markdown",
   "metadata": {},
   "source": [
    "## 05.01.2021"
   ]
  },
  {
   "cell_type": "markdown",
   "metadata": {},
   "source": [
    "### Dealing with missing values\n",
    "\n",
    "- Using isnull or notnull to check if np.NaN exists\n",
    "- Using dropna to drop rows with np.NaN\n",
    "- Using fillna to fill np.NaN with specific values"
   ]
  },
  {
   "cell_type": "code",
   "execution_count": 50,
   "metadata": {},
   "outputs": [
    {
     "output_type": "execute_result",
     "data": {
      "text/plain": [
       "   FIPS Admin2                Province_State       Country_Region  \\\n",
       "0   NaN    NaN                           NaN          Afghanistan   \n",
       "1   NaN    NaN                           NaN              Albania   \n",
       "2   NaN    NaN                           NaN              Algeria   \n",
       "3   NaN    NaN                           NaN              Andorra   \n",
       "4   NaN    NaN                           NaN               Angola   \n",
       "5   NaN    NaN                           NaN  Antigua and Barbuda   \n",
       "6   NaN    NaN                           NaN            Argentina   \n",
       "7   NaN    NaN                           NaN              Armenia   \n",
       "8   NaN    NaN  Australian Capital Territory            Australia   \n",
       "9   NaN    NaN               New South Wales            Australia   \n",
       "\n",
       "           Last_Update       Lat       Long_  Confirmed  Deaths  Recovered  \\\n",
       "0  2021-05-01 04:20:47  33.93911   67.709953      59745    2625    53206.0   \n",
       "1  2021-05-01 04:20:47  41.15330   20.168300     131085    2394   109338.0   \n",
       "2  2021-05-01 04:20:47  28.03390    1.659600     122108    3253    85108.0   \n",
       "3  2021-05-01 04:20:47  42.50630    1.521800      13232     125    12684.0   \n",
       "4  2021-05-01 04:20:47 -11.20270   17.873900      26652     596    23876.0   \n",
       "5  2021-05-01 04:20:47  17.06080  -61.796400       1232      32     1014.0   \n",
       "6  2021-05-01 04:20:47 -38.41610  -63.616700    2977363   63865  2634306.0   \n",
       "7  2021-05-01 04:20:47  40.06910   45.038200     216064    4108   198135.0   \n",
       "8  2021-05-01 04:20:47 -35.47350  149.012400        124       3      120.0   \n",
       "9  2021-05-01 04:20:47 -33.86880  151.209300       5481      54        0.0   \n",
       "\n",
       "     Active                             Combined_Key  Incident_Rate  \\\n",
       "0    3914.0                              Afghanistan     153.474303   \n",
       "1   19353.0                                  Albania    4555.042046   \n",
       "2   33747.0                                  Algeria     278.460879   \n",
       "3     423.0                                  Andorra   17125.477254   \n",
       "4    2180.0                                   Angola      81.092262   \n",
       "5     186.0                      Antigua and Barbuda    1258.067151   \n",
       "6  279192.0                                Argentina    6587.701767   \n",
       "7   13821.0                                  Armenia    7291.493011   \n",
       "8       1.0  Australian Capital Territory, Australia      28.965195   \n",
       "9    5427.0               New South Wales, Australia      67.516630   \n",
       "\n",
       "   Case_Fatality_Ratio  \n",
       "0             4.393673  \n",
       "1             1.826296  \n",
       "2             2.664035  \n",
       "3             0.944680  \n",
       "4             2.236230  \n",
       "5             2.597403  \n",
       "6             2.145019  \n",
       "7             1.901289  \n",
       "8             2.419355  \n",
       "9             0.985222  "
      ],
      "text/html": "<div>\n<style scoped>\n    .dataframe tbody tr th:only-of-type {\n        vertical-align: middle;\n    }\n\n    .dataframe tbody tr th {\n        vertical-align: top;\n    }\n\n    .dataframe thead th {\n        text-align: right;\n    }\n</style>\n<table border=\"1\" class=\"dataframe\">\n  <thead>\n    <tr style=\"text-align: right;\">\n      <th></th>\n      <th>FIPS</th>\n      <th>Admin2</th>\n      <th>Province_State</th>\n      <th>Country_Region</th>\n      <th>Last_Update</th>\n      <th>Lat</th>\n      <th>Long_</th>\n      <th>Confirmed</th>\n      <th>Deaths</th>\n      <th>Recovered</th>\n      <th>Active</th>\n      <th>Combined_Key</th>\n      <th>Incident_Rate</th>\n      <th>Case_Fatality_Ratio</th>\n    </tr>\n  </thead>\n  <tbody>\n    <tr>\n      <th>0</th>\n      <td>NaN</td>\n      <td>NaN</td>\n      <td>NaN</td>\n      <td>Afghanistan</td>\n      <td>2021-05-01 04:20:47</td>\n      <td>33.93911</td>\n      <td>67.709953</td>\n      <td>59745</td>\n      <td>2625</td>\n      <td>53206.0</td>\n      <td>3914.0</td>\n      <td>Afghanistan</td>\n      <td>153.474303</td>\n      <td>4.393673</td>\n    </tr>\n    <tr>\n      <th>1</th>\n      <td>NaN</td>\n      <td>NaN</td>\n      <td>NaN</td>\n      <td>Albania</td>\n      <td>2021-05-01 04:20:47</td>\n      <td>41.15330</td>\n      <td>20.168300</td>\n      <td>131085</td>\n      <td>2394</td>\n      <td>109338.0</td>\n      <td>19353.0</td>\n      <td>Albania</td>\n      <td>4555.042046</td>\n      <td>1.826296</td>\n    </tr>\n    <tr>\n      <th>2</th>\n      <td>NaN</td>\n      <td>NaN</td>\n      <td>NaN</td>\n      <td>Algeria</td>\n      <td>2021-05-01 04:20:47</td>\n      <td>28.03390</td>\n      <td>1.659600</td>\n      <td>122108</td>\n      <td>3253</td>\n      <td>85108.0</td>\n      <td>33747.0</td>\n      <td>Algeria</td>\n      <td>278.460879</td>\n      <td>2.664035</td>\n    </tr>\n    <tr>\n      <th>3</th>\n      <td>NaN</td>\n      <td>NaN</td>\n      <td>NaN</td>\n      <td>Andorra</td>\n      <td>2021-05-01 04:20:47</td>\n      <td>42.50630</td>\n      <td>1.521800</td>\n      <td>13232</td>\n      <td>125</td>\n      <td>12684.0</td>\n      <td>423.0</td>\n      <td>Andorra</td>\n      <td>17125.477254</td>\n      <td>0.944680</td>\n    </tr>\n    <tr>\n      <th>4</th>\n      <td>NaN</td>\n      <td>NaN</td>\n      <td>NaN</td>\n      <td>Angola</td>\n      <td>2021-05-01 04:20:47</td>\n      <td>-11.20270</td>\n      <td>17.873900</td>\n      <td>26652</td>\n      <td>596</td>\n      <td>23876.0</td>\n      <td>2180.0</td>\n      <td>Angola</td>\n      <td>81.092262</td>\n      <td>2.236230</td>\n    </tr>\n    <tr>\n      <th>5</th>\n      <td>NaN</td>\n      <td>NaN</td>\n      <td>NaN</td>\n      <td>Antigua and Barbuda</td>\n      <td>2021-05-01 04:20:47</td>\n      <td>17.06080</td>\n      <td>-61.796400</td>\n      <td>1232</td>\n      <td>32</td>\n      <td>1014.0</td>\n      <td>186.0</td>\n      <td>Antigua and Barbuda</td>\n      <td>1258.067151</td>\n      <td>2.597403</td>\n    </tr>\n    <tr>\n      <th>6</th>\n      <td>NaN</td>\n      <td>NaN</td>\n      <td>NaN</td>\n      <td>Argentina</td>\n      <td>2021-05-01 04:20:47</td>\n      <td>-38.41610</td>\n      <td>-63.616700</td>\n      <td>2977363</td>\n      <td>63865</td>\n      <td>2634306.0</td>\n      <td>279192.0</td>\n      <td>Argentina</td>\n      <td>6587.701767</td>\n      <td>2.145019</td>\n    </tr>\n    <tr>\n      <th>7</th>\n      <td>NaN</td>\n      <td>NaN</td>\n      <td>NaN</td>\n      <td>Armenia</td>\n      <td>2021-05-01 04:20:47</td>\n      <td>40.06910</td>\n      <td>45.038200</td>\n      <td>216064</td>\n      <td>4108</td>\n      <td>198135.0</td>\n      <td>13821.0</td>\n      <td>Armenia</td>\n      <td>7291.493011</td>\n      <td>1.901289</td>\n    </tr>\n    <tr>\n      <th>8</th>\n      <td>NaN</td>\n      <td>NaN</td>\n      <td>Australian Capital Territory</td>\n      <td>Australia</td>\n      <td>2021-05-01 04:20:47</td>\n      <td>-35.47350</td>\n      <td>149.012400</td>\n      <td>124</td>\n      <td>3</td>\n      <td>120.0</td>\n      <td>1.0</td>\n      <td>Australian Capital Territory, Australia</td>\n      <td>28.965195</td>\n      <td>2.419355</td>\n    </tr>\n    <tr>\n      <th>9</th>\n      <td>NaN</td>\n      <td>NaN</td>\n      <td>New South Wales</td>\n      <td>Australia</td>\n      <td>2021-05-01 04:20:47</td>\n      <td>-33.86880</td>\n      <td>151.209300</td>\n      <td>5481</td>\n      <td>54</td>\n      <td>0.0</td>\n      <td>5427.0</td>\n      <td>New South Wales, Australia</td>\n      <td>67.516630</td>\n      <td>0.985222</td>\n    </tr>\n  </tbody>\n</table>\n</div>"
     },
     "metadata": {},
     "execution_count": 50
    }
   ],
   "source": [
    "daily_report.head(10)"
   ]
  },
  {
   "cell_type": "code",
   "execution_count": 51,
   "metadata": {},
   "outputs": [
    {
     "output_type": "stream",
     "name": "stdout",
     "text": [
      "3983\n171\n3812\n"
     ]
    }
   ],
   "source": [
    "print(daily_report['Province_State'].size)\n",
    "print(daily_report['Province_State'].isnull().sum())\n",
    "print(daily_report['Province_State'].notnull().sum())"
   ]
  },
  {
   "cell_type": "code",
   "execution_count": 52,
   "metadata": {},
   "outputs": [
    {
     "output_type": "execute_result",
     "data": {
      "text/plain": [
       "         FIPS      Admin2 Province_State Country_Region          Last_Update  \\\n",
       "652    1001.0     Autauga        Alabama             US  2021-05-01 04:20:47   \n",
       "653    1003.0     Baldwin        Alabama             US  2021-05-01 04:20:47   \n",
       "654    1005.0     Barbour        Alabama             US  2021-05-01 04:20:47   \n",
       "655    1007.0        Bibb        Alabama             US  2021-05-01 04:20:47   \n",
       "656    1009.0      Blount        Alabama             US  2021-05-01 04:20:47   \n",
       "...       ...         ...            ...            ...                  ...   \n",
       "3924  56039.0       Teton        Wyoming             US  2021-05-01 04:20:47   \n",
       "3925  56041.0       Uinta        Wyoming             US  2021-05-01 04:20:47   \n",
       "3926  90056.0  Unassigned        Wyoming             US  2021-05-01 04:20:47   \n",
       "3927  56043.0    Washakie        Wyoming             US  2021-05-01 04:20:47   \n",
       "3928  56045.0      Weston        Wyoming             US  2021-05-01 04:20:47   \n",
       "\n",
       "            Lat       Long_  Confirmed  Deaths  Recovered  Active  \\\n",
       "652   32.539527  -86.644082       6904     107        NaN     NaN   \n",
       "653   30.727750  -87.722071      20941     305        NaN     NaN   \n",
       "654   31.868263  -85.387129       2300      56        NaN     NaN   \n",
       "655   32.996421  -87.125115       2594      63        NaN     NaN   \n",
       "656   33.982109  -86.567906       6613     135        NaN     NaN   \n",
       "...         ...         ...        ...     ...        ...     ...   \n",
       "3924  43.935225 -110.589080       3732       9        NaN     NaN   \n",
       "3925  41.287818 -110.547578       2183      12        NaN     NaN   \n",
       "3926        NaN         NaN          0       0        NaN     NaN   \n",
       "3927  43.904516 -107.680187        903      26        NaN     NaN   \n",
       "3928  43.839612 -104.567488        650       5        NaN     NaN   \n",
       "\n",
       "                 Combined_Key  Incident_Rate  Case_Fatality_Ratio  \n",
       "652      Autauga, Alabama, US   12357.479103             1.549826  \n",
       "653      Baldwin, Alabama, US    9380.739493             1.456473  \n",
       "654      Barbour, Alabama, US    9317.021794             2.434783  \n",
       "655         Bibb, Alabama, US   11583.459855             2.428682  \n",
       "656       Blount, Alabama, US   11436.032235             2.041434  \n",
       "...                       ...            ...                  ...  \n",
       "3924       Teton, Wyoming, US   15905.216502             0.241158  \n",
       "3925       Uinta, Wyoming, US   10793.038663             0.549702  \n",
       "3926  Unassigned, Wyoming, US            NaN                  NaN  \n",
       "3927    Washakie, Wyoming, US   11569.506726             2.879291  \n",
       "3928      Weston, Wyoming, US    9383.571532             0.769231  \n",
       "\n",
       "[3277 rows x 14 columns]"
      ],
      "text/html": "<div>\n<style scoped>\n    .dataframe tbody tr th:only-of-type {\n        vertical-align: middle;\n    }\n\n    .dataframe tbody tr th {\n        vertical-align: top;\n    }\n\n    .dataframe thead th {\n        text-align: right;\n    }\n</style>\n<table border=\"1\" class=\"dataframe\">\n  <thead>\n    <tr style=\"text-align: right;\">\n      <th></th>\n      <th>FIPS</th>\n      <th>Admin2</th>\n      <th>Province_State</th>\n      <th>Country_Region</th>\n      <th>Last_Update</th>\n      <th>Lat</th>\n      <th>Long_</th>\n      <th>Confirmed</th>\n      <th>Deaths</th>\n      <th>Recovered</th>\n      <th>Active</th>\n      <th>Combined_Key</th>\n      <th>Incident_Rate</th>\n      <th>Case_Fatality_Ratio</th>\n    </tr>\n  </thead>\n  <tbody>\n    <tr>\n      <th>652</th>\n      <td>1001.0</td>\n      <td>Autauga</td>\n      <td>Alabama</td>\n      <td>US</td>\n      <td>2021-05-01 04:20:47</td>\n      <td>32.539527</td>\n      <td>-86.644082</td>\n      <td>6904</td>\n      <td>107</td>\n      <td>NaN</td>\n      <td>NaN</td>\n      <td>Autauga, Alabama, US</td>\n      <td>12357.479103</td>\n      <td>1.549826</td>\n    </tr>\n    <tr>\n      <th>653</th>\n      <td>1003.0</td>\n      <td>Baldwin</td>\n      <td>Alabama</td>\n      <td>US</td>\n      <td>2021-05-01 04:20:47</td>\n      <td>30.727750</td>\n      <td>-87.722071</td>\n      <td>20941</td>\n      <td>305</td>\n      <td>NaN</td>\n      <td>NaN</td>\n      <td>Baldwin, Alabama, US</td>\n      <td>9380.739493</td>\n      <td>1.456473</td>\n    </tr>\n    <tr>\n      <th>654</th>\n      <td>1005.0</td>\n      <td>Barbour</td>\n      <td>Alabama</td>\n      <td>US</td>\n      <td>2021-05-01 04:20:47</td>\n      <td>31.868263</td>\n      <td>-85.387129</td>\n      <td>2300</td>\n      <td>56</td>\n      <td>NaN</td>\n      <td>NaN</td>\n      <td>Barbour, Alabama, US</td>\n      <td>9317.021794</td>\n      <td>2.434783</td>\n    </tr>\n    <tr>\n      <th>655</th>\n      <td>1007.0</td>\n      <td>Bibb</td>\n      <td>Alabama</td>\n      <td>US</td>\n      <td>2021-05-01 04:20:47</td>\n      <td>32.996421</td>\n      <td>-87.125115</td>\n      <td>2594</td>\n      <td>63</td>\n      <td>NaN</td>\n      <td>NaN</td>\n      <td>Bibb, Alabama, US</td>\n      <td>11583.459855</td>\n      <td>2.428682</td>\n    </tr>\n    <tr>\n      <th>656</th>\n      <td>1009.0</td>\n      <td>Blount</td>\n      <td>Alabama</td>\n      <td>US</td>\n      <td>2021-05-01 04:20:47</td>\n      <td>33.982109</td>\n      <td>-86.567906</td>\n      <td>6613</td>\n      <td>135</td>\n      <td>NaN</td>\n      <td>NaN</td>\n      <td>Blount, Alabama, US</td>\n      <td>11436.032235</td>\n      <td>2.041434</td>\n    </tr>\n    <tr>\n      <th>...</th>\n      <td>...</td>\n      <td>...</td>\n      <td>...</td>\n      <td>...</td>\n      <td>...</td>\n      <td>...</td>\n      <td>...</td>\n      <td>...</td>\n      <td>...</td>\n      <td>...</td>\n      <td>...</td>\n      <td>...</td>\n      <td>...</td>\n      <td>...</td>\n    </tr>\n    <tr>\n      <th>3924</th>\n      <td>56039.0</td>\n      <td>Teton</td>\n      <td>Wyoming</td>\n      <td>US</td>\n      <td>2021-05-01 04:20:47</td>\n      <td>43.935225</td>\n      <td>-110.589080</td>\n      <td>3732</td>\n      <td>9</td>\n      <td>NaN</td>\n      <td>NaN</td>\n      <td>Teton, Wyoming, US</td>\n      <td>15905.216502</td>\n      <td>0.241158</td>\n    </tr>\n    <tr>\n      <th>3925</th>\n      <td>56041.0</td>\n      <td>Uinta</td>\n      <td>Wyoming</td>\n      <td>US</td>\n      <td>2021-05-01 04:20:47</td>\n      <td>41.287818</td>\n      <td>-110.547578</td>\n      <td>2183</td>\n      <td>12</td>\n      <td>NaN</td>\n      <td>NaN</td>\n      <td>Uinta, Wyoming, US</td>\n      <td>10793.038663</td>\n      <td>0.549702</td>\n    </tr>\n    <tr>\n      <th>3926</th>\n      <td>90056.0</td>\n      <td>Unassigned</td>\n      <td>Wyoming</td>\n      <td>US</td>\n      <td>2021-05-01 04:20:47</td>\n      <td>NaN</td>\n      <td>NaN</td>\n      <td>0</td>\n      <td>0</td>\n      <td>NaN</td>\n      <td>NaN</td>\n      <td>Unassigned, Wyoming, US</td>\n      <td>NaN</td>\n      <td>NaN</td>\n    </tr>\n    <tr>\n      <th>3927</th>\n      <td>56043.0</td>\n      <td>Washakie</td>\n      <td>Wyoming</td>\n      <td>US</td>\n      <td>2021-05-01 04:20:47</td>\n      <td>43.904516</td>\n      <td>-107.680187</td>\n      <td>903</td>\n      <td>26</td>\n      <td>NaN</td>\n      <td>NaN</td>\n      <td>Washakie, Wyoming, US</td>\n      <td>11569.506726</td>\n      <td>2.879291</td>\n    </tr>\n    <tr>\n      <th>3928</th>\n      <td>56045.0</td>\n      <td>Weston</td>\n      <td>Wyoming</td>\n      <td>US</td>\n      <td>2021-05-01 04:20:47</td>\n      <td>43.839612</td>\n      <td>-104.567488</td>\n      <td>650</td>\n      <td>5</td>\n      <td>NaN</td>\n      <td>NaN</td>\n      <td>Weston, Wyoming, US</td>\n      <td>9383.571532</td>\n      <td>0.769231</td>\n    </tr>\n  </tbody>\n</table>\n<p>3277 rows × 14 columns</p>\n</div>"
     },
     "metadata": {},
     "execution_count": 52
    }
   ],
   "source": [
    "daily_report[daily_report['Country_Region'] == 'US']\n",
    "#daily_report.dropna()       #drop any row that has a nan value\n",
    "#print(daily_report['FIPS'].fillna(0))\n",
    "# daily_report.dropna(axis=1) #drop any column that has a nan value"
   ]
  },
  {
   "cell_type": "code",
   "execution_count": 53,
   "metadata": {},
   "outputs": [
    {
     "output_type": "execute_result",
     "data": {
      "text/plain": [
       "0       1111.0\n",
       "1       1111.0\n",
       "2       1111.0\n",
       "3       1111.0\n",
       "4       1111.0\n",
       "         ...  \n",
       "3978    1111.0\n",
       "3979    1111.0\n",
       "3980    1111.0\n",
       "3981    1111.0\n",
       "3982    1111.0\n",
       "Name: FIPS, Length: 3983, dtype: float64"
      ]
     },
     "metadata": {},
     "execution_count": 53
    }
   ],
   "source": [
    "daily_report['FIPS'].fillna(1111)"
   ]
  },
  {
   "cell_type": "markdown",
   "metadata": {},
   "source": [
    "### Splitting Strings with str.split as a series"
   ]
  },
  {
   "cell_type": "code",
   "execution_count": 54,
   "metadata": {},
   "outputs": [
    {
     "output_type": "execute_result",
     "data": {
      "text/plain": [
       "['Skywalker', 'Luke']"
      ]
     },
     "metadata": {},
     "execution_count": 54
    }
   ],
   "source": [
    "luke_skywalker = \"Skywalker, Luke\"\n",
    "luke_skywalker.split(', ')"
   ]
  },
  {
   "cell_type": "code",
   "execution_count": 55,
   "metadata": {},
   "outputs": [
    {
     "output_type": "execute_result",
     "data": {
      "text/plain": [
       "['Luke Skywalker', 'Anakin Skywalker']"
      ]
     },
     "metadata": {},
     "execution_count": 55
    }
   ],
   "source": [
    "skywalkers = ['Luke Skywalker', 'Anakin Skywalker']\n",
    "skywalkers"
   ]
  },
  {
   "cell_type": "code",
   "execution_count": 56,
   "metadata": {},
   "outputs": [
    {
     "output_type": "execute_result",
     "data": {
      "text/plain": [
       "652        [Autauga, Alabama, US]\n",
       "653        [Baldwin, Alabama, US]\n",
       "654        [Barbour, Alabama, US]\n",
       "655           [Bibb, Alabama, US]\n",
       "656         [Blount, Alabama, US]\n",
       "                  ...            \n",
       "3924         [Teton, Wyoming, US]\n",
       "3925         [Uinta, Wyoming, US]\n",
       "3926    [Unassigned, Wyoming, US]\n",
       "3927      [Washakie, Wyoming, US]\n",
       "3928        [Weston, Wyoming, US]\n",
       "Name: Combined_Key, Length: 3277, dtype: object"
      ]
     },
     "metadata": {},
     "execution_count": 56
    }
   ],
   "source": [
    "split_pattern = ', '\n",
    "daily_report[daily_report['Country_Region']=='US']['Combined_Key'].str.split(split_pattern)"
   ]
  },
  {
   "cell_type": "code",
   "execution_count": 57,
   "metadata": {},
   "outputs": [
    {
     "output_type": "execute_result",
     "data": {
      "text/plain": [
       "               0        1   2\n",
       "652      Autauga  Alabama  US\n",
       "653      Baldwin  Alabama  US\n",
       "654      Barbour  Alabama  US\n",
       "655         Bibb  Alabama  US\n",
       "656       Blount  Alabama  US\n",
       "...          ...      ...  ..\n",
       "3924       Teton  Wyoming  US\n",
       "3925       Uinta  Wyoming  US\n",
       "3926  Unassigned  Wyoming  US\n",
       "3927    Washakie  Wyoming  US\n",
       "3928      Weston  Wyoming  US\n",
       "\n",
       "[3277 rows x 3 columns]"
      ],
      "text/html": "<div>\n<style scoped>\n    .dataframe tbody tr th:only-of-type {\n        vertical-align: middle;\n    }\n\n    .dataframe tbody tr th {\n        vertical-align: top;\n    }\n\n    .dataframe thead th {\n        text-align: right;\n    }\n</style>\n<table border=\"1\" class=\"dataframe\">\n  <thead>\n    <tr style=\"text-align: right;\">\n      <th></th>\n      <th>0</th>\n      <th>1</th>\n      <th>2</th>\n    </tr>\n  </thead>\n  <tbody>\n    <tr>\n      <th>652</th>\n      <td>Autauga</td>\n      <td>Alabama</td>\n      <td>US</td>\n    </tr>\n    <tr>\n      <th>653</th>\n      <td>Baldwin</td>\n      <td>Alabama</td>\n      <td>US</td>\n    </tr>\n    <tr>\n      <th>654</th>\n      <td>Barbour</td>\n      <td>Alabama</td>\n      <td>US</td>\n    </tr>\n    <tr>\n      <th>655</th>\n      <td>Bibb</td>\n      <td>Alabama</td>\n      <td>US</td>\n    </tr>\n    <tr>\n      <th>656</th>\n      <td>Blount</td>\n      <td>Alabama</td>\n      <td>US</td>\n    </tr>\n    <tr>\n      <th>...</th>\n      <td>...</td>\n      <td>...</td>\n      <td>...</td>\n    </tr>\n    <tr>\n      <th>3924</th>\n      <td>Teton</td>\n      <td>Wyoming</td>\n      <td>US</td>\n    </tr>\n    <tr>\n      <th>3925</th>\n      <td>Uinta</td>\n      <td>Wyoming</td>\n      <td>US</td>\n    </tr>\n    <tr>\n      <th>3926</th>\n      <td>Unassigned</td>\n      <td>Wyoming</td>\n      <td>US</td>\n    </tr>\n    <tr>\n      <th>3927</th>\n      <td>Washakie</td>\n      <td>Wyoming</td>\n      <td>US</td>\n    </tr>\n    <tr>\n      <th>3928</th>\n      <td>Weston</td>\n      <td>Wyoming</td>\n      <td>US</td>\n    </tr>\n  </tbody>\n</table>\n<p>3277 rows × 3 columns</p>\n</div>"
     },
     "metadata": {},
     "execution_count": 57
    }
   ],
   "source": [
    "split_pattern = ', '\n",
    "us_combined_key = daily_report[daily_report['Country_Region']=='US']['Combined_Key']\n",
    "us_combined_key .str.split(split_pattern, expand=True)  #give the output as a dataframe\n"
   ]
  },
  {
   "cell_type": "code",
   "execution_count": 58,
   "metadata": {},
   "outputs": [
    {
     "output_type": "stream",
     "name": "stdout",
     "text": [
      "                       Rank & Title  IMDb Rating  \\\n0                1.  刺激1995  (1994)          9.2   \n1                    2.  教父  (1972)          9.1   \n2                 3.  教父第二集  (1974)          9.0   \n3                  4.  黑暗騎士  (2008)          9.0   \n4                  5.  十二怒漢  (1957)          8.9   \n..                              ...          ...   \n245          246.  Ratsasan  (2018)          8.0   \n246                247.  較量  (2013)          8.0   \n247            248.  電影版聲之形  (2016)          8.0   \n248  249.  新世紀福音戰士：AIR/真心為你  (1997)          8.0   \n249                250.  故土  (2004)          8.0   \n\n                            Your Rating  \n0    12345678910 NOT YET RELEASED  Seen  \n1    12345678910 NOT YET RELEASED  Seen  \n2    12345678910 NOT YET RELEASED  Seen  \n3    12345678910 NOT YET RELEASED  Seen  \n4    12345678910 NOT YET RELEASED  Seen  \n..                                  ...  \n245  12345678910 NOT YET RELEASED  Seen  \n246  12345678910 NOT YET RELEASED  Seen  \n247  12345678910 NOT YET RELEASED  Seen  \n248  12345678910 NOT YET RELEASED  Seen  \n249  12345678910 NOT YET RELEASED  Seen  \n\n[250 rows x 3 columns]\n"
     ]
    }
   ],
   "source": [
    "request_url = \"https://www.imdb.com/chart/top\"\n",
    "df_list = pd.read_html(request_url)\n",
    "movies = df_list[0]\n",
    "no_nan = movies.dropna(axis=1)\n",
    "print(no_nan)\n"
   ]
  },
  {
   "cell_type": "markdown",
   "metadata": {},
   "source": [
    "## RE Expression 正規表達式"
   ]
  },
  {
   "cell_type": "markdown",
   "metadata": {},
   "source": [
    "https://docs.python.org/3/library/re.html"
   ]
  },
  {
   "cell_type": "code",
   "execution_count": 59,
   "metadata": {},
   "outputs": [
    {
     "output_type": "stream",
     "name": "stderr",
     "text": [
      "<ipython-input-59-ded9540ef138>:5: FutureWarning: The default value of regex will change from True to False in a future version.\n  years = years.str.replace('\\(|\\)','')      #RE Expression\n"
     ]
    },
    {
     "output_type": "execute_result",
     "data": {
      "text/plain": [
       "     rank             title  year\n",
       "0      1.            刺激1995  1994\n",
       "1      2.                教父  1972\n",
       "2      3.             教父第二集  1974\n",
       "3      4.              黑暗騎士  2008\n",
       "4      5.              十二怒漢  1957\n",
       "..    ...               ...   ...\n",
       "245  246.          Ratsasan  2018\n",
       "246  247.                較量  2013\n",
       "247  248.            電影版聲之形  2016\n",
       "248  249.  新世紀福音戰士：AIR/真心為你  1997\n",
       "249  250.                故土  2004\n",
       "\n",
       "[250 rows x 3 columns]"
      ],
      "text/html": "<div>\n<style scoped>\n    .dataframe tbody tr th:only-of-type {\n        vertical-align: middle;\n    }\n\n    .dataframe tbody tr th {\n        vertical-align: top;\n    }\n\n    .dataframe thead th {\n        text-align: right;\n    }\n</style>\n<table border=\"1\" class=\"dataframe\">\n  <thead>\n    <tr style=\"text-align: right;\">\n      <th></th>\n      <th>rank</th>\n      <th>title</th>\n      <th>year</th>\n    </tr>\n  </thead>\n  <tbody>\n    <tr>\n      <th>0</th>\n      <td>1.</td>\n      <td>刺激1995</td>\n      <td>1994</td>\n    </tr>\n    <tr>\n      <th>1</th>\n      <td>2.</td>\n      <td>教父</td>\n      <td>1972</td>\n    </tr>\n    <tr>\n      <th>2</th>\n      <td>3.</td>\n      <td>教父第二集</td>\n      <td>1974</td>\n    </tr>\n    <tr>\n      <th>3</th>\n      <td>4.</td>\n      <td>黑暗騎士</td>\n      <td>2008</td>\n    </tr>\n    <tr>\n      <th>4</th>\n      <td>5.</td>\n      <td>十二怒漢</td>\n      <td>1957</td>\n    </tr>\n    <tr>\n      <th>...</th>\n      <td>...</td>\n      <td>...</td>\n      <td>...</td>\n    </tr>\n    <tr>\n      <th>245</th>\n      <td>246.</td>\n      <td>Ratsasan</td>\n      <td>2018</td>\n    </tr>\n    <tr>\n      <th>246</th>\n      <td>247.</td>\n      <td>較量</td>\n      <td>2013</td>\n    </tr>\n    <tr>\n      <th>247</th>\n      <td>248.</td>\n      <td>電影版聲之形</td>\n      <td>2016</td>\n    </tr>\n    <tr>\n      <th>248</th>\n      <td>249.</td>\n      <td>新世紀福音戰士：AIR/真心為你</td>\n      <td>1997</td>\n    </tr>\n    <tr>\n      <th>249</th>\n      <td>250.</td>\n      <td>故土</td>\n      <td>2004</td>\n    </tr>\n  </tbody>\n</table>\n<p>250 rows × 3 columns</p>\n</div>"
     },
     "metadata": {},
     "execution_count": 59
    }
   ],
   "source": [
    "titles = movies['Rank & Title'].str.split(expand=True)[1] #split the year and the title\n",
    "ranks =  movies['Rank & Title'].str.split(expand=True)[0]\n",
    "ranks = ranks.str.replace(',',' ')  #clear the comma\n",
    "years = movies['Rank & Title'].str.split(expand=True)[2]\n",
    "years = years.str.replace('\\(|\\)','')      #RE Expression\n",
    "#years.str.replace('(', ' ').str.replace(')', ' ').astype(int)\n",
    "tidy_movies = pd.DataFrame()\n",
    "tidy_movies['rank']=ranks\n",
    "tidy_movies['title']=titles\n",
    "tidy_movies['year']=years\n",
    "tidy_movies"
   ]
  },
  {
   "cell_type": "markdown",
   "metadata": {},
   "source": [
    "### Testing for strings that contain a pattern with str.contains"
   ]
  },
  {
   "cell_type": "code",
   "execution_count": 60,
   "metadata": {},
   "outputs": [
    {
     "output_type": "execute_result",
     "data": {
      "text/plain": [
       "<bound method Series.unique of 204             Finland\n",
       "248             Iceland\n",
       "289             Ireland\n",
       "385    Marshall Islands\n",
       "430         Netherlands\n",
       "431         Netherlands\n",
       "432         Netherlands\n",
       "433         Netherlands\n",
       "434         Netherlands\n",
       "435         Netherlands\n",
       "436         Netherlands\n",
       "437         Netherlands\n",
       "438         Netherlands\n",
       "439         Netherlands\n",
       "440         Netherlands\n",
       "441         Netherlands\n",
       "442         Netherlands\n",
       "443         Netherlands\n",
       "444         Netherlands\n",
       "445         Netherlands\n",
       "446         Netherlands\n",
       "447         New Zealand\n",
       "491              Poland\n",
       "593     Solomon Islands\n",
       "641         Switzerland\n",
       "646            Thailand\n",
       "Name: Country_Region, dtype: object>"
      ]
     },
     "metadata": {},
     "execution_count": 60
    }
   ],
   "source": [
    "daily_report[daily_report['Country_Region'].str.contains('land')]['Country_Region'].unique\n"
   ]
  },
  {
   "cell_type": "markdown",
   "metadata": {},
   "source": [
    "### Reshaping dataframes from wide to long format with pd.melt"
   ]
  },
  {
   "cell_type": "code",
   "execution_count": 61,
   "metadata": {},
   "outputs": [
    {
     "output_type": "execute_result",
     "data": {
      "text/plain": [
       "  Province/State Country/Region      Lat      Long  1/22/20  1/23/20  1/24/20  \\\n",
       "0            NaN       Thailand  15.0000  101.0000        2        3        5   \n",
       "1            NaN          Japan  36.0000  138.0000        2        1        2   \n",
       "2            NaN      Singapore   1.2833  103.8333        0        1        3   \n",
       "3            NaN          Nepal  28.1667   84.2500        0        0        0   \n",
       "4            NaN       Malaysia   2.5000  112.5000        0        0        0   \n",
       "\n",
       "   1/25/20  1/26/20  1/27/20  ...  3/14/20  3/15/20  3/16/20  3/17/20  \\\n",
       "0        7        8        8  ...       82      114      147      177   \n",
       "1        2        4        4  ...      773      839      825      878   \n",
       "2        3        4        5  ...      212      226      243      266   \n",
       "3        1        1        1  ...        1        1        1        1   \n",
       "4        3        4        4  ...      238      428      566      673   \n",
       "\n",
       "   3/18/20  3/19/20  3/20/20  3/21/20  3/22/20  3/23/20  \n",
       "0      212      272      322      411      599    599.0  \n",
       "1      889      924      963     1007     1086   1086.0  \n",
       "2      313      345      385      432      455    455.0  \n",
       "3        1        1        1        1        2      2.0  \n",
       "4      790      900     1030     1183     1306   1306.0  \n",
       "\n",
       "[5 rows x 66 columns]"
      ],
      "text/html": "<div>\n<style scoped>\n    .dataframe tbody tr th:only-of-type {\n        vertical-align: middle;\n    }\n\n    .dataframe tbody tr th {\n        vertical-align: top;\n    }\n\n    .dataframe thead th {\n        text-align: right;\n    }\n</style>\n<table border=\"1\" class=\"dataframe\">\n  <thead>\n    <tr style=\"text-align: right;\">\n      <th></th>\n      <th>Province/State</th>\n      <th>Country/Region</th>\n      <th>Lat</th>\n      <th>Long</th>\n      <th>1/22/20</th>\n      <th>1/23/20</th>\n      <th>1/24/20</th>\n      <th>1/25/20</th>\n      <th>1/26/20</th>\n      <th>1/27/20</th>\n      <th>...</th>\n      <th>3/14/20</th>\n      <th>3/15/20</th>\n      <th>3/16/20</th>\n      <th>3/17/20</th>\n      <th>3/18/20</th>\n      <th>3/19/20</th>\n      <th>3/20/20</th>\n      <th>3/21/20</th>\n      <th>3/22/20</th>\n      <th>3/23/20</th>\n    </tr>\n  </thead>\n  <tbody>\n    <tr>\n      <th>0</th>\n      <td>NaN</td>\n      <td>Thailand</td>\n      <td>15.0000</td>\n      <td>101.0000</td>\n      <td>2</td>\n      <td>3</td>\n      <td>5</td>\n      <td>7</td>\n      <td>8</td>\n      <td>8</td>\n      <td>...</td>\n      <td>82</td>\n      <td>114</td>\n      <td>147</td>\n      <td>177</td>\n      <td>212</td>\n      <td>272</td>\n      <td>322</td>\n      <td>411</td>\n      <td>599</td>\n      <td>599.0</td>\n    </tr>\n    <tr>\n      <th>1</th>\n      <td>NaN</td>\n      <td>Japan</td>\n      <td>36.0000</td>\n      <td>138.0000</td>\n      <td>2</td>\n      <td>1</td>\n      <td>2</td>\n      <td>2</td>\n      <td>4</td>\n      <td>4</td>\n      <td>...</td>\n      <td>773</td>\n      <td>839</td>\n      <td>825</td>\n      <td>878</td>\n      <td>889</td>\n      <td>924</td>\n      <td>963</td>\n      <td>1007</td>\n      <td>1086</td>\n      <td>1086.0</td>\n    </tr>\n    <tr>\n      <th>2</th>\n      <td>NaN</td>\n      <td>Singapore</td>\n      <td>1.2833</td>\n      <td>103.8333</td>\n      <td>0</td>\n      <td>1</td>\n      <td>3</td>\n      <td>3</td>\n      <td>4</td>\n      <td>5</td>\n      <td>...</td>\n      <td>212</td>\n      <td>226</td>\n      <td>243</td>\n      <td>266</td>\n      <td>313</td>\n      <td>345</td>\n      <td>385</td>\n      <td>432</td>\n      <td>455</td>\n      <td>455.0</td>\n    </tr>\n    <tr>\n      <th>3</th>\n      <td>NaN</td>\n      <td>Nepal</td>\n      <td>28.1667</td>\n      <td>84.2500</td>\n      <td>0</td>\n      <td>0</td>\n      <td>0</td>\n      <td>1</td>\n      <td>1</td>\n      <td>1</td>\n      <td>...</td>\n      <td>1</td>\n      <td>1</td>\n      <td>1</td>\n      <td>1</td>\n      <td>1</td>\n      <td>1</td>\n      <td>1</td>\n      <td>1</td>\n      <td>2</td>\n      <td>2.0</td>\n    </tr>\n    <tr>\n      <th>4</th>\n      <td>NaN</td>\n      <td>Malaysia</td>\n      <td>2.5000</td>\n      <td>112.5000</td>\n      <td>0</td>\n      <td>0</td>\n      <td>0</td>\n      <td>3</td>\n      <td>4</td>\n      <td>4</td>\n      <td>...</td>\n      <td>238</td>\n      <td>428</td>\n      <td>566</td>\n      <td>673</td>\n      <td>790</td>\n      <td>900</td>\n      <td>1030</td>\n      <td>1183</td>\n      <td>1306</td>\n      <td>1306.0</td>\n    </tr>\n  </tbody>\n</table>\n<p>5 rows × 66 columns</p>\n</div>"
     },
     "metadata": {},
     "execution_count": 61
    }
   ],
   "source": [
    "url = 'https://raw.githubusercontent.com/CSSEGISandData/COVID-19/master/archived_data/archived_time_series/time_series_19-covid-Confirmed_archived_0325.csv'\n",
    "ts_confirmed_global = pd.read_csv(url)\n",
    "ts_confirmed_global.head()"
   ]
  },
  {
   "cell_type": "code",
   "execution_count": 62,
   "metadata": {},
   "outputs": [
    {
     "output_type": "execute_result",
     "data": {
      "text/plain": [
       "      Province/State         Country/Region      Lat      Long     Date  \\\n",
       "0                NaN               Thailand  15.0000  101.0000  1/22/20   \n",
       "1                NaN                  Japan  36.0000  138.0000  1/22/20   \n",
       "2                NaN              Singapore   1.2833  103.8333  1/22/20   \n",
       "3                NaN                  Nepal  28.1667   84.2500  1/22/20   \n",
       "4                NaN               Malaysia   2.5000  112.5000  1/22/20   \n",
       "...              ...                    ...      ...       ...      ...   \n",
       "31057            NaN                 Jersey  49.1900   -2.1100  3/23/20   \n",
       "31058            NaN            Puerto Rico  18.2000  -66.5000  3/23/20   \n",
       "31059            NaN  Republic of the Congo  -1.4400   15.5560  3/23/20   \n",
       "31060            NaN            The Bahamas  24.2500  -76.0000  3/23/20   \n",
       "31061            NaN             The Gambia  13.4667  -16.6000  3/23/20   \n",
       "\n",
       "       Confirmed  \n",
       "0            2.0  \n",
       "1            2.0  \n",
       "2            0.0  \n",
       "3            0.0  \n",
       "4            0.0  \n",
       "...          ...  \n",
       "31057        0.0  \n",
       "31058        0.0  \n",
       "31059        0.0  \n",
       "31060        0.0  \n",
       "31061        0.0  \n",
       "\n",
       "[31062 rows x 6 columns]"
      ],
      "text/html": "<div>\n<style scoped>\n    .dataframe tbody tr th:only-of-type {\n        vertical-align: middle;\n    }\n\n    .dataframe tbody tr th {\n        vertical-align: top;\n    }\n\n    .dataframe thead th {\n        text-align: right;\n    }\n</style>\n<table border=\"1\" class=\"dataframe\">\n  <thead>\n    <tr style=\"text-align: right;\">\n      <th></th>\n      <th>Province/State</th>\n      <th>Country/Region</th>\n      <th>Lat</th>\n      <th>Long</th>\n      <th>Date</th>\n      <th>Confirmed</th>\n    </tr>\n  </thead>\n  <tbody>\n    <tr>\n      <th>0</th>\n      <td>NaN</td>\n      <td>Thailand</td>\n      <td>15.0000</td>\n      <td>101.0000</td>\n      <td>1/22/20</td>\n      <td>2.0</td>\n    </tr>\n    <tr>\n      <th>1</th>\n      <td>NaN</td>\n      <td>Japan</td>\n      <td>36.0000</td>\n      <td>138.0000</td>\n      <td>1/22/20</td>\n      <td>2.0</td>\n    </tr>\n    <tr>\n      <th>2</th>\n      <td>NaN</td>\n      <td>Singapore</td>\n      <td>1.2833</td>\n      <td>103.8333</td>\n      <td>1/22/20</td>\n      <td>0.0</td>\n    </tr>\n    <tr>\n      <th>3</th>\n      <td>NaN</td>\n      <td>Nepal</td>\n      <td>28.1667</td>\n      <td>84.2500</td>\n      <td>1/22/20</td>\n      <td>0.0</td>\n    </tr>\n    <tr>\n      <th>4</th>\n      <td>NaN</td>\n      <td>Malaysia</td>\n      <td>2.5000</td>\n      <td>112.5000</td>\n      <td>1/22/20</td>\n      <td>0.0</td>\n    </tr>\n    <tr>\n      <th>...</th>\n      <td>...</td>\n      <td>...</td>\n      <td>...</td>\n      <td>...</td>\n      <td>...</td>\n      <td>...</td>\n    </tr>\n    <tr>\n      <th>31057</th>\n      <td>NaN</td>\n      <td>Jersey</td>\n      <td>49.1900</td>\n      <td>-2.1100</td>\n      <td>3/23/20</td>\n      <td>0.0</td>\n    </tr>\n    <tr>\n      <th>31058</th>\n      <td>NaN</td>\n      <td>Puerto Rico</td>\n      <td>18.2000</td>\n      <td>-66.5000</td>\n      <td>3/23/20</td>\n      <td>0.0</td>\n    </tr>\n    <tr>\n      <th>31059</th>\n      <td>NaN</td>\n      <td>Republic of the Congo</td>\n      <td>-1.4400</td>\n      <td>15.5560</td>\n      <td>3/23/20</td>\n      <td>0.0</td>\n    </tr>\n    <tr>\n      <th>31060</th>\n      <td>NaN</td>\n      <td>The Bahamas</td>\n      <td>24.2500</td>\n      <td>-76.0000</td>\n      <td>3/23/20</td>\n      <td>0.0</td>\n    </tr>\n    <tr>\n      <th>31061</th>\n      <td>NaN</td>\n      <td>The Gambia</td>\n      <td>13.4667</td>\n      <td>-16.6000</td>\n      <td>3/23/20</td>\n      <td>0.0</td>\n    </tr>\n  </tbody>\n</table>\n<p>31062 rows × 6 columns</p>\n</div>"
     },
     "metadata": {},
     "execution_count": 62
    }
   ],
   "source": [
    "idVars = ['Province/State', 'Country/Region', 'Lat', 'Long']\n",
    "ts_confirmed_global_long = pd.melt(ts_confirmed_global,\n",
    "                                  id_vars=idVars,\n",
    "                                  var_name='Date',\n",
    "                                  value_name='Confirmed')\n",
    "ts_confirmed_global_long"
   ]
  },
  {
   "cell_type": "markdown",
   "metadata": {},
   "source": [
    "### Merging and Joining DataFrames\n"
   ]
  },
  {
   "cell_type": "code",
   "execution_count": 63,
   "metadata": {},
   "outputs": [
    {
     "output_type": "execute_result",
     "data": {
      "text/plain": [
       "    FIPS Admin2 Province_State Country_Region          Last_Update  Lat_x  \\\n",
       "0    NaN    NaN            NaN        Taiwan*  2021-05-01 04:20:47   23.7   \n",
       "1    NaN    NaN            NaN        Taiwan*  2021-05-01 04:20:47   23.7   \n",
       "2    NaN    NaN            NaN        Taiwan*  2021-05-01 04:20:47   23.7   \n",
       "3    NaN    NaN            NaN        Taiwan*  2021-05-01 04:20:47   23.7   \n",
       "4    NaN    NaN            NaN        Taiwan*  2021-05-01 04:20:47   23.7   \n",
       "..   ...    ...            ...            ...                  ...    ...   \n",
       "57   NaN    NaN            NaN        Taiwan*  2021-05-01 04:20:47   23.7   \n",
       "58   NaN    NaN            NaN        Taiwan*  2021-05-01 04:20:47   23.7   \n",
       "59   NaN    NaN            NaN        Taiwan*  2021-05-01 04:20:47   23.7   \n",
       "60   NaN    NaN            NaN        Taiwan*  2021-05-01 04:20:47   23.7   \n",
       "61   NaN    NaN            NaN        Taiwan*  2021-05-01 04:20:47   23.7   \n",
       "\n",
       "    Long_  Confirmed_x  Deaths  Recovered  Active Combined_Key  Incident_Rate  \\\n",
       "0   121.0         1128      12     1053.0    63.0      Taiwan*       4.736158   \n",
       "1   121.0         1128      12     1053.0    63.0      Taiwan*       4.736158   \n",
       "2   121.0         1128      12     1053.0    63.0      Taiwan*       4.736158   \n",
       "3   121.0         1128      12     1053.0    63.0      Taiwan*       4.736158   \n",
       "4   121.0         1128      12     1053.0    63.0      Taiwan*       4.736158   \n",
       "..    ...          ...     ...        ...     ...          ...            ...   \n",
       "57  121.0         1128      12     1053.0    63.0      Taiwan*       4.736158   \n",
       "58  121.0         1128      12     1053.0    63.0      Taiwan*       4.736158   \n",
       "59  121.0         1128      12     1053.0    63.0      Taiwan*       4.736158   \n",
       "60  121.0         1128      12     1053.0    63.0      Taiwan*       4.736158   \n",
       "61  121.0         1128      12     1053.0    63.0      Taiwan*       4.736158   \n",
       "\n",
       "    Case_Fatality_Ratio Province/State Country/Region  Lat_y   Long     Date  \\\n",
       "0               1.06383            NaN        Taiwan*   23.7  121.0  1/22/20   \n",
       "1               1.06383            NaN        Taiwan*   23.7  121.0  1/23/20   \n",
       "2               1.06383            NaN        Taiwan*   23.7  121.0  1/24/20   \n",
       "3               1.06383            NaN        Taiwan*   23.7  121.0  1/25/20   \n",
       "4               1.06383            NaN        Taiwan*   23.7  121.0  1/26/20   \n",
       "..                  ...            ...            ...    ...    ...      ...   \n",
       "57              1.06383            NaN        Taiwan*   23.7  121.0  3/19/20   \n",
       "58              1.06383            NaN        Taiwan*   23.7  121.0  3/20/20   \n",
       "59              1.06383            NaN        Taiwan*   23.7  121.0  3/21/20   \n",
       "60              1.06383            NaN        Taiwan*   23.7  121.0  3/22/20   \n",
       "61              1.06383            NaN        Taiwan*   23.7  121.0  3/23/20   \n",
       "\n",
       "    Confirmed_y  \n",
       "0           1.0  \n",
       "1           1.0  \n",
       "2           3.0  \n",
       "3           3.0  \n",
       "4           4.0  \n",
       "..          ...  \n",
       "57        108.0  \n",
       "58        135.0  \n",
       "59        153.0  \n",
       "60        169.0  \n",
       "61        169.0  \n",
       "\n",
       "[62 rows x 20 columns]"
      ],
      "text/html": "<div>\n<style scoped>\n    .dataframe tbody tr th:only-of-type {\n        vertical-align: middle;\n    }\n\n    .dataframe tbody tr th {\n        vertical-align: top;\n    }\n\n    .dataframe thead th {\n        text-align: right;\n    }\n</style>\n<table border=\"1\" class=\"dataframe\">\n  <thead>\n    <tr style=\"text-align: right;\">\n      <th></th>\n      <th>FIPS</th>\n      <th>Admin2</th>\n      <th>Province_State</th>\n      <th>Country_Region</th>\n      <th>Last_Update</th>\n      <th>Lat_x</th>\n      <th>Long_</th>\n      <th>Confirmed_x</th>\n      <th>Deaths</th>\n      <th>Recovered</th>\n      <th>Active</th>\n      <th>Combined_Key</th>\n      <th>Incident_Rate</th>\n      <th>Case_Fatality_Ratio</th>\n      <th>Province/State</th>\n      <th>Country/Region</th>\n      <th>Lat_y</th>\n      <th>Long</th>\n      <th>Date</th>\n      <th>Confirmed_y</th>\n    </tr>\n  </thead>\n  <tbody>\n    <tr>\n      <th>0</th>\n      <td>NaN</td>\n      <td>NaN</td>\n      <td>NaN</td>\n      <td>Taiwan*</td>\n      <td>2021-05-01 04:20:47</td>\n      <td>23.7</td>\n      <td>121.0</td>\n      <td>1128</td>\n      <td>12</td>\n      <td>1053.0</td>\n      <td>63.0</td>\n      <td>Taiwan*</td>\n      <td>4.736158</td>\n      <td>1.06383</td>\n      <td>NaN</td>\n      <td>Taiwan*</td>\n      <td>23.7</td>\n      <td>121.0</td>\n      <td>1/22/20</td>\n      <td>1.0</td>\n    </tr>\n    <tr>\n      <th>1</th>\n      <td>NaN</td>\n      <td>NaN</td>\n      <td>NaN</td>\n      <td>Taiwan*</td>\n      <td>2021-05-01 04:20:47</td>\n      <td>23.7</td>\n      <td>121.0</td>\n      <td>1128</td>\n      <td>12</td>\n      <td>1053.0</td>\n      <td>63.0</td>\n      <td>Taiwan*</td>\n      <td>4.736158</td>\n      <td>1.06383</td>\n      <td>NaN</td>\n      <td>Taiwan*</td>\n      <td>23.7</td>\n      <td>121.0</td>\n      <td>1/23/20</td>\n      <td>1.0</td>\n    </tr>\n    <tr>\n      <th>2</th>\n      <td>NaN</td>\n      <td>NaN</td>\n      <td>NaN</td>\n      <td>Taiwan*</td>\n      <td>2021-05-01 04:20:47</td>\n      <td>23.7</td>\n      <td>121.0</td>\n      <td>1128</td>\n      <td>12</td>\n      <td>1053.0</td>\n      <td>63.0</td>\n      <td>Taiwan*</td>\n      <td>4.736158</td>\n      <td>1.06383</td>\n      <td>NaN</td>\n      <td>Taiwan*</td>\n      <td>23.7</td>\n      <td>121.0</td>\n      <td>1/24/20</td>\n      <td>3.0</td>\n    </tr>\n    <tr>\n      <th>3</th>\n      <td>NaN</td>\n      <td>NaN</td>\n      <td>NaN</td>\n      <td>Taiwan*</td>\n      <td>2021-05-01 04:20:47</td>\n      <td>23.7</td>\n      <td>121.0</td>\n      <td>1128</td>\n      <td>12</td>\n      <td>1053.0</td>\n      <td>63.0</td>\n      <td>Taiwan*</td>\n      <td>4.736158</td>\n      <td>1.06383</td>\n      <td>NaN</td>\n      <td>Taiwan*</td>\n      <td>23.7</td>\n      <td>121.0</td>\n      <td>1/25/20</td>\n      <td>3.0</td>\n    </tr>\n    <tr>\n      <th>4</th>\n      <td>NaN</td>\n      <td>NaN</td>\n      <td>NaN</td>\n      <td>Taiwan*</td>\n      <td>2021-05-01 04:20:47</td>\n      <td>23.7</td>\n      <td>121.0</td>\n      <td>1128</td>\n      <td>12</td>\n      <td>1053.0</td>\n      <td>63.0</td>\n      <td>Taiwan*</td>\n      <td>4.736158</td>\n      <td>1.06383</td>\n      <td>NaN</td>\n      <td>Taiwan*</td>\n      <td>23.7</td>\n      <td>121.0</td>\n      <td>1/26/20</td>\n      <td>4.0</td>\n    </tr>\n    <tr>\n      <th>...</th>\n      <td>...</td>\n      <td>...</td>\n      <td>...</td>\n      <td>...</td>\n      <td>...</td>\n      <td>...</td>\n      <td>...</td>\n      <td>...</td>\n      <td>...</td>\n      <td>...</td>\n      <td>...</td>\n      <td>...</td>\n      <td>...</td>\n      <td>...</td>\n      <td>...</td>\n      <td>...</td>\n      <td>...</td>\n      <td>...</td>\n      <td>...</td>\n      <td>...</td>\n    </tr>\n    <tr>\n      <th>57</th>\n      <td>NaN</td>\n      <td>NaN</td>\n      <td>NaN</td>\n      <td>Taiwan*</td>\n      <td>2021-05-01 04:20:47</td>\n      <td>23.7</td>\n      <td>121.0</td>\n      <td>1128</td>\n      <td>12</td>\n      <td>1053.0</td>\n      <td>63.0</td>\n      <td>Taiwan*</td>\n      <td>4.736158</td>\n      <td>1.06383</td>\n      <td>NaN</td>\n      <td>Taiwan*</td>\n      <td>23.7</td>\n      <td>121.0</td>\n      <td>3/19/20</td>\n      <td>108.0</td>\n    </tr>\n    <tr>\n      <th>58</th>\n      <td>NaN</td>\n      <td>NaN</td>\n      <td>NaN</td>\n      <td>Taiwan*</td>\n      <td>2021-05-01 04:20:47</td>\n      <td>23.7</td>\n      <td>121.0</td>\n      <td>1128</td>\n      <td>12</td>\n      <td>1053.0</td>\n      <td>63.0</td>\n      <td>Taiwan*</td>\n      <td>4.736158</td>\n      <td>1.06383</td>\n      <td>NaN</td>\n      <td>Taiwan*</td>\n      <td>23.7</td>\n      <td>121.0</td>\n      <td>3/20/20</td>\n      <td>135.0</td>\n    </tr>\n    <tr>\n      <th>59</th>\n      <td>NaN</td>\n      <td>NaN</td>\n      <td>NaN</td>\n      <td>Taiwan*</td>\n      <td>2021-05-01 04:20:47</td>\n      <td>23.7</td>\n      <td>121.0</td>\n      <td>1128</td>\n      <td>12</td>\n      <td>1053.0</td>\n      <td>63.0</td>\n      <td>Taiwan*</td>\n      <td>4.736158</td>\n      <td>1.06383</td>\n      <td>NaN</td>\n      <td>Taiwan*</td>\n      <td>23.7</td>\n      <td>121.0</td>\n      <td>3/21/20</td>\n      <td>153.0</td>\n    </tr>\n    <tr>\n      <th>60</th>\n      <td>NaN</td>\n      <td>NaN</td>\n      <td>NaN</td>\n      <td>Taiwan*</td>\n      <td>2021-05-01 04:20:47</td>\n      <td>23.7</td>\n      <td>121.0</td>\n      <td>1128</td>\n      <td>12</td>\n      <td>1053.0</td>\n      <td>63.0</td>\n      <td>Taiwan*</td>\n      <td>4.736158</td>\n      <td>1.06383</td>\n      <td>NaN</td>\n      <td>Taiwan*</td>\n      <td>23.7</td>\n      <td>121.0</td>\n      <td>3/22/20</td>\n      <td>169.0</td>\n    </tr>\n    <tr>\n      <th>61</th>\n      <td>NaN</td>\n      <td>NaN</td>\n      <td>NaN</td>\n      <td>Taiwan*</td>\n      <td>2021-05-01 04:20:47</td>\n      <td>23.7</td>\n      <td>121.0</td>\n      <td>1128</td>\n      <td>12</td>\n      <td>1053.0</td>\n      <td>63.0</td>\n      <td>Taiwan*</td>\n      <td>4.736158</td>\n      <td>1.06383</td>\n      <td>NaN</td>\n      <td>Taiwan*</td>\n      <td>23.7</td>\n      <td>121.0</td>\n      <td>3/23/20</td>\n      <td>169.0</td>\n    </tr>\n  </tbody>\n</table>\n<p>62 rows × 20 columns</p>\n</div>"
     },
     "metadata": {},
     "execution_count": 63
    }
   ],
   "source": [
    "left_df = daily_report[daily_report['Country_Region'].isin(['Taiwan*', 'Japan'])]\n",
    "right_df = ts_confirmed_global_long[ts_confirmed_global_long['Country/Region'].isin(['Taiwan*', 'Korea, South'])]\n",
    "# default: inner join\n",
    "pd.merge(left_df, right_df, left_on='Country_Region', right_on='Country/Region')"
   ]
  },
  {
   "cell_type": "code",
   "execution_count": 64,
   "metadata": {},
   "outputs": [
    {
     "output_type": "execute_result",
     "data": {
      "text/plain": [
       "     FIPS Admin2 Province_State Country_Region          Last_Update  \\\n",
       "0     NaN    NaN          Aichi          Japan  2021-05-01 04:20:47   \n",
       "1     NaN    NaN          Akita          Japan  2021-05-01 04:20:47   \n",
       "2     NaN    NaN         Aomori          Japan  2021-05-01 04:20:47   \n",
       "3     NaN    NaN          Chiba          Japan  2021-05-01 04:20:47   \n",
       "4     NaN    NaN          Ehime          Japan  2021-05-01 04:20:47   \n",
       "..    ...    ...            ...            ...                  ...   \n",
       "106   NaN    NaN            NaN        Taiwan*  2021-05-01 04:20:47   \n",
       "107   NaN    NaN            NaN        Taiwan*  2021-05-01 04:20:47   \n",
       "108   NaN    NaN            NaN        Taiwan*  2021-05-01 04:20:47   \n",
       "109   NaN    NaN            NaN        Taiwan*  2021-05-01 04:20:47   \n",
       "110   NaN    NaN            NaN        Taiwan*  2021-05-01 04:20:47   \n",
       "\n",
       "         Lat_x       Long_  Confirmed_x  Deaths  Recovered  Active  \\\n",
       "0    35.035551  137.211621        33481     620    29105.0  3756.0   \n",
       "1    39.748679  140.408228          455       9      368.0    78.0   \n",
       "2    40.781541  140.828896         1576      22     1268.0   286.0   \n",
       "3    35.510141  140.198917        33153     621    31179.0  1353.0   \n",
       "4    33.624835  132.856842         2332      40     1897.0   395.0   \n",
       "..         ...         ...          ...     ...        ...     ...   \n",
       "106  23.700000  121.000000         1128      12     1053.0    63.0   \n",
       "107  23.700000  121.000000         1128      12     1053.0    63.0   \n",
       "108  23.700000  121.000000         1128      12     1053.0    63.0   \n",
       "109  23.700000  121.000000         1128      12     1053.0    63.0   \n",
       "110  23.700000  121.000000         1128      12     1053.0    63.0   \n",
       "\n",
       "      Combined_Key  Incident_Rate  Case_Fatality_Ratio Province/State  \\\n",
       "0     Aichi, Japan     443.325483             1.851797            NaN   \n",
       "1     Akita, Japan      47.077569             1.978022            NaN   \n",
       "2    Aomori, Japan     126.447101             1.395939            NaN   \n",
       "3     Chiba, Japan     529.652927             1.873134            NaN   \n",
       "4     Ehime, Japan     174.131861             1.715266            NaN   \n",
       "..             ...            ...                  ...            ...   \n",
       "106        Taiwan*       4.736158             1.063830            NaN   \n",
       "107        Taiwan*       4.736158             1.063830            NaN   \n",
       "108        Taiwan*       4.736158             1.063830            NaN   \n",
       "109        Taiwan*       4.736158             1.063830            NaN   \n",
       "110        Taiwan*       4.736158             1.063830            NaN   \n",
       "\n",
       "    Country/Region  Lat_y   Long     Date  Confirmed_y  \n",
       "0              NaN    NaN    NaN      NaN          NaN  \n",
       "1              NaN    NaN    NaN      NaN          NaN  \n",
       "2              NaN    NaN    NaN      NaN          NaN  \n",
       "3              NaN    NaN    NaN      NaN          NaN  \n",
       "4              NaN    NaN    NaN      NaN          NaN  \n",
       "..             ...    ...    ...      ...          ...  \n",
       "106        Taiwan*   23.7  121.0  3/19/20        108.0  \n",
       "107        Taiwan*   23.7  121.0  3/20/20        135.0  \n",
       "108        Taiwan*   23.7  121.0  3/21/20        153.0  \n",
       "109        Taiwan*   23.7  121.0  3/22/20        169.0  \n",
       "110        Taiwan*   23.7  121.0  3/23/20        169.0  \n",
       "\n",
       "[111 rows x 20 columns]"
      ],
      "text/html": "<div>\n<style scoped>\n    .dataframe tbody tr th:only-of-type {\n        vertical-align: middle;\n    }\n\n    .dataframe tbody tr th {\n        vertical-align: top;\n    }\n\n    .dataframe thead th {\n        text-align: right;\n    }\n</style>\n<table border=\"1\" class=\"dataframe\">\n  <thead>\n    <tr style=\"text-align: right;\">\n      <th></th>\n      <th>FIPS</th>\n      <th>Admin2</th>\n      <th>Province_State</th>\n      <th>Country_Region</th>\n      <th>Last_Update</th>\n      <th>Lat_x</th>\n      <th>Long_</th>\n      <th>Confirmed_x</th>\n      <th>Deaths</th>\n      <th>Recovered</th>\n      <th>Active</th>\n      <th>Combined_Key</th>\n      <th>Incident_Rate</th>\n      <th>Case_Fatality_Ratio</th>\n      <th>Province/State</th>\n      <th>Country/Region</th>\n      <th>Lat_y</th>\n      <th>Long</th>\n      <th>Date</th>\n      <th>Confirmed_y</th>\n    </tr>\n  </thead>\n  <tbody>\n    <tr>\n      <th>0</th>\n      <td>NaN</td>\n      <td>NaN</td>\n      <td>Aichi</td>\n      <td>Japan</td>\n      <td>2021-05-01 04:20:47</td>\n      <td>35.035551</td>\n      <td>137.211621</td>\n      <td>33481</td>\n      <td>620</td>\n      <td>29105.0</td>\n      <td>3756.0</td>\n      <td>Aichi, Japan</td>\n      <td>443.325483</td>\n      <td>1.851797</td>\n      <td>NaN</td>\n      <td>NaN</td>\n      <td>NaN</td>\n      <td>NaN</td>\n      <td>NaN</td>\n      <td>NaN</td>\n    </tr>\n    <tr>\n      <th>1</th>\n      <td>NaN</td>\n      <td>NaN</td>\n      <td>Akita</td>\n      <td>Japan</td>\n      <td>2021-05-01 04:20:47</td>\n      <td>39.748679</td>\n      <td>140.408228</td>\n      <td>455</td>\n      <td>9</td>\n      <td>368.0</td>\n      <td>78.0</td>\n      <td>Akita, Japan</td>\n      <td>47.077569</td>\n      <td>1.978022</td>\n      <td>NaN</td>\n      <td>NaN</td>\n      <td>NaN</td>\n      <td>NaN</td>\n      <td>NaN</td>\n      <td>NaN</td>\n    </tr>\n    <tr>\n      <th>2</th>\n      <td>NaN</td>\n      <td>NaN</td>\n      <td>Aomori</td>\n      <td>Japan</td>\n      <td>2021-05-01 04:20:47</td>\n      <td>40.781541</td>\n      <td>140.828896</td>\n      <td>1576</td>\n      <td>22</td>\n      <td>1268.0</td>\n      <td>286.0</td>\n      <td>Aomori, Japan</td>\n      <td>126.447101</td>\n      <td>1.395939</td>\n      <td>NaN</td>\n      <td>NaN</td>\n      <td>NaN</td>\n      <td>NaN</td>\n      <td>NaN</td>\n      <td>NaN</td>\n    </tr>\n    <tr>\n      <th>3</th>\n      <td>NaN</td>\n      <td>NaN</td>\n      <td>Chiba</td>\n      <td>Japan</td>\n      <td>2021-05-01 04:20:47</td>\n      <td>35.510141</td>\n      <td>140.198917</td>\n      <td>33153</td>\n      <td>621</td>\n      <td>31179.0</td>\n      <td>1353.0</td>\n      <td>Chiba, Japan</td>\n      <td>529.652927</td>\n      <td>1.873134</td>\n      <td>NaN</td>\n      <td>NaN</td>\n      <td>NaN</td>\n      <td>NaN</td>\n      <td>NaN</td>\n      <td>NaN</td>\n    </tr>\n    <tr>\n      <th>4</th>\n      <td>NaN</td>\n      <td>NaN</td>\n      <td>Ehime</td>\n      <td>Japan</td>\n      <td>2021-05-01 04:20:47</td>\n      <td>33.624835</td>\n      <td>132.856842</td>\n      <td>2332</td>\n      <td>40</td>\n      <td>1897.0</td>\n      <td>395.0</td>\n      <td>Ehime, Japan</td>\n      <td>174.131861</td>\n      <td>1.715266</td>\n      <td>NaN</td>\n      <td>NaN</td>\n      <td>NaN</td>\n      <td>NaN</td>\n      <td>NaN</td>\n      <td>NaN</td>\n    </tr>\n    <tr>\n      <th>...</th>\n      <td>...</td>\n      <td>...</td>\n      <td>...</td>\n      <td>...</td>\n      <td>...</td>\n      <td>...</td>\n      <td>...</td>\n      <td>...</td>\n      <td>...</td>\n      <td>...</td>\n      <td>...</td>\n      <td>...</td>\n      <td>...</td>\n      <td>...</td>\n      <td>...</td>\n      <td>...</td>\n      <td>...</td>\n      <td>...</td>\n      <td>...</td>\n      <td>...</td>\n    </tr>\n    <tr>\n      <th>106</th>\n      <td>NaN</td>\n      <td>NaN</td>\n      <td>NaN</td>\n      <td>Taiwan*</td>\n      <td>2021-05-01 04:20:47</td>\n      <td>23.700000</td>\n      <td>121.000000</td>\n      <td>1128</td>\n      <td>12</td>\n      <td>1053.0</td>\n      <td>63.0</td>\n      <td>Taiwan*</td>\n      <td>4.736158</td>\n      <td>1.063830</td>\n      <td>NaN</td>\n      <td>Taiwan*</td>\n      <td>23.7</td>\n      <td>121.0</td>\n      <td>3/19/20</td>\n      <td>108.0</td>\n    </tr>\n    <tr>\n      <th>107</th>\n      <td>NaN</td>\n      <td>NaN</td>\n      <td>NaN</td>\n      <td>Taiwan*</td>\n      <td>2021-05-01 04:20:47</td>\n      <td>23.700000</td>\n      <td>121.000000</td>\n      <td>1128</td>\n      <td>12</td>\n      <td>1053.0</td>\n      <td>63.0</td>\n      <td>Taiwan*</td>\n      <td>4.736158</td>\n      <td>1.063830</td>\n      <td>NaN</td>\n      <td>Taiwan*</td>\n      <td>23.7</td>\n      <td>121.0</td>\n      <td>3/20/20</td>\n      <td>135.0</td>\n    </tr>\n    <tr>\n      <th>108</th>\n      <td>NaN</td>\n      <td>NaN</td>\n      <td>NaN</td>\n      <td>Taiwan*</td>\n      <td>2021-05-01 04:20:47</td>\n      <td>23.700000</td>\n      <td>121.000000</td>\n      <td>1128</td>\n      <td>12</td>\n      <td>1053.0</td>\n      <td>63.0</td>\n      <td>Taiwan*</td>\n      <td>4.736158</td>\n      <td>1.063830</td>\n      <td>NaN</td>\n      <td>Taiwan*</td>\n      <td>23.7</td>\n      <td>121.0</td>\n      <td>3/21/20</td>\n      <td>153.0</td>\n    </tr>\n    <tr>\n      <th>109</th>\n      <td>NaN</td>\n      <td>NaN</td>\n      <td>NaN</td>\n      <td>Taiwan*</td>\n      <td>2021-05-01 04:20:47</td>\n      <td>23.700000</td>\n      <td>121.000000</td>\n      <td>1128</td>\n      <td>12</td>\n      <td>1053.0</td>\n      <td>63.0</td>\n      <td>Taiwan*</td>\n      <td>4.736158</td>\n      <td>1.063830</td>\n      <td>NaN</td>\n      <td>Taiwan*</td>\n      <td>23.7</td>\n      <td>121.0</td>\n      <td>3/22/20</td>\n      <td>169.0</td>\n    </tr>\n    <tr>\n      <th>110</th>\n      <td>NaN</td>\n      <td>NaN</td>\n      <td>NaN</td>\n      <td>Taiwan*</td>\n      <td>2021-05-01 04:20:47</td>\n      <td>23.700000</td>\n      <td>121.000000</td>\n      <td>1128</td>\n      <td>12</td>\n      <td>1053.0</td>\n      <td>63.0</td>\n      <td>Taiwan*</td>\n      <td>4.736158</td>\n      <td>1.063830</td>\n      <td>NaN</td>\n      <td>Taiwan*</td>\n      <td>23.7</td>\n      <td>121.0</td>\n      <td>3/23/20</td>\n      <td>169.0</td>\n    </tr>\n  </tbody>\n</table>\n<p>111 rows × 20 columns</p>\n</div>"
     },
     "metadata": {},
     "execution_count": 64
    }
   ],
   "source": [
    "pd.merge(left_df, right_df, left_on='Country_Region', right_on='Country/Region', how='left') #left join"
   ]
  },
  {
   "cell_type": "code",
   "execution_count": 65,
   "metadata": {},
   "outputs": [],
   "source": [
    "left_df = daily_report[daily_report['Country_Region'].isin(['Taiwan*', 'Japan'])]\n",
    "right_df = ts_confirmed_global_long[ts_confirmed_global_long['Country/Region'].isin(['Taiwan*', 'Korea, South'])]\n",
    "left_df = left_df.set_index('Country_Region')\n",
    "right_df = right_df.set_index('Country/Region')"
   ]
  },
  {
   "cell_type": "code",
   "execution_count": null,
   "metadata": {},
   "outputs": [],
   "source": []
  }
 ],
 "metadata": {
  "kernelspec": {
   "name": "python394jvsc74a57bd07812ea015bdcee6f23a998adcdd2ef97c151c0c241b7b7070987d9313e41299d",
   "display_name": "Python 3.9.4 64-bit ('3.9')"
  },
  "language_info": {
   "codemirror_mode": {
    "name": "ipython",
    "version": 3
   },
   "file_extension": ".py",
   "mimetype": "text/x-python",
   "name": "python",
   "nbconvert_exporter": "python",
   "pygments_lexer": "ipython3",
   "version": "3.9.4"
  },
  "metadata": {
   "interpreter": {
    "hash": "7812ea015bdcee6f23a998adcdd2ef97c151c0c241b7b7070987d9313e41299d"
   }
  }
 },
 "nbformat": 4,
 "nbformat_minor": 4
}