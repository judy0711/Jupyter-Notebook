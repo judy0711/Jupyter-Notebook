{
 "cells": [
  {
   "cell_type": "code",
   "execution_count": 10,
   "metadata": {},
   "outputs": [],
   "source": [
    "import pandas as pd\n",
    "import numpy as np"
   ]
  },
  {
   "cell_type": "code",
   "execution_count": 11,
   "metadata": {},
   "outputs": [
    {
     "name": "stdout",
     "output_type": "stream",
     "text": [
      "Imported daily_report of 04-23-2021\n",
      "2021-04-25\n",
      "04-23-2021\n"
     ]
    },
    {
     "data": {
      "text/plain": [
       "pandas.core.frame.DataFrame"
      ]
     },
     "execution_count": 11,
     "metadata": {},
     "output_type": "execute_result"
    }
   ],
   "source": [
    "from datetime import date \n",
    "from datetime import timedelta\n",
    "from urllib.error import HTTPError\n",
    "\n",
    "def get_latest_daily_report():\n",
    "    \n",
    "    today = date.today()\n",
    "    day_delta = timedelta(days=1)\n",
    "    data_date = today\n",
    "\n",
    "    while True: \n",
    "        try:\n",
    "            data_date_str = date.strftime(data_date, '%m-%d-%Y')\n",
    "            csv_url = \"https://raw.githubusercontent.com/CSSEGISandData/COVID-19/master/csse_covid_19_data/csse_covid_19_daily_reports/{}.csv\".format(data_date_str)\n",
    "            daily_report = pd.read_csv(csv_url)\n",
    "            print(\"Imported daily_report of {}\".format(data_date_str))\n",
    "            break\n",
    "        except HTTPError:\n",
    "            data_date -= day_delta\n",
    "    print(today)\n",
    "    print(data_date_str)\n",
    "    return daily_report\n",
    "    \n",
    "\n",
    "daily_report = get_latest_daily_report()\n",
    "type(daily_report)"
   ]
  },
  {
   "cell_type": "code",
   "execution_count": 12,
   "metadata": {},
   "outputs": [
    {
     "data": {
      "text/html": [
       "<div>\n",
       "<style scoped>\n",
       "    .dataframe tbody tr th:only-of-type {\n",
       "        vertical-align: middle;\n",
       "    }\n",
       "\n",
       "    .dataframe tbody tr th {\n",
       "        vertical-align: top;\n",
       "    }\n",
       "\n",
       "    .dataframe thead th {\n",
       "        text-align: right;\n",
       "    }\n",
       "</style>\n",
       "<table border=\"1\" class=\"dataframe\">\n",
       "  <thead>\n",
       "    <tr style=\"text-align: right;\">\n",
       "      <th></th>\n",
       "      <th>FIPS</th>\n",
       "      <th>Admin2</th>\n",
       "      <th>Province_State</th>\n",
       "      <th>Country_Region</th>\n",
       "      <th>Last_Update</th>\n",
       "      <th>Lat</th>\n",
       "      <th>Long_</th>\n",
       "      <th>Confirmed</th>\n",
       "      <th>Deaths</th>\n",
       "      <th>Recovered</th>\n",
       "      <th>Active</th>\n",
       "      <th>Combined_Key</th>\n",
       "      <th>Incident_Rate</th>\n",
       "      <th>Case_Fatality_Ratio</th>\n",
       "    </tr>\n",
       "  </thead>\n",
       "  <tbody>\n",
       "    <tr>\n",
       "      <th>0</th>\n",
       "      <td>NaN</td>\n",
       "      <td>NaN</td>\n",
       "      <td>NaN</td>\n",
       "      <td>Afghanistan</td>\n",
       "      <td>2021-04-24 04:20:38</td>\n",
       "      <td>33.93911</td>\n",
       "      <td>67.709953</td>\n",
       "      <td>58542</td>\n",
       "      <td>2565</td>\n",
       "      <td>52363.0</td>\n",
       "      <td>3614.0</td>\n",
       "      <td>Afghanistan</td>\n",
       "      <td>150.384009</td>\n",
       "      <td>4.381470</td>\n",
       "    </tr>\n",
       "    <tr>\n",
       "      <th>1</th>\n",
       "      <td>NaN</td>\n",
       "      <td>NaN</td>\n",
       "      <td>NaN</td>\n",
       "      <td>Albania</td>\n",
       "      <td>2021-04-24 04:20:38</td>\n",
       "      <td>41.15330</td>\n",
       "      <td>20.168300</td>\n",
       "      <td>130270</td>\n",
       "      <td>2367</td>\n",
       "      <td>104278.0</td>\n",
       "      <td>23625.0</td>\n",
       "      <td>Albania</td>\n",
       "      <td>4526.721801</td>\n",
       "      <td>1.816995</td>\n",
       "    </tr>\n",
       "    <tr>\n",
       "      <th>2</th>\n",
       "      <td>NaN</td>\n",
       "      <td>NaN</td>\n",
       "      <td>NaN</td>\n",
       "      <td>Algeria</td>\n",
       "      <td>2021-04-24 04:20:38</td>\n",
       "      <td>28.03390</td>\n",
       "      <td>1.659600</td>\n",
       "      <td>120562</td>\n",
       "      <td>3190</td>\n",
       "      <td>84038.0</td>\n",
       "      <td>33334.0</td>\n",
       "      <td>Algeria</td>\n",
       "      <td>274.935308</td>\n",
       "      <td>2.645942</td>\n",
       "    </tr>\n",
       "    <tr>\n",
       "      <th>3</th>\n",
       "      <td>NaN</td>\n",
       "      <td>NaN</td>\n",
       "      <td>NaN</td>\n",
       "      <td>Andorra</td>\n",
       "      <td>2021-04-24 04:20:38</td>\n",
       "      <td>42.50630</td>\n",
       "      <td>1.521800</td>\n",
       "      <td>13007</td>\n",
       "      <td>123</td>\n",
       "      <td>12423.0</td>\n",
       "      <td>461.0</td>\n",
       "      <td>Andorra</td>\n",
       "      <td>16834.271662</td>\n",
       "      <td>0.945645</td>\n",
       "    </tr>\n",
       "    <tr>\n",
       "      <th>4</th>\n",
       "      <td>NaN</td>\n",
       "      <td>NaN</td>\n",
       "      <td>NaN</td>\n",
       "      <td>Angola</td>\n",
       "      <td>2021-04-24 04:20:38</td>\n",
       "      <td>-11.20270</td>\n",
       "      <td>17.873900</td>\n",
       "      <td>25279</td>\n",
       "      <td>574</td>\n",
       "      <td>23089.0</td>\n",
       "      <td>1616.0</td>\n",
       "      <td>Angola</td>\n",
       "      <td>76.914726</td>\n",
       "      <td>2.270659</td>\n",
       "    </tr>\n",
       "  </tbody>\n",
       "</table>\n",
       "</div>"
      ],
      "text/plain": [
       "   FIPS Admin2 Province_State Country_Region          Last_Update       Lat  \\\n",
       "0   NaN    NaN            NaN    Afghanistan  2021-04-24 04:20:38  33.93911   \n",
       "1   NaN    NaN            NaN        Albania  2021-04-24 04:20:38  41.15330   \n",
       "2   NaN    NaN            NaN        Algeria  2021-04-24 04:20:38  28.03390   \n",
       "3   NaN    NaN            NaN        Andorra  2021-04-24 04:20:38  42.50630   \n",
       "4   NaN    NaN            NaN         Angola  2021-04-24 04:20:38 -11.20270   \n",
       "\n",
       "       Long_  Confirmed  Deaths  Recovered   Active Combined_Key  \\\n",
       "0  67.709953      58542    2565    52363.0   3614.0  Afghanistan   \n",
       "1  20.168300     130270    2367   104278.0  23625.0      Albania   \n",
       "2   1.659600     120562    3190    84038.0  33334.0      Algeria   \n",
       "3   1.521800      13007     123    12423.0    461.0      Andorra   \n",
       "4  17.873900      25279     574    23089.0   1616.0       Angola   \n",
       "\n",
       "   Incident_Rate  Case_Fatality_Ratio  \n",
       "0     150.384009             4.381470  \n",
       "1    4526.721801             1.816995  \n",
       "2     274.935308             2.645942  \n",
       "3   16834.271662             0.945645  \n",
       "4      76.914726             2.270659  "
      ]
     },
     "execution_count": 12,
     "metadata": {},
     "output_type": "execute_result"
    }
   ],
   "source": [
    "daily_report.head()"
   ]
  },
  {
   "cell_type": "code",
   "execution_count": 13,
   "metadata": {},
   "outputs": [
    {
     "data": {
      "text/plain": [
       "0        3614.0\n",
       "1       23625.0\n",
       "2       33334.0\n",
       "3         461.0\n",
       "4        1616.0\n",
       "         ...   \n",
       "3978      305.0\n",
       "3979    26877.0\n",
       "3980     2437.0\n",
       "3981      750.0\n",
       "3982     1395.0\n",
       "Length: 3983, dtype: float64"
      ]
     },
     "execution_count": 13,
     "metadata": {},
     "output_type": "execute_result"
    }
   ],
   "source": [
    "active_patient = daily_report['Confirmed']- daily_report['Deaths']- daily_report['Recovered'] #Simple operation\n",
    "active_patient"
   ]
  },
  {
   "cell_type": "code",
   "execution_count": 18,
   "metadata": {},
   "outputs": [
    {
     "data": {
      "text/plain": [
       "Between 1000 and 10000      1980\n",
       "Less than 1000               876\n",
       "Between 10000 and 100000     854\n",
       "Above 100000                 233\n",
       "Name: Confirmed, dtype: int64"
      ]
     },
     "execution_count": 18,
     "metadata": {},
     "output_type": "execute_result"
    }
   ],
   "source": [
    "cut_bins = [0, 1000, 10000, 100000, np.Inf]\n",
    "cut_labels = ['Less than 1000', 'Between 1000 and 10000', 'Between 10000 and 100000', 'Above 100000']\n",
    "confirmed_bins = pd.cut(daily_report['Confirmed'], bins=cut_bins, labels=cut_labels)\n",
    "daily_report['Confirmed']\n",
    "confirmed_bins.value_counts()   #count the frequency for each category \n",
    "                                #change continuous data to discrete data"
   ]
  },
  {
   "cell_type": "markdown",
   "metadata": {},
   "source": [
    "## Derive Category from Category by Map"
   ]
  },
  {
   "cell_type": "code",
   "execution_count": 26,
   "metadata": {},
   "outputs": [
    {
     "data": {
      "text/plain": [
       "643    Taiwan\n",
       "Name: Country_Region, dtype: object"
      ]
     },
     "execution_count": 26,
     "metadata": {},
     "output_type": "execute_result"
    }
   ],
   "source": [
    "tw = daily_report[daily_report['Country_Region']=='Taiwan*']\n",
    "mapping_dict = {\n",
    "    'Taiwan*': 'Taiwan'\n",
    "}\n",
    "tw['Country_Region'].map(mapping_dict)      #新的類別對應舊的類別 pass in dictionary"
   ]
  },
  {
   "cell_type": "markdown",
   "metadata": {},
   "source": [
    "### Check if the data is US or NonUS"
   ]
  },
  {
   "cell_type": "code",
   "execution_count": 30,
   "metadata": {},
   "outputs": [
    {
     "data": {
      "text/plain": [
       "0       Not US\n",
       "1       Not US\n",
       "2       Not US\n",
       "3       Not US\n",
       "4       Not US\n",
       "         ...  \n",
       "3978    Not US\n",
       "3979    Not US\n",
       "3980    Not US\n",
       "3981    Not US\n",
       "3982    Not US\n",
       "Name: Country_Region, Length: 3983, dtype: object"
      ]
     },
     "execution_count": 30,
     "metadata": {},
     "output_type": "execute_result"
    }
   ],
   "source": [
    "def country_is_us(x):\n",
    "    if x == 'US':\n",
    "        return 'US'\n",
    "    else:\n",
    "        return \"Not US\"\n",
    "daily_report['Country_Region'].map(country_is_us).value_counts()   #pass in the function\n",
    "daily_report['Country_Region'].map(lambda x:'US' if x=='US' else 'Not US') #or use lambda function"
   ]
  },
  {
   "cell_type": "markdown",
   "metadata": {},
   "source": [
    "## Summarizing DataFrame with Aggregate Methods"
   ]
  },
  {
   "cell_type": "code",
   "execution_count": 35,
   "metadata": {},
   "outputs": [
    {
     "name": "stdout",
     "output_type": "stream",
     "text": [
      "145,640,414\n"
     ]
    }
   ],
   "source": [
    "ttl_confirmed = daily_report[\"Confirmed\"].sum()\n",
    "print(\"{:,}\".format(ttl_confirmed))   # give a comma for every thousand place"
   ]
  },
  {
   "cell_type": "code",
   "execution_count": 36,
   "metadata": {},
   "outputs": [
    {
     "data": {
      "text/plain": [
       "36565.50690434346"
      ]
     },
     "execution_count": 36,
     "metadata": {},
     "output_type": "execute_result"
    }
   ],
   "source": [
    "daily_report['Confirmed'].mean()   #Data base is not normalized because the data aren't collected equally "
   ]
  },
  {
   "cell_type": "code",
   "execution_count": 39,
   "metadata": {},
   "outputs": [
    {
     "data": {
      "text/plain": [
       "758543.8229166666"
      ]
     },
     "execution_count": 39,
     "metadata": {},
     "output_type": "execute_result"
    }
   ],
   "source": [
    "ttl_confirmed_by_country = daily_report.groupby('Country_Region')['Confirmed'].sum()\n",
    "print(ttl_confirmed_by_country[\"Brazil\"])\n",
    "#Data base is now normalized to show the average confirmed cases \n",
    "\n",
    "ttl_confirmed_by_country.mean()"
   ]
  },
  {
   "cell_type": "code",
   "execution_count": null,
   "metadata": {},
   "outputs": [],
   "source": []
  }
 ],
 "metadata": {
  "kernelspec": {
   "display_name": "Python 3",
   "language": "python",
   "name": "python3"
  },
  "language_info": {
   "codemirror_mode": {
    "name": "ipython",
    "version": 3
   },
   "file_extension": ".py",
   "mimetype": "text/x-python",
   "name": "python",
   "nbconvert_exporter": "python",
   "pygments_lexer": "ipython3",
   "version": "3.8.6"
  }
 },
 "nbformat": 4,
 "nbformat_minor": 4
}
