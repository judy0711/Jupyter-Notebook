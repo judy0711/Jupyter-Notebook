{
 "cells": [
  {
   "cell_type": "code",
   "execution_count": 72,
   "metadata": {},
   "outputs": [],
   "source": [
    "import pandas as pd\n",
    "import ssl\n",
    "ssl._create_default_https_context = ssl._create_unverified_context\n",
    "import lxml"
   ]
  },
  {
   "cell_type": "markdown",
   "metadata": {},
   "source": [
    "## 04.18.2021"
   ]
  },
  {
   "cell_type": "code",
   "execution_count": 73,
   "metadata": {},
   "outputs": [
    {
     "output_type": "execute_result",
     "data": {
      "text/plain": [
       "                      title  imdb_rating\n",
       "0  The Shawshank Redemption          9.3\n",
       "1           The Dark Knight          9.0\n",
       "2          Schindler's List          8.9\n",
       "3              Forrest Gump          8.8\n",
       "4                 Inception          8.7"
      ],
      "text/html": "<div>\n<style scoped>\n    .dataframe tbody tr th:only-of-type {\n        vertical-align: middle;\n    }\n\n    .dataframe tbody tr th {\n        vertical-align: top;\n    }\n\n    .dataframe thead th {\n        text-align: right;\n    }\n</style>\n<table border=\"1\" class=\"dataframe\">\n  <thead>\n    <tr style=\"text-align: right;\">\n      <th></th>\n      <th>title</th>\n      <th>imdb_rating</th>\n    </tr>\n  </thead>\n  <tbody>\n    <tr>\n      <th>0</th>\n      <td>The Shawshank Redemption</td>\n      <td>9.3</td>\n    </tr>\n    <tr>\n      <th>1</th>\n      <td>The Dark Knight</td>\n      <td>9.0</td>\n    </tr>\n    <tr>\n      <th>2</th>\n      <td>Schindler's List</td>\n      <td>8.9</td>\n    </tr>\n    <tr>\n      <th>3</th>\n      <td>Forrest Gump</td>\n      <td>8.8</td>\n    </tr>\n    <tr>\n      <th>4</th>\n      <td>Inception</td>\n      <td>8.7</td>\n    </tr>\n  </tbody>\n</table>\n</div>"
     },
     "metadata": {},
     "execution_count": 73
    }
   ],
   "source": [
    "movie_df = pd.DataFrame()\n",
    "movie_df[\"title\"] = [\"The Shawshank Redemption\", \"The Dark Knight\", \"Schindler's List\", \"Forrest Gump\", \"Inception\"]\n",
    "movie_df[\"imdb_rating\"] = [9.3, 9.0, 8.9, 8.8, 8.7]\n",
    "#print(type(movie_df))\n",
    "movie_df\n",
    "#movie_df.loc[1,\"title\"]"
   ]
  },
  {
   "cell_type": "code",
   "execution_count": 74,
   "metadata": {},
   "outputs": [
    {
     "output_type": "stream",
     "name": "stdout",
     "text": [
      "<class 'pandas.core.indexes.range.RangeIndex'>\n<class 'pandas.core.series.Series'>\n<class 'pandas.core.series.Series'>\nRangeIndex(start=0, stop=5, step=1)\n['The Shawshank Redemption' 'The Dark Knight' \"Schindler's List\"\n 'Forrest Gump' 'Inception']\n"
     ]
    }
   ],
   "source": [
    "print(type(movie_df.index))\n",
    "print(type(movie_df[\"title\"]))\n",
    "print(type(movie_df[\"imdb_rating\"])) \n",
    "print(movie_df[\"title\"].index)\n",
    "print(movie_df[\"title\"].values)"
   ]
  },
  {
   "cell_type": "markdown",
   "metadata": {},
   "source": [
    "## 04.19.2021"
   ]
  },
  {
   "cell_type": "code",
   "execution_count": 75,
   "metadata": {},
   "outputs": [
    {
     "output_type": "stream",
     "name": "stdout",
     "text": [
      "2021-04-29\n<class 'datetime.date'>\n04-29-2021\n"
     ]
    }
   ],
   "source": [
    "from datetime import date \n",
    "from datetime import timedelta\n",
    "today = date.today()\n",
    "day_delta = timedelta(days=-2)\n",
    "data_date = today + day_delta\n",
    "print(data_date)\n",
    "print(type(data_date))\n",
    "data_date_str = date.strftime(data_date, '%m-%d-%Y') \n",
    "print(data_date_str)"
   ]
  },
  {
   "cell_type": "code",
   "execution_count": 76,
   "metadata": {},
   "outputs": [],
   "source": [
    "csv_url = \"https://raw.githubusercontent.com/CSSEGISandData/COVID-19/master/csse_covid_19_data/csse_covid_19_daily_reports/04-22-2021.csv\"\n"
   ]
  },
  {
   "cell_type": "code",
   "execution_count": 77,
   "metadata": {},
   "outputs": [
    {
     "output_type": "stream",
     "name": "stdout",
     "text": [
      "2021-05-01\n04-29-2021\n"
     ]
    },
    {
     "output_type": "execute_result",
     "data": {
      "text/plain": [
       "pandas.core.frame.DataFrame"
      ]
     },
     "metadata": {},
     "execution_count": 77
    }
   ],
   "source": [
    "from datetime import date \n",
    "from datetime import timedelta\n",
    "from urllib.error import HTTPError\n",
    "\n",
    "def get_latest_daily_report():\n",
    "    \n",
    "    today = date.today()\n",
    "    day_delta = timedelta(days=1)\n",
    "    data_date = today\n",
    "\n",
    "    while True: \n",
    "        try:\n",
    "            data_date_str = date.strftime(data_date, '%m-%d-%Y')\n",
    "            csv_url = \"https://raw.githubusercontent.com/CSSEGISandData/COVID-19/master/csse_covid_19_data/csse_covid_19_daily_reports/{}.csv\".format(data_date_str)\n",
    "            daily_report = pd.read_csv(csv_url)\n",
    "            break\n",
    "        except HTTPError:\n",
    "            data_date -= day_delta\n",
    "    print(today)\n",
    "    print(data_date_str)\n",
    "    return daily_report\n",
    "    \n",
    "\n",
    "daily_report = get_latest_daily_report()\n",
    "type(daily_report)\n"
   ]
  },
  {
   "cell_type": "code",
   "execution_count": 78,
   "metadata": {},
   "outputs": [
    {
     "output_type": "execute_result",
     "data": {
      "text/plain": [
       "      FIPS Admin2 Province_State      Country_Region          Last_Update  \\\n",
       "0      NaN    NaN            NaN         Afghanistan  2021-04-30 04:21:03   \n",
       "1      NaN    NaN            NaN             Albania  2021-04-30 04:21:03   \n",
       "2      NaN    NaN            NaN             Algeria  2021-04-30 04:21:03   \n",
       "3      NaN    NaN            NaN             Andorra  2021-04-30 04:21:03   \n",
       "4      NaN    NaN            NaN              Angola  2021-04-30 04:21:03   \n",
       "...    ...    ...            ...                 ...                  ...   \n",
       "3978   NaN    NaN            NaN             Vietnam  2021-04-30 04:21:03   \n",
       "3979   NaN    NaN            NaN  West Bank and Gaza  2021-04-30 04:21:03   \n",
       "3980   NaN    NaN            NaN               Yemen  2021-04-30 04:21:03   \n",
       "3981   NaN    NaN            NaN              Zambia  2021-04-30 04:21:03   \n",
       "3982   NaN    NaN            NaN            Zimbabwe  2021-04-30 04:21:03   \n",
       "\n",
       "            Lat       Long_  Confirmed  Deaths  Recovered   Active  \\\n",
       "0     33.939110   67.709953      59576    2618    53103.0   3855.0   \n",
       "1     41.153300   20.168300     130977    2389   108606.0  19982.0   \n",
       "2     28.033900    1.659600     121866    3244    84940.0  33682.0   \n",
       "3     42.506300    1.521800      13198     125    12650.0    423.0   \n",
       "4    -11.202700   17.873900      26431     594    23606.0   2231.0   \n",
       "...         ...         ...        ...     ...        ...      ...   \n",
       "3978  14.058324  108.277199       2910      35     2516.0    359.0   \n",
       "3979  31.952200   35.233200     295601    3231   271233.0  21137.0   \n",
       "3980  15.552727   48.516388       6294    1222     2731.0   2341.0   \n",
       "3981 -13.133897   27.849332      91533    1250    89852.0    431.0   \n",
       "3982 -19.015438   29.154857      38235    1567    35594.0   1074.0   \n",
       "\n",
       "            Combined_Key  Incident_Rate  Case_Fatality_Ratio  \n",
       "0            Afghanistan     153.040172             4.394387  \n",
       "1                Albania    4551.289179             1.823984  \n",
       "2                Algeria     277.909011             2.661940  \n",
       "3                Andorra   17081.472853             0.947113  \n",
       "4                 Angola      80.419840             2.247361  \n",
       "...                  ...            ...                  ...  \n",
       "3978             Vietnam       2.989565             1.202749  \n",
       "3979  West Bank and Gaza    5794.489216             1.093027  \n",
       "3980               Yemen      21.102417            19.415316  \n",
       "3981              Zambia     497.896100             1.365628  \n",
       "3982            Zimbabwe     257.250809             4.098339  \n",
       "\n",
       "[3983 rows x 14 columns]"
      ],
      "text/html": "<div>\n<style scoped>\n    .dataframe tbody tr th:only-of-type {\n        vertical-align: middle;\n    }\n\n    .dataframe tbody tr th {\n        vertical-align: top;\n    }\n\n    .dataframe thead th {\n        text-align: right;\n    }\n</style>\n<table border=\"1\" class=\"dataframe\">\n  <thead>\n    <tr style=\"text-align: right;\">\n      <th></th>\n      <th>FIPS</th>\n      <th>Admin2</th>\n      <th>Province_State</th>\n      <th>Country_Region</th>\n      <th>Last_Update</th>\n      <th>Lat</th>\n      <th>Long_</th>\n      <th>Confirmed</th>\n      <th>Deaths</th>\n      <th>Recovered</th>\n      <th>Active</th>\n      <th>Combined_Key</th>\n      <th>Incident_Rate</th>\n      <th>Case_Fatality_Ratio</th>\n    </tr>\n  </thead>\n  <tbody>\n    <tr>\n      <th>0</th>\n      <td>NaN</td>\n      <td>NaN</td>\n      <td>NaN</td>\n      <td>Afghanistan</td>\n      <td>2021-04-30 04:21:03</td>\n      <td>33.939110</td>\n      <td>67.709953</td>\n      <td>59576</td>\n      <td>2618</td>\n      <td>53103.0</td>\n      <td>3855.0</td>\n      <td>Afghanistan</td>\n      <td>153.040172</td>\n      <td>4.394387</td>\n    </tr>\n    <tr>\n      <th>1</th>\n      <td>NaN</td>\n      <td>NaN</td>\n      <td>NaN</td>\n      <td>Albania</td>\n      <td>2021-04-30 04:21:03</td>\n      <td>41.153300</td>\n      <td>20.168300</td>\n      <td>130977</td>\n      <td>2389</td>\n      <td>108606.0</td>\n      <td>19982.0</td>\n      <td>Albania</td>\n      <td>4551.289179</td>\n      <td>1.823984</td>\n    </tr>\n    <tr>\n      <th>2</th>\n      <td>NaN</td>\n      <td>NaN</td>\n      <td>NaN</td>\n      <td>Algeria</td>\n      <td>2021-04-30 04:21:03</td>\n      <td>28.033900</td>\n      <td>1.659600</td>\n      <td>121866</td>\n      <td>3244</td>\n      <td>84940.0</td>\n      <td>33682.0</td>\n      <td>Algeria</td>\n      <td>277.909011</td>\n      <td>2.661940</td>\n    </tr>\n    <tr>\n      <th>3</th>\n      <td>NaN</td>\n      <td>NaN</td>\n      <td>NaN</td>\n      <td>Andorra</td>\n      <td>2021-04-30 04:21:03</td>\n      <td>42.506300</td>\n      <td>1.521800</td>\n      <td>13198</td>\n      <td>125</td>\n      <td>12650.0</td>\n      <td>423.0</td>\n      <td>Andorra</td>\n      <td>17081.472853</td>\n      <td>0.947113</td>\n    </tr>\n    <tr>\n      <th>4</th>\n      <td>NaN</td>\n      <td>NaN</td>\n      <td>NaN</td>\n      <td>Angola</td>\n      <td>2021-04-30 04:21:03</td>\n      <td>-11.202700</td>\n      <td>17.873900</td>\n      <td>26431</td>\n      <td>594</td>\n      <td>23606.0</td>\n      <td>2231.0</td>\n      <td>Angola</td>\n      <td>80.419840</td>\n      <td>2.247361</td>\n    </tr>\n    <tr>\n      <th>...</th>\n      <td>...</td>\n      <td>...</td>\n      <td>...</td>\n      <td>...</td>\n      <td>...</td>\n      <td>...</td>\n      <td>...</td>\n      <td>...</td>\n      <td>...</td>\n      <td>...</td>\n      <td>...</td>\n      <td>...</td>\n      <td>...</td>\n      <td>...</td>\n    </tr>\n    <tr>\n      <th>3978</th>\n      <td>NaN</td>\n      <td>NaN</td>\n      <td>NaN</td>\n      <td>Vietnam</td>\n      <td>2021-04-30 04:21:03</td>\n      <td>14.058324</td>\n      <td>108.277199</td>\n      <td>2910</td>\n      <td>35</td>\n      <td>2516.0</td>\n      <td>359.0</td>\n      <td>Vietnam</td>\n      <td>2.989565</td>\n      <td>1.202749</td>\n    </tr>\n    <tr>\n      <th>3979</th>\n      <td>NaN</td>\n      <td>NaN</td>\n      <td>NaN</td>\n      <td>West Bank and Gaza</td>\n      <td>2021-04-30 04:21:03</td>\n      <td>31.952200</td>\n      <td>35.233200</td>\n      <td>295601</td>\n      <td>3231</td>\n      <td>271233.0</td>\n      <td>21137.0</td>\n      <td>West Bank and Gaza</td>\n      <td>5794.489216</td>\n      <td>1.093027</td>\n    </tr>\n    <tr>\n      <th>3980</th>\n      <td>NaN</td>\n      <td>NaN</td>\n      <td>NaN</td>\n      <td>Yemen</td>\n      <td>2021-04-30 04:21:03</td>\n      <td>15.552727</td>\n      <td>48.516388</td>\n      <td>6294</td>\n      <td>1222</td>\n      <td>2731.0</td>\n      <td>2341.0</td>\n      <td>Yemen</td>\n      <td>21.102417</td>\n      <td>19.415316</td>\n    </tr>\n    <tr>\n      <th>3981</th>\n      <td>NaN</td>\n      <td>NaN</td>\n      <td>NaN</td>\n      <td>Zambia</td>\n      <td>2021-04-30 04:21:03</td>\n      <td>-13.133897</td>\n      <td>27.849332</td>\n      <td>91533</td>\n      <td>1250</td>\n      <td>89852.0</td>\n      <td>431.0</td>\n      <td>Zambia</td>\n      <td>497.896100</td>\n      <td>1.365628</td>\n    </tr>\n    <tr>\n      <th>3982</th>\n      <td>NaN</td>\n      <td>NaN</td>\n      <td>NaN</td>\n      <td>Zimbabwe</td>\n      <td>2021-04-30 04:21:03</td>\n      <td>-19.015438</td>\n      <td>29.154857</td>\n      <td>38235</td>\n      <td>1567</td>\n      <td>35594.0</td>\n      <td>1074.0</td>\n      <td>Zimbabwe</td>\n      <td>257.250809</td>\n      <td>4.098339</td>\n    </tr>\n  </tbody>\n</table>\n<p>3983 rows × 14 columns</p>\n</div>"
     },
     "metadata": {},
     "execution_count": 78
    }
   ],
   "source": [
    "daily_report"
   ]
  },
  {
   "cell_type": "code",
   "execution_count": 79,
   "metadata": {},
   "outputs": [],
   "source": [
    "import sqlite3\n",
    "\n",
    "conn = sqlite3.connect('covid19.db')   #create a new database\n",
    "daily_report.to_sql('daily_report', conn, if_exists = 'replace') #replace"
   ]
  },
  {
   "cell_type": "code",
   "execution_count": 80,
   "metadata": {},
   "outputs": [
    {
     "output_type": "execute_result",
     "data": {
      "text/plain": [
       "   index  FIPS Admin2 Province_State Country_Region          Last_Update  \\\n",
       "0    643  None   None           None        Taiwan*  2021-04-30 04:21:03   \n",
       "\n",
       "    Lat  Long_  Confirmed  Deaths  Recovered  Active Combined_Key  \\\n",
       "0  23.7  121.0       1121      12     1051.0    58.0      Taiwan*   \n",
       "\n",
       "   Incident_Rate  Case_Fatality_Ratio  \n",
       "0       4.706767             1.070473  "
      ],
      "text/html": "<div>\n<style scoped>\n    .dataframe tbody tr th:only-of-type {\n        vertical-align: middle;\n    }\n\n    .dataframe tbody tr th {\n        vertical-align: top;\n    }\n\n    .dataframe thead th {\n        text-align: right;\n    }\n</style>\n<table border=\"1\" class=\"dataframe\">\n  <thead>\n    <tr style=\"text-align: right;\">\n      <th></th>\n      <th>index</th>\n      <th>FIPS</th>\n      <th>Admin2</th>\n      <th>Province_State</th>\n      <th>Country_Region</th>\n      <th>Last_Update</th>\n      <th>Lat</th>\n      <th>Long_</th>\n      <th>Confirmed</th>\n      <th>Deaths</th>\n      <th>Recovered</th>\n      <th>Active</th>\n      <th>Combined_Key</th>\n      <th>Incident_Rate</th>\n      <th>Case_Fatality_Ratio</th>\n    </tr>\n  </thead>\n  <tbody>\n    <tr>\n      <th>0</th>\n      <td>643</td>\n      <td>None</td>\n      <td>None</td>\n      <td>None</td>\n      <td>Taiwan*</td>\n      <td>2021-04-30 04:21:03</td>\n      <td>23.7</td>\n      <td>121.0</td>\n      <td>1121</td>\n      <td>12</td>\n      <td>1051.0</td>\n      <td>58.0</td>\n      <td>Taiwan*</td>\n      <td>4.706767</td>\n      <td>1.070473</td>\n    </tr>\n  </tbody>\n</table>\n</div>"
     },
     "metadata": {},
     "execution_count": 80
    }
   ],
   "source": [
    "sql_query = \"\"\"\n",
    "SELECT *\n",
    "    FROM daily_report\n",
    "WHERE Country_Region LIKE \"%Taiwan%\";\n",
    "\"\"\"\n",
    "pd.read_sql(sql_query, conn)\n",
    "\n"
   ]
  },
  {
   "cell_type": "code",
   "execution_count": 81,
   "metadata": {},
   "outputs": [],
   "source": [
    "excel_file_path = \"Movies-2.xls\" \n",
    "movie_excel = pd.read_excel(excel_file_path) #import excel file but not working"
   ]
  },
  {
   "cell_type": "code",
   "execution_count": 82,
   "metadata": {},
   "outputs": [
    {
     "output_type": "execute_result",
     "data": {
      "text/plain": [
       "          Title  Release Year  IMDB Rating\n",
       "0    Spider Man          2016          8.3\n",
       "1       Bat Man          2018          9.3\n",
       "2  Wonder Woman          2018          9.3"
      ],
      "text/html": "<div>\n<style scoped>\n    .dataframe tbody tr th:only-of-type {\n        vertical-align: middle;\n    }\n\n    .dataframe tbody tr th {\n        vertical-align: top;\n    }\n\n    .dataframe thead th {\n        text-align: right;\n    }\n</style>\n<table border=\"1\" class=\"dataframe\">\n  <thead>\n    <tr style=\"text-align: right;\">\n      <th></th>\n      <th>Title</th>\n      <th>Release Year</th>\n      <th>IMDB Rating</th>\n    </tr>\n  </thead>\n  <tbody>\n    <tr>\n      <th>0</th>\n      <td>Spider Man</td>\n      <td>2016</td>\n      <td>8.3</td>\n    </tr>\n    <tr>\n      <th>1</th>\n      <td>Bat Man</td>\n      <td>2018</td>\n      <td>9.3</td>\n    </tr>\n    <tr>\n      <th>2</th>\n      <td>Wonder Woman</td>\n      <td>2018</td>\n      <td>9.3</td>\n    </tr>\n  </tbody>\n</table>\n</div>"
     },
     "metadata": {},
     "execution_count": 82
    }
   ],
   "source": [
    "movie_excel"
   ]
  },
  {
   "cell_type": "code",
   "execution_count": 83,
   "metadata": {},
   "outputs": [],
   "source": [
    "def read_movies(csv_file_path):\n",
    "    movies_from_csv = pd.read_csv(csv_file_path,error_bad_lines=False)\n",
    "    return movies_from_csv"
   ]
  },
  {
   "cell_type": "code",
   "execution_count": 84,
   "metadata": {},
   "outputs": [
    {
     "output_type": "stream",
     "name": "stderr",
     "text": [
      "b'Skipping line 3: expected 3 fields, saw 4\\n'\n"
     ]
    },
    {
     "output_type": "execute_result",
     "data": {
      "text/plain": [
       "                      title   release_year   imdb_rating\n",
       "0  The Shawshank Redemption           1994           9.2\n",
       "1                 Inception           2010           8.7\n",
       "2              Forrest Gump           1994           8.8"
      ],
      "text/html": "<div>\n<style scoped>\n    .dataframe tbody tr th:only-of-type {\n        vertical-align: middle;\n    }\n\n    .dataframe tbody tr th {\n        vertical-align: top;\n    }\n\n    .dataframe thead th {\n        text-align: right;\n    }\n</style>\n<table border=\"1\" class=\"dataframe\">\n  <thead>\n    <tr style=\"text-align: right;\">\n      <th></th>\n      <th>title</th>\n      <th>release_year</th>\n      <th>imdb_rating</th>\n    </tr>\n  </thead>\n  <tbody>\n    <tr>\n      <th>0</th>\n      <td>The Shawshank Redemption</td>\n      <td>1994</td>\n      <td>9.2</td>\n    </tr>\n    <tr>\n      <th>1</th>\n      <td>Inception</td>\n      <td>2010</td>\n      <td>8.7</td>\n    </tr>\n    <tr>\n      <th>2</th>\n      <td>Forrest Gump</td>\n      <td>1994</td>\n      <td>8.8</td>\n    </tr>\n  </tbody>\n</table>\n</div>"
     },
     "metadata": {},
     "execution_count": 84
    }
   ],
   "source": [
    "read_movies('movies.csv')"
   ]
  },
  {
   "cell_type": "markdown",
   "metadata": {},
   "source": [
    "## The Bottom HTML Can't Run Through"
   ]
  },
  {
   "cell_type": "markdown",
   "metadata": {},
   "source": [
    "import json\n",
    "\n",
    "with open('movie1.json') as json_file:\n",
    "    movies_from_json = json.load(json_file)         \n",
    "type(movies_from_json)"
   ]
  },
  {
   "cell_type": "code",
   "execution_count": 85,
   "metadata": {},
   "outputs": [
    {
     "output_type": "error",
     "ename": "ImportError",
     "evalue": "lxml not found, please install it",
     "traceback": [
      "\u001b[0;31m---------------------------------------------------------------------------\u001b[0m",
      "\u001b[0;31mImportError\u001b[0m                               Traceback (most recent call last)",
      "\u001b[0;32m<ipython-input-85-3c71e855c856>\u001b[0m in \u001b[0;36m<module>\u001b[0;34m\u001b[0m\n\u001b[1;32m      1\u001b[0m \u001b[0mrequest_url\u001b[0m \u001b[0;34m=\u001b[0m \u001b[0;34m\"https://www.imdb.com/chart/top\"\u001b[0m\u001b[0;34m\u001b[0m\u001b[0;34m\u001b[0m\u001b[0m\n\u001b[0;32m----> 2\u001b[0;31m \u001b[0mhtml_tables\u001b[0m \u001b[0;34m=\u001b[0m \u001b[0mpd\u001b[0m\u001b[0;34m.\u001b[0m\u001b[0mread_html\u001b[0m\u001b[0;34m(\u001b[0m\u001b[0mrequest_url\u001b[0m\u001b[0;34m)\u001b[0m\u001b[0;34m\u001b[0m\u001b[0;34m\u001b[0m\u001b[0m\n\u001b[0m\u001b[1;32m      3\u001b[0m \u001b[0mprint\u001b[0m\u001b[0;34m(\u001b[0m\u001b[0mtype\u001b[0m\u001b[0;34m(\u001b[0m\u001b[0mhtml_tables\u001b[0m\u001b[0;34m)\u001b[0m\u001b[0;34m)\u001b[0m\u001b[0;34m\u001b[0m\u001b[0;34m\u001b[0m\u001b[0m\n\u001b[1;32m      4\u001b[0m \u001b[0mprint\u001b[0m\u001b[0;34m(\u001b[0m\u001b[0mlen\u001b[0m\u001b[0;34m(\u001b[0m\u001b[0mhtml_tables\u001b[0m\u001b[0;34m)\u001b[0m\u001b[0;34m)\u001b[0m\u001b[0;34m\u001b[0m\u001b[0;34m\u001b[0m\u001b[0m\n",
      "\u001b[0;32m/Library/Frameworks/Python.framework/Versions/3.9/lib/python3.9/site-packages/pandas/util/_decorators.py\u001b[0m in \u001b[0;36mwrapper\u001b[0;34m(*args, **kwargs)\u001b[0m\n\u001b[1;32m    297\u001b[0m                 )\n\u001b[1;32m    298\u001b[0m                 \u001b[0mwarnings\u001b[0m\u001b[0;34m.\u001b[0m\u001b[0mwarn\u001b[0m\u001b[0;34m(\u001b[0m\u001b[0mmsg\u001b[0m\u001b[0;34m,\u001b[0m \u001b[0mFutureWarning\u001b[0m\u001b[0;34m,\u001b[0m \u001b[0mstacklevel\u001b[0m\u001b[0;34m=\u001b[0m\u001b[0mstacklevel\u001b[0m\u001b[0;34m)\u001b[0m\u001b[0;34m\u001b[0m\u001b[0;34m\u001b[0m\u001b[0m\n\u001b[0;32m--> 299\u001b[0;31m             \u001b[0;32mreturn\u001b[0m \u001b[0mfunc\u001b[0m\u001b[0;34m(\u001b[0m\u001b[0;34m*\u001b[0m\u001b[0margs\u001b[0m\u001b[0;34m,\u001b[0m \u001b[0;34m**\u001b[0m\u001b[0mkwargs\u001b[0m\u001b[0;34m)\u001b[0m\u001b[0;34m\u001b[0m\u001b[0;34m\u001b[0m\u001b[0m\n\u001b[0m\u001b[1;32m    300\u001b[0m \u001b[0;34m\u001b[0m\u001b[0m\n\u001b[1;32m    301\u001b[0m         \u001b[0;32mreturn\u001b[0m \u001b[0mwrapper\u001b[0m\u001b[0;34m\u001b[0m\u001b[0;34m\u001b[0m\u001b[0m\n",
      "\u001b[0;32m/Library/Frameworks/Python.framework/Versions/3.9/lib/python3.9/site-packages/pandas/io/html.py\u001b[0m in \u001b[0;36mread_html\u001b[0;34m(io, match, flavor, header, index_col, skiprows, attrs, parse_dates, thousands, encoding, decimal, converters, na_values, keep_default_na, displayed_only)\u001b[0m\n\u001b[1;32m   1083\u001b[0m     \u001b[0mio\u001b[0m \u001b[0;34m=\u001b[0m \u001b[0mstringify_path\u001b[0m\u001b[0;34m(\u001b[0m\u001b[0mio\u001b[0m\u001b[0;34m)\u001b[0m\u001b[0;34m\u001b[0m\u001b[0;34m\u001b[0m\u001b[0m\n\u001b[1;32m   1084\u001b[0m \u001b[0;34m\u001b[0m\u001b[0m\n\u001b[0;32m-> 1085\u001b[0;31m     return _parse(\n\u001b[0m\u001b[1;32m   1086\u001b[0m         \u001b[0mflavor\u001b[0m\u001b[0;34m=\u001b[0m\u001b[0mflavor\u001b[0m\u001b[0;34m,\u001b[0m\u001b[0;34m\u001b[0m\u001b[0;34m\u001b[0m\u001b[0m\n\u001b[1;32m   1087\u001b[0m         \u001b[0mio\u001b[0m\u001b[0;34m=\u001b[0m\u001b[0mio\u001b[0m\u001b[0;34m,\u001b[0m\u001b[0;34m\u001b[0m\u001b[0;34m\u001b[0m\u001b[0m\n",
      "\u001b[0;32m/Library/Frameworks/Python.framework/Versions/3.9/lib/python3.9/site-packages/pandas/io/html.py\u001b[0m in \u001b[0;36m_parse\u001b[0;34m(flavor, io, match, attrs, encoding, displayed_only, **kwargs)\u001b[0m\n\u001b[1;32m    887\u001b[0m     \u001b[0mretained\u001b[0m \u001b[0;34m=\u001b[0m \u001b[0;32mNone\u001b[0m\u001b[0;34m\u001b[0m\u001b[0;34m\u001b[0m\u001b[0m\n\u001b[1;32m    888\u001b[0m     \u001b[0;32mfor\u001b[0m \u001b[0mflav\u001b[0m \u001b[0;32min\u001b[0m \u001b[0mflavor\u001b[0m\u001b[0;34m:\u001b[0m\u001b[0;34m\u001b[0m\u001b[0;34m\u001b[0m\u001b[0m\n\u001b[0;32m--> 889\u001b[0;31m         \u001b[0mparser\u001b[0m \u001b[0;34m=\u001b[0m \u001b[0m_parser_dispatch\u001b[0m\u001b[0;34m(\u001b[0m\u001b[0mflav\u001b[0m\u001b[0;34m)\u001b[0m\u001b[0;34m\u001b[0m\u001b[0;34m\u001b[0m\u001b[0m\n\u001b[0m\u001b[1;32m    890\u001b[0m         \u001b[0mp\u001b[0m \u001b[0;34m=\u001b[0m \u001b[0mparser\u001b[0m\u001b[0;34m(\u001b[0m\u001b[0mio\u001b[0m\u001b[0;34m,\u001b[0m \u001b[0mcompiled_match\u001b[0m\u001b[0;34m,\u001b[0m \u001b[0mattrs\u001b[0m\u001b[0;34m,\u001b[0m \u001b[0mencoding\u001b[0m\u001b[0;34m,\u001b[0m \u001b[0mdisplayed_only\u001b[0m\u001b[0;34m)\u001b[0m\u001b[0;34m\u001b[0m\u001b[0;34m\u001b[0m\u001b[0m\n\u001b[1;32m    891\u001b[0m \u001b[0;34m\u001b[0m\u001b[0m\n",
      "\u001b[0;32m/Library/Frameworks/Python.framework/Versions/3.9/lib/python3.9/site-packages/pandas/io/html.py\u001b[0m in \u001b[0;36m_parser_dispatch\u001b[0;34m(flavor)\u001b[0m\n\u001b[1;32m    844\u001b[0m     \u001b[0;32melse\u001b[0m\u001b[0;34m:\u001b[0m\u001b[0;34m\u001b[0m\u001b[0;34m\u001b[0m\u001b[0m\n\u001b[1;32m    845\u001b[0m         \u001b[0;32mif\u001b[0m \u001b[0;32mnot\u001b[0m \u001b[0m_HAS_LXML\u001b[0m\u001b[0;34m:\u001b[0m\u001b[0;34m\u001b[0m\u001b[0;34m\u001b[0m\u001b[0m\n\u001b[0;32m--> 846\u001b[0;31m             \u001b[0;32mraise\u001b[0m \u001b[0mImportError\u001b[0m\u001b[0;34m(\u001b[0m\u001b[0;34m\"lxml not found, please install it\"\u001b[0m\u001b[0;34m)\u001b[0m\u001b[0;34m\u001b[0m\u001b[0;34m\u001b[0m\u001b[0m\n\u001b[0m\u001b[1;32m    847\u001b[0m     \u001b[0;32mreturn\u001b[0m \u001b[0m_valid_parsers\u001b[0m\u001b[0;34m[\u001b[0m\u001b[0mflavor\u001b[0m\u001b[0;34m]\u001b[0m\u001b[0;34m\u001b[0m\u001b[0;34m\u001b[0m\u001b[0m\n\u001b[1;32m    848\u001b[0m \u001b[0;34m\u001b[0m\u001b[0m\n",
      "\u001b[0;31mImportError\u001b[0m: lxml not found, please install it"
     ]
    }
   ],
   "source": [
    "request_url = \"https://www.imdb.com/chart/top\"\n",
    "html_tables = pd.read_html(request_url)\n",
    "print(type(html_tables)) \n",
    "print(len(html_tables))"
   ]
  },
  {
   "cell_type": "code",
   "execution_count": 86,
   "metadata": {},
   "outputs": [
    {
     "output_type": "error",
     "ename": "NameError",
     "evalue": "name 'html_tables' is not defined",
     "traceback": [
      "\u001b[0;31m---------------------------------------------------------------------------\u001b[0m",
      "\u001b[0;31mNameError\u001b[0m                                 Traceback (most recent call last)",
      "\u001b[0;32m<ipython-input-86-b0f8d42198e7>\u001b[0m in \u001b[0;36m<module>\u001b[0;34m\u001b[0m\n\u001b[0;32m----> 1\u001b[0;31m \u001b[0mlen\u001b[0m\u001b[0;34m(\u001b[0m\u001b[0mhtml_tables\u001b[0m\u001b[0;34m)\u001b[0m\u001b[0;34m\u001b[0m\u001b[0;34m\u001b[0m\u001b[0m\n\u001b[0m",
      "\u001b[0;31mNameError\u001b[0m: name 'html_tables' is not defined"
     ]
    }
   ],
   "source": [
    "len(html_tables)"
   ]
  },
  {
   "cell_type": "code",
   "execution_count": 46,
   "metadata": {},
   "outputs": [
    {
     "data": {
      "text/html": [
       "<div>\n",
       "<style scoped>\n",
       "    .dataframe tbody tr th:only-of-type {\n",
       "        vertical-align: middle;\n",
       "    }\n",
       "\n",
       "    .dataframe tbody tr th {\n",
       "        vertical-align: top;\n",
       "    }\n",
       "\n",
       "    .dataframe thead th {\n",
       "        text-align: right;\n",
       "    }\n",
       "</style>\n",
       "<table border=\"1\" class=\"dataframe\">\n",
       "  <thead>\n",
       "    <tr style=\"text-align: right;\">\n",
       "      <th></th>\n",
       "      <th>Unnamed: 0</th>\n",
       "      <th>Rank &amp; Title</th>\n",
       "      <th>IMDb Rating</th>\n",
       "      <th>Your Rating</th>\n",
       "      <th>Unnamed: 4</th>\n",
       "    </tr>\n",
       "  </thead>\n",
       "  <tbody>\n",
       "    <tr>\n",
       "      <th>0</th>\n",
       "      <td>NaN</td>\n",
       "      <td>1.  刺激1995  (1994)</td>\n",
       "      <td>9.2</td>\n",
       "      <td>12345678910 NOT YET RELEASED  Seen</td>\n",
       "      <td>NaN</td>\n",
       "    </tr>\n",
       "    <tr>\n",
       "      <th>1</th>\n",
       "      <td>NaN</td>\n",
       "      <td>2.  教父  (1972)</td>\n",
       "      <td>9.1</td>\n",
       "      <td>12345678910 NOT YET RELEASED  Seen</td>\n",
       "      <td>NaN</td>\n",
       "    </tr>\n",
       "    <tr>\n",
       "      <th>2</th>\n",
       "      <td>NaN</td>\n",
       "      <td>3.  教父第二集  (1974)</td>\n",
       "      <td>9.0</td>\n",
       "      <td>12345678910 NOT YET RELEASED  Seen</td>\n",
       "      <td>NaN</td>\n",
       "    </tr>\n",
       "    <tr>\n",
       "      <th>3</th>\n",
       "      <td>NaN</td>\n",
       "      <td>4.  黑暗騎士  (2008)</td>\n",
       "      <td>9.0</td>\n",
       "      <td>12345678910 NOT YET RELEASED  Seen</td>\n",
       "      <td>NaN</td>\n",
       "    </tr>\n",
       "    <tr>\n",
       "      <th>4</th>\n",
       "      <td>NaN</td>\n",
       "      <td>5.  十二怒漢  (1957)</td>\n",
       "      <td>8.9</td>\n",
       "      <td>12345678910 NOT YET RELEASED  Seen</td>\n",
       "      <td>NaN</td>\n",
       "    </tr>\n",
       "    <tr>\n",
       "      <th>...</th>\n",
       "      <td>...</td>\n",
       "      <td>...</td>\n",
       "      <td>...</td>\n",
       "      <td>...</td>\n",
       "      <td>...</td>\n",
       "    </tr>\n",
       "    <tr>\n",
       "      <th>245</th>\n",
       "      <td>NaN</td>\n",
       "      <td>246.  橘子收成時  (2013)</td>\n",
       "      <td>8.0</td>\n",
       "      <td>12345678910 NOT YET RELEASED  Seen</td>\n",
       "      <td>NaN</td>\n",
       "    </tr>\n",
       "    <tr>\n",
       "      <th>246</th>\n",
       "      <td>NaN</td>\n",
       "      <td>247.  誤殺瞞天記  (2015)</td>\n",
       "      <td>8.0</td>\n",
       "      <td>12345678910 NOT YET RELEASED  Seen</td>\n",
       "      <td>NaN</td>\n",
       "    </tr>\n",
       "    <tr>\n",
       "      <th>247</th>\n",
       "      <td>NaN</td>\n",
       "      <td>248.  阿爾及爾之戰  (1966)</td>\n",
       "      <td>8.0</td>\n",
       "      <td>12345678910 NOT YET RELEASED  Seen</td>\n",
       "      <td>NaN</td>\n",
       "    </tr>\n",
       "    <tr>\n",
       "      <th>248</th>\n",
       "      <td>NaN</td>\n",
       "      <td>249.  誘惑的陷阱  (2000)</td>\n",
       "      <td>8.0</td>\n",
       "      <td>12345678910 NOT YET RELEASED  Seen</td>\n",
       "      <td>NaN</td>\n",
       "    </tr>\n",
       "    <tr>\n",
       "      <th>249</th>\n",
       "      <td>NaN</td>\n",
       "      <td>250.  故土  (2004)</td>\n",
       "      <td>8.0</td>\n",
       "      <td>12345678910 NOT YET RELEASED  Seen</td>\n",
       "      <td>NaN</td>\n",
       "    </tr>\n",
       "  </tbody>\n",
       "</table>\n",
       "<p>250 rows × 5 columns</p>\n",
       "</div>"
      ],
      "text/plain": [
       "     Unnamed: 0          Rank & Title  IMDb Rating  \\\n",
       "0           NaN    1.  刺激1995  (1994)          9.2   \n",
       "1           NaN        2.  教父  (1972)          9.1   \n",
       "2           NaN     3.  教父第二集  (1974)          9.0   \n",
       "3           NaN      4.  黑暗騎士  (2008)          9.0   \n",
       "4           NaN      5.  十二怒漢  (1957)          8.9   \n",
       "..          ...                   ...          ...   \n",
       "245         NaN   246.  橘子收成時  (2013)          8.0   \n",
       "246         NaN   247.  誤殺瞞天記  (2015)          8.0   \n",
       "247         NaN  248.  阿爾及爾之戰  (1966)          8.0   \n",
       "248         NaN   249.  誘惑的陷阱  (2000)          8.0   \n",
       "249         NaN      250.  故土  (2004)          8.0   \n",
       "\n",
       "                            Your Rating  Unnamed: 4  \n",
       "0    12345678910 NOT YET RELEASED  Seen         NaN  \n",
       "1    12345678910 NOT YET RELEASED  Seen         NaN  \n",
       "2    12345678910 NOT YET RELEASED  Seen         NaN  \n",
       "3    12345678910 NOT YET RELEASED  Seen         NaN  \n",
       "4    12345678910 NOT YET RELEASED  Seen         NaN  \n",
       "..                                  ...         ...  \n",
       "245  12345678910 NOT YET RELEASED  Seen         NaN  \n",
       "246  12345678910 NOT YET RELEASED  Seen         NaN  \n",
       "247  12345678910 NOT YET RELEASED  Seen         NaN  \n",
       "248  12345678910 NOT YET RELEASED  Seen         NaN  \n",
       "249  12345678910 NOT YET RELEASED  Seen         NaN  \n",
       "\n",
       "[250 rows x 5 columns]"
      ]
     },
     "execution_count": 46,
     "metadata": {},
     "output_type": "execute_result"
    }
   ],
   "source": [
    "html_tables[0]"
   ]
  },
  {
   "cell_type": "code",
   "execution_count": 47,
   "metadata": {},
   "outputs": [
    {
     "data": {
      "text/html": [
       "<div>\n",
       "<style scoped>\n",
       "    .dataframe tbody tr th:only-of-type {\n",
       "        vertical-align: middle;\n",
       "    }\n",
       "\n",
       "    .dataframe tbody tr th {\n",
       "        vertical-align: top;\n",
       "    }\n",
       "\n",
       "    .dataframe thead th {\n",
       "        text-align: right;\n",
       "    }\n",
       "</style>\n",
       "<table border=\"1\" class=\"dataframe\">\n",
       "  <thead>\n",
       "    <tr style=\"text-align: right;\">\n",
       "      <th></th>\n",
       "      <th>FIPS</th>\n",
       "      <th>Admin2</th>\n",
       "      <th>Province_State</th>\n",
       "      <th>Country_Region</th>\n",
       "      <th>Last_Update</th>\n",
       "      <th>Lat</th>\n",
       "      <th>Long_</th>\n",
       "      <th>Confirmed</th>\n",
       "      <th>Deaths</th>\n",
       "      <th>Recovered</th>\n",
       "      <th>Active</th>\n",
       "      <th>Combined_Key</th>\n",
       "      <th>Incident_Rate</th>\n",
       "      <th>Case_Fatality_Ratio</th>\n",
       "    </tr>\n",
       "  </thead>\n",
       "  <tbody>\n",
       "    <tr>\n",
       "      <th>652</th>\n",
       "      <td>1001.0</td>\n",
       "      <td>Autauga</td>\n",
       "      <td>Alabama</td>\n",
       "      <td>US</td>\n",
       "      <td>2021-04-28 04:20:32</td>\n",
       "      <td>32.539527</td>\n",
       "      <td>-86.644082</td>\n",
       "      <td>6889</td>\n",
       "      <td>107</td>\n",
       "      <td>NaN</td>\n",
       "      <td>NaN</td>\n",
       "      <td>Autauga, Alabama, US</td>\n",
       "      <td>12330.630582</td>\n",
       "      <td>1.553201</td>\n",
       "    </tr>\n",
       "    <tr>\n",
       "      <th>653</th>\n",
       "      <td>1003.0</td>\n",
       "      <td>Baldwin</td>\n",
       "      <td>Alabama</td>\n",
       "      <td>US</td>\n",
       "      <td>2021-04-28 04:20:32</td>\n",
       "      <td>30.727750</td>\n",
       "      <td>-87.722071</td>\n",
       "      <td>20875</td>\n",
       "      <td>305</td>\n",
       "      <td>NaN</td>\n",
       "      <td>NaN</td>\n",
       "      <td>Baldwin, Alabama, US</td>\n",
       "      <td>9351.174104</td>\n",
       "      <td>1.461078</td>\n",
       "    </tr>\n",
       "    <tr>\n",
       "      <th>654</th>\n",
       "      <td>1005.0</td>\n",
       "      <td>Barbour</td>\n",
       "      <td>Alabama</td>\n",
       "      <td>US</td>\n",
       "      <td>2021-04-28 04:20:32</td>\n",
       "      <td>31.868263</td>\n",
       "      <td>-85.387129</td>\n",
       "      <td>2297</td>\n",
       "      <td>56</td>\n",
       "      <td>NaN</td>\n",
       "      <td>NaN</td>\n",
       "      <td>Barbour, Alabama, US</td>\n",
       "      <td>9304.869157</td>\n",
       "      <td>2.437963</td>\n",
       "    </tr>\n",
       "    <tr>\n",
       "      <th>655</th>\n",
       "      <td>1007.0</td>\n",
       "      <td>Bibb</td>\n",
       "      <td>Alabama</td>\n",
       "      <td>US</td>\n",
       "      <td>2021-04-28 04:20:32</td>\n",
       "      <td>32.996421</td>\n",
       "      <td>-87.125115</td>\n",
       "      <td>2588</td>\n",
       "      <td>62</td>\n",
       "      <td>NaN</td>\n",
       "      <td>NaN</td>\n",
       "      <td>Bibb, Alabama, US</td>\n",
       "      <td>11556.666964</td>\n",
       "      <td>2.395672</td>\n",
       "    </tr>\n",
       "    <tr>\n",
       "      <th>656</th>\n",
       "      <td>1009.0</td>\n",
       "      <td>Blount</td>\n",
       "      <td>Alabama</td>\n",
       "      <td>US</td>\n",
       "      <td>2021-04-28 04:20:32</td>\n",
       "      <td>33.982109</td>\n",
       "      <td>-86.567906</td>\n",
       "      <td>6581</td>\n",
       "      <td>134</td>\n",
       "      <td>NaN</td>\n",
       "      <td>NaN</td>\n",
       "      <td>Blount, Alabama, US</td>\n",
       "      <td>11380.693806</td>\n",
       "      <td>2.036165</td>\n",
       "    </tr>\n",
       "    <tr>\n",
       "      <th>...</th>\n",
       "      <td>...</td>\n",
       "      <td>...</td>\n",
       "      <td>...</td>\n",
       "      <td>...</td>\n",
       "      <td>...</td>\n",
       "      <td>...</td>\n",
       "      <td>...</td>\n",
       "      <td>...</td>\n",
       "      <td>...</td>\n",
       "      <td>...</td>\n",
       "      <td>...</td>\n",
       "      <td>...</td>\n",
       "      <td>...</td>\n",
       "      <td>...</td>\n",
       "    </tr>\n",
       "    <tr>\n",
       "      <th>3924</th>\n",
       "      <td>56039.0</td>\n",
       "      <td>Teton</td>\n",
       "      <td>Wyoming</td>\n",
       "      <td>US</td>\n",
       "      <td>2021-04-28 04:20:32</td>\n",
       "      <td>43.935225</td>\n",
       "      <td>-110.589080</td>\n",
       "      <td>3725</td>\n",
       "      <td>9</td>\n",
       "      <td>NaN</td>\n",
       "      <td>NaN</td>\n",
       "      <td>Teton, Wyoming, US</td>\n",
       "      <td>15875.383566</td>\n",
       "      <td>0.241611</td>\n",
       "    </tr>\n",
       "    <tr>\n",
       "      <th>3925</th>\n",
       "      <td>56041.0</td>\n",
       "      <td>Uinta</td>\n",
       "      <td>Wyoming</td>\n",
       "      <td>US</td>\n",
       "      <td>2021-04-28 04:20:32</td>\n",
       "      <td>41.287818</td>\n",
       "      <td>-110.547578</td>\n",
       "      <td>2173</td>\n",
       "      <td>12</td>\n",
       "      <td>NaN</td>\n",
       "      <td>NaN</td>\n",
       "      <td>Uinta, Wyoming, US</td>\n",
       "      <td>10743.597350</td>\n",
       "      <td>0.552232</td>\n",
       "    </tr>\n",
       "    <tr>\n",
       "      <th>3926</th>\n",
       "      <td>90056.0</td>\n",
       "      <td>Unassigned</td>\n",
       "      <td>Wyoming</td>\n",
       "      <td>US</td>\n",
       "      <td>2021-04-28 04:20:32</td>\n",
       "      <td>NaN</td>\n",
       "      <td>NaN</td>\n",
       "      <td>0</td>\n",
       "      <td>0</td>\n",
       "      <td>NaN</td>\n",
       "      <td>NaN</td>\n",
       "      <td>Unassigned, Wyoming, US</td>\n",
       "      <td>NaN</td>\n",
       "      <td>NaN</td>\n",
       "    </tr>\n",
       "    <tr>\n",
       "      <th>3927</th>\n",
       "      <td>56043.0</td>\n",
       "      <td>Washakie</td>\n",
       "      <td>Wyoming</td>\n",
       "      <td>US</td>\n",
       "      <td>2021-04-28 04:20:32</td>\n",
       "      <td>43.904516</td>\n",
       "      <td>-107.680187</td>\n",
       "      <td>901</td>\n",
       "      <td>26</td>\n",
       "      <td>NaN</td>\n",
       "      <td>NaN</td>\n",
       "      <td>Washakie, Wyoming, US</td>\n",
       "      <td>11543.882127</td>\n",
       "      <td>2.885683</td>\n",
       "    </tr>\n",
       "    <tr>\n",
       "      <th>3928</th>\n",
       "      <td>56045.0</td>\n",
       "      <td>Weston</td>\n",
       "      <td>Wyoming</td>\n",
       "      <td>US</td>\n",
       "      <td>2021-04-28 04:20:32</td>\n",
       "      <td>43.839612</td>\n",
       "      <td>-104.567488</td>\n",
       "      <td>648</td>\n",
       "      <td>5</td>\n",
       "      <td>NaN</td>\n",
       "      <td>NaN</td>\n",
       "      <td>Weston, Wyoming, US</td>\n",
       "      <td>9354.699004</td>\n",
       "      <td>0.771605</td>\n",
       "    </tr>\n",
       "  </tbody>\n",
       "</table>\n",
       "<p>3277 rows × 14 columns</p>\n",
       "</div>"
      ],
      "text/plain": [
       "         FIPS      Admin2 Province_State Country_Region          Last_Update  \\\n",
       "652    1001.0     Autauga        Alabama             US  2021-04-28 04:20:32   \n",
       "653    1003.0     Baldwin        Alabama             US  2021-04-28 04:20:32   \n",
       "654    1005.0     Barbour        Alabama             US  2021-04-28 04:20:32   \n",
       "655    1007.0        Bibb        Alabama             US  2021-04-28 04:20:32   \n",
       "656    1009.0      Blount        Alabama             US  2021-04-28 04:20:32   \n",
       "...       ...         ...            ...            ...                  ...   \n",
       "3924  56039.0       Teton        Wyoming             US  2021-04-28 04:20:32   \n",
       "3925  56041.0       Uinta        Wyoming             US  2021-04-28 04:20:32   \n",
       "3926  90056.0  Unassigned        Wyoming             US  2021-04-28 04:20:32   \n",
       "3927  56043.0    Washakie        Wyoming             US  2021-04-28 04:20:32   \n",
       "3928  56045.0      Weston        Wyoming             US  2021-04-28 04:20:32   \n",
       "\n",
       "            Lat       Long_  Confirmed  Deaths  Recovered  Active  \\\n",
       "652   32.539527  -86.644082       6889     107        NaN     NaN   \n",
       "653   30.727750  -87.722071      20875     305        NaN     NaN   \n",
       "654   31.868263  -85.387129       2297      56        NaN     NaN   \n",
       "655   32.996421  -87.125115       2588      62        NaN     NaN   \n",
       "656   33.982109  -86.567906       6581     134        NaN     NaN   \n",
       "...         ...         ...        ...     ...        ...     ...   \n",
       "3924  43.935225 -110.589080       3725       9        NaN     NaN   \n",
       "3925  41.287818 -110.547578       2173      12        NaN     NaN   \n",
       "3926        NaN         NaN          0       0        NaN     NaN   \n",
       "3927  43.904516 -107.680187        901      26        NaN     NaN   \n",
       "3928  43.839612 -104.567488        648       5        NaN     NaN   \n",
       "\n",
       "                 Combined_Key  Incident_Rate  Case_Fatality_Ratio  \n",
       "652      Autauga, Alabama, US   12330.630582             1.553201  \n",
       "653      Baldwin, Alabama, US    9351.174104             1.461078  \n",
       "654      Barbour, Alabama, US    9304.869157             2.437963  \n",
       "655         Bibb, Alabama, US   11556.666964             2.395672  \n",
       "656       Blount, Alabama, US   11380.693806             2.036165  \n",
       "...                       ...            ...                  ...  \n",
       "3924       Teton, Wyoming, US   15875.383566             0.241611  \n",
       "3925       Uinta, Wyoming, US   10743.597350             0.552232  \n",
       "3926  Unassigned, Wyoming, US            NaN                  NaN  \n",
       "3927    Washakie, Wyoming, US   11543.882127             2.885683  \n",
       "3928      Weston, Wyoming, US    9354.699004             0.771605  \n",
       "\n",
       "[3277 rows x 14 columns]"
      ]
     },
     "execution_count": 47,
     "metadata": {},
     "output_type": "execute_result"
    }
   ],
   "source": [
    "daily_report[daily_report['Country_Region'] == 'US']"
   ]
  },
  {
   "cell_type": "code",
   "execution_count": 48,
   "metadata": {},
   "outputs": [
    {
     "name": "stdout",
     "output_type": "stream",
     "text": [
      "Country_Region    Taiwan*\n",
      "Confirmed            1110\n",
      "Name: 643, dtype: object\n"
     ]
    },
    {
     "data": {
      "text/html": [
       "<div>\n",
       "<style scoped>\n",
       "    .dataframe tbody tr th:only-of-type {\n",
       "        vertical-align: middle;\n",
       "    }\n",
       "\n",
       "    .dataframe tbody tr th {\n",
       "        vertical-align: top;\n",
       "    }\n",
       "\n",
       "    .dataframe thead th {\n",
       "        text-align: right;\n",
       "    }\n",
       "</style>\n",
       "<table border=\"1\" class=\"dataframe\">\n",
       "  <thead>\n",
       "    <tr style=\"text-align: right;\">\n",
       "      <th></th>\n",
       "      <th>Country_Region</th>\n",
       "      <th>Confirmed</th>\n",
       "    </tr>\n",
       "  </thead>\n",
       "  <tbody>\n",
       "    <tr>\n",
       "      <th>643</th>\n",
       "      <td>Taiwan*</td>\n",
       "      <td>1110</td>\n",
       "    </tr>\n",
       "  </tbody>\n",
       "</table>\n",
       "</div>"
      ],
      "text/plain": [
       "    Country_Region  Confirmed\n",
       "643        Taiwan*       1110"
      ]
     },
     "execution_count": 48,
     "metadata": {},
     "output_type": "execute_result"
    }
   ],
   "source": [
    "print(daily_report.loc[643, ['Country_Region', 'Confirmed']]) # as Series \n",
    "daily_report.loc[[643], ['Country_Region', 'Confirmed']]# as DataFrame"
   ]
  },
  {
   "cell_type": "code",
   "execution_count": 49,
   "metadata": {},
   "outputs": [
    {
     "name": "stdout",
     "output_type": "stream",
     "text": [
      "Country_Region      US\n",
      "Confirmed         4146\n",
      "Name: 3388, dtype: object\n"
     ]
    },
    {
     "data": {
      "text/html": [
       "<div>\n",
       "<style scoped>\n",
       "    .dataframe tbody tr th:only-of-type {\n",
       "        vertical-align: middle;\n",
       "    }\n",
       "\n",
       "    .dataframe tbody tr th {\n",
       "        vertical-align: top;\n",
       "    }\n",
       "\n",
       "    .dataframe thead th {\n",
       "        text-align: right;\n",
       "    }\n",
       "</style>\n",
       "<table border=\"1\" class=\"dataframe\">\n",
       "  <thead>\n",
       "    <tr style=\"text-align: right;\">\n",
       "      <th></th>\n",
       "      <th>Country_Region</th>\n",
       "      <th>Confirmed</th>\n",
       "    </tr>\n",
       "  </thead>\n",
       "  <tbody>\n",
       "    <tr>\n",
       "      <th>3388</th>\n",
       "      <td>US</td>\n",
       "      <td>4146</td>\n",
       "    </tr>\n",
       "  </tbody>\n",
       "</table>\n",
       "</div>"
      ],
      "text/plain": [
       "     Country_Region  Confirmed\n",
       "3388             US       4146"
      ]
     },
     "execution_count": 49,
     "metadata": {},
     "output_type": "execute_result"
    }
   ],
   "source": [
    "print(daily_report.iloc[3388, [3, 7]]) # as Series \n",
    "daily_report.iloc[[3388], [3, 7]] # as DataFrame"
   ]
  },
  {
   "source": [
    "## 05.01.2021"
   ],
   "cell_type": "markdown",
   "metadata": {}
  },
  {
   "source": [
    "## Dealing with missing values\n",
    "\n",
    "- Using isnull or notnull to check if np.NaN exists\n",
    "- Using dropna to drop rows with np.NaN\n",
    "- Using fillna to fill np.NaN with specific values"
   ],
   "cell_type": "markdown",
   "metadata": {}
  },
  {
   "cell_type": "code",
   "execution_count": 87,
   "metadata": {},
   "outputs": [
    {
     "output_type": "execute_result",
     "data": {
      "text/plain": [
       "   FIPS Admin2                Province_State       Country_Region  \\\n",
       "0   NaN    NaN                           NaN          Afghanistan   \n",
       "1   NaN    NaN                           NaN              Albania   \n",
       "2   NaN    NaN                           NaN              Algeria   \n",
       "3   NaN    NaN                           NaN              Andorra   \n",
       "4   NaN    NaN                           NaN               Angola   \n",
       "5   NaN    NaN                           NaN  Antigua and Barbuda   \n",
       "6   NaN    NaN                           NaN            Argentina   \n",
       "7   NaN    NaN                           NaN              Armenia   \n",
       "8   NaN    NaN  Australian Capital Territory            Australia   \n",
       "9   NaN    NaN               New South Wales            Australia   \n",
       "\n",
       "           Last_Update       Lat       Long_  Confirmed  Deaths  Recovered  \\\n",
       "0  2021-04-30 04:21:03  33.93911   67.709953      59576    2618    53103.0   \n",
       "1  2021-04-30 04:21:03  41.15330   20.168300     130977    2389   108606.0   \n",
       "2  2021-04-30 04:21:03  28.03390    1.659600     121866    3244    84940.0   \n",
       "3  2021-04-30 04:21:03  42.50630    1.521800      13198     125    12650.0   \n",
       "4  2021-04-30 04:21:03 -11.20270   17.873900      26431     594    23606.0   \n",
       "5  2021-04-30 04:21:03  17.06080  -61.796400       1232      32     1014.0   \n",
       "6  2021-04-30 04:21:03 -38.41610  -63.616700    2954943   63508  2608077.0   \n",
       "7  2021-04-30 04:21:03  40.06910   45.038200     215528    4087   197171.0   \n",
       "8  2021-04-30 04:21:03 -35.47350  149.012400        124       3      120.0   \n",
       "9  2021-04-30 04:21:03 -33.86880  151.209300       5477      54        0.0   \n",
       "\n",
       "     Active                             Combined_Key  Incident_Rate  \\\n",
       "0    3855.0                              Afghanistan     153.040172   \n",
       "1   19982.0                                  Albania    4551.289179   \n",
       "2   33682.0                                  Algeria     277.909011   \n",
       "3     423.0                                  Andorra   17081.472853   \n",
       "4    2231.0                                   Angola      80.419840   \n",
       "5     186.0                      Antigua and Barbuda    1258.067151   \n",
       "6  283358.0                                Argentina    6538.095362   \n",
       "7   14270.0                                  Armenia    7273.404665   \n",
       "8       1.0  Australian Capital Territory, Australia      28.965195   \n",
       "9    5423.0               New South Wales, Australia      67.467356   \n",
       "\n",
       "   Case_Fatality_Ratio  \n",
       "0             4.394387  \n",
       "1             1.823984  \n",
       "2             2.661940  \n",
       "3             0.947113  \n",
       "4             2.247361  \n",
       "5             2.597403  \n",
       "6             2.149212  \n",
       "7             1.896273  \n",
       "8             2.419355  \n",
       "9             0.985941  "
      ],
      "text/html": "<div>\n<style scoped>\n    .dataframe tbody tr th:only-of-type {\n        vertical-align: middle;\n    }\n\n    .dataframe tbody tr th {\n        vertical-align: top;\n    }\n\n    .dataframe thead th {\n        text-align: right;\n    }\n</style>\n<table border=\"1\" class=\"dataframe\">\n  <thead>\n    <tr style=\"text-align: right;\">\n      <th></th>\n      <th>FIPS</th>\n      <th>Admin2</th>\n      <th>Province_State</th>\n      <th>Country_Region</th>\n      <th>Last_Update</th>\n      <th>Lat</th>\n      <th>Long_</th>\n      <th>Confirmed</th>\n      <th>Deaths</th>\n      <th>Recovered</th>\n      <th>Active</th>\n      <th>Combined_Key</th>\n      <th>Incident_Rate</th>\n      <th>Case_Fatality_Ratio</th>\n    </tr>\n  </thead>\n  <tbody>\n    <tr>\n      <th>0</th>\n      <td>NaN</td>\n      <td>NaN</td>\n      <td>NaN</td>\n      <td>Afghanistan</td>\n      <td>2021-04-30 04:21:03</td>\n      <td>33.93911</td>\n      <td>67.709953</td>\n      <td>59576</td>\n      <td>2618</td>\n      <td>53103.0</td>\n      <td>3855.0</td>\n      <td>Afghanistan</td>\n      <td>153.040172</td>\n      <td>4.394387</td>\n    </tr>\n    <tr>\n      <th>1</th>\n      <td>NaN</td>\n      <td>NaN</td>\n      <td>NaN</td>\n      <td>Albania</td>\n      <td>2021-04-30 04:21:03</td>\n      <td>41.15330</td>\n      <td>20.168300</td>\n      <td>130977</td>\n      <td>2389</td>\n      <td>108606.0</td>\n      <td>19982.0</td>\n      <td>Albania</td>\n      <td>4551.289179</td>\n      <td>1.823984</td>\n    </tr>\n    <tr>\n      <th>2</th>\n      <td>NaN</td>\n      <td>NaN</td>\n      <td>NaN</td>\n      <td>Algeria</td>\n      <td>2021-04-30 04:21:03</td>\n      <td>28.03390</td>\n      <td>1.659600</td>\n      <td>121866</td>\n      <td>3244</td>\n      <td>84940.0</td>\n      <td>33682.0</td>\n      <td>Algeria</td>\n      <td>277.909011</td>\n      <td>2.661940</td>\n    </tr>\n    <tr>\n      <th>3</th>\n      <td>NaN</td>\n      <td>NaN</td>\n      <td>NaN</td>\n      <td>Andorra</td>\n      <td>2021-04-30 04:21:03</td>\n      <td>42.50630</td>\n      <td>1.521800</td>\n      <td>13198</td>\n      <td>125</td>\n      <td>12650.0</td>\n      <td>423.0</td>\n      <td>Andorra</td>\n      <td>17081.472853</td>\n      <td>0.947113</td>\n    </tr>\n    <tr>\n      <th>4</th>\n      <td>NaN</td>\n      <td>NaN</td>\n      <td>NaN</td>\n      <td>Angola</td>\n      <td>2021-04-30 04:21:03</td>\n      <td>-11.20270</td>\n      <td>17.873900</td>\n      <td>26431</td>\n      <td>594</td>\n      <td>23606.0</td>\n      <td>2231.0</td>\n      <td>Angola</td>\n      <td>80.419840</td>\n      <td>2.247361</td>\n    </tr>\n    <tr>\n      <th>5</th>\n      <td>NaN</td>\n      <td>NaN</td>\n      <td>NaN</td>\n      <td>Antigua and Barbuda</td>\n      <td>2021-04-30 04:21:03</td>\n      <td>17.06080</td>\n      <td>-61.796400</td>\n      <td>1232</td>\n      <td>32</td>\n      <td>1014.0</td>\n      <td>186.0</td>\n      <td>Antigua and Barbuda</td>\n      <td>1258.067151</td>\n      <td>2.597403</td>\n    </tr>\n    <tr>\n      <th>6</th>\n      <td>NaN</td>\n      <td>NaN</td>\n      <td>NaN</td>\n      <td>Argentina</td>\n      <td>2021-04-30 04:21:03</td>\n      <td>-38.41610</td>\n      <td>-63.616700</td>\n      <td>2954943</td>\n      <td>63508</td>\n      <td>2608077.0</td>\n      <td>283358.0</td>\n      <td>Argentina</td>\n      <td>6538.095362</td>\n      <td>2.149212</td>\n    </tr>\n    <tr>\n      <th>7</th>\n      <td>NaN</td>\n      <td>NaN</td>\n      <td>NaN</td>\n      <td>Armenia</td>\n      <td>2021-04-30 04:21:03</td>\n      <td>40.06910</td>\n      <td>45.038200</td>\n      <td>215528</td>\n      <td>4087</td>\n      <td>197171.0</td>\n      <td>14270.0</td>\n      <td>Armenia</td>\n      <td>7273.404665</td>\n      <td>1.896273</td>\n    </tr>\n    <tr>\n      <th>8</th>\n      <td>NaN</td>\n      <td>NaN</td>\n      <td>Australian Capital Territory</td>\n      <td>Australia</td>\n      <td>2021-04-30 04:21:03</td>\n      <td>-35.47350</td>\n      <td>149.012400</td>\n      <td>124</td>\n      <td>3</td>\n      <td>120.0</td>\n      <td>1.0</td>\n      <td>Australian Capital Territory, Australia</td>\n      <td>28.965195</td>\n      <td>2.419355</td>\n    </tr>\n    <tr>\n      <th>9</th>\n      <td>NaN</td>\n      <td>NaN</td>\n      <td>New South Wales</td>\n      <td>Australia</td>\n      <td>2021-04-30 04:21:03</td>\n      <td>-33.86880</td>\n      <td>151.209300</td>\n      <td>5477</td>\n      <td>54</td>\n      <td>0.0</td>\n      <td>5423.0</td>\n      <td>New South Wales, Australia</td>\n      <td>67.467356</td>\n      <td>0.985941</td>\n    </tr>\n  </tbody>\n</table>\n</div>"
     },
     "metadata": {},
     "execution_count": 87
    }
   ],
   "source": [
    "daily_report.head(10)"
   ]
  },
  {
   "cell_type": "code",
   "execution_count": 88,
   "metadata": {},
   "outputs": [
    {
     "output_type": "stream",
     "name": "stdout",
     "text": [
      "3983\n171\n3812\n"
     ]
    }
   ],
   "source": [
    "print(daily_report['Province_State'].size)\n",
    "print(daily_report['Province_State'].isnull().sum())\n",
    "print(daily_report['Province_State'].notnull().sum())"
   ]
  },
  {
   "cell_type": "code",
   "execution_count": 89,
   "metadata": {},
   "outputs": [
    {
     "output_type": "execute_result",
     "data": {
      "text/plain": [
       "         FIPS      Admin2 Province_State Country_Region          Last_Update  \\\n",
       "652    1001.0     Autauga        Alabama             US  2021-04-30 04:21:03   \n",
       "653    1003.0     Baldwin        Alabama             US  2021-04-30 04:21:03   \n",
       "654    1005.0     Barbour        Alabama             US  2021-04-30 04:21:03   \n",
       "655    1007.0        Bibb        Alabama             US  2021-04-30 04:21:03   \n",
       "656    1009.0      Blount        Alabama             US  2021-04-30 04:21:03   \n",
       "...       ...         ...            ...            ...                  ...   \n",
       "3924  56039.0       Teton        Wyoming             US  2021-04-30 04:21:03   \n",
       "3925  56041.0       Uinta        Wyoming             US  2021-04-30 04:21:03   \n",
       "3926  90056.0  Unassigned        Wyoming             US  2021-04-30 04:21:03   \n",
       "3927  56043.0    Washakie        Wyoming             US  2021-04-30 04:21:03   \n",
       "3928  56045.0      Weston        Wyoming             US  2021-04-30 04:21:03   \n",
       "\n",
       "            Lat       Long_  Confirmed  Deaths  Recovered  Active  \\\n",
       "652   32.539527  -86.644082       6897     107        NaN     NaN   \n",
       "653   30.727750  -87.722071      20921     305        NaN     NaN   \n",
       "654   31.868263  -85.387129       2299      56        NaN     NaN   \n",
       "655   32.996421  -87.125115       2593      63        NaN     NaN   \n",
       "656   33.982109  -86.567906       6607     135        NaN     NaN   \n",
       "...         ...         ...        ...     ...        ...     ...   \n",
       "3924  43.935225 -110.589080       3730       9        NaN     NaN   \n",
       "3925  41.287818 -110.547578       2181      12        NaN     NaN   \n",
       "3926        NaN         NaN          0       0        NaN     NaN   \n",
       "3927  43.904516 -107.680187        903      26        NaN     NaN   \n",
       "3928  43.839612 -104.567488        650       5        NaN     NaN   \n",
       "\n",
       "                 Combined_Key  Incident_Rate  Case_Fatality_Ratio  \n",
       "652      Autauga, Alabama, US   12344.949793             1.551399  \n",
       "653      Baldwin, Alabama, US    9371.780284             1.457865  \n",
       "654      Barbour, Alabama, US    9312.970915             2.435842  \n",
       "655         Bibb, Alabama, US   11578.994373             2.429618  \n",
       "656       Blount, Alabama, US   11425.656279             2.043287  \n",
       "...                       ...            ...                  ...  \n",
       "3924       Teton, Wyoming, US   15896.692806             0.241287  \n",
       "3925       Uinta, Wyoming, US   10783.150400             0.550206  \n",
       "3926  Unassigned, Wyoming, US            NaN                  NaN  \n",
       "3927    Washakie, Wyoming, US   11569.506726             2.879291  \n",
       "3928      Weston, Wyoming, US    9383.571532             0.769231  \n",
       "\n",
       "[3277 rows x 14 columns]"
      ],
      "text/html": "<div>\n<style scoped>\n    .dataframe tbody tr th:only-of-type {\n        vertical-align: middle;\n    }\n\n    .dataframe tbody tr th {\n        vertical-align: top;\n    }\n\n    .dataframe thead th {\n        text-align: right;\n    }\n</style>\n<table border=\"1\" class=\"dataframe\">\n  <thead>\n    <tr style=\"text-align: right;\">\n      <th></th>\n      <th>FIPS</th>\n      <th>Admin2</th>\n      <th>Province_State</th>\n      <th>Country_Region</th>\n      <th>Last_Update</th>\n      <th>Lat</th>\n      <th>Long_</th>\n      <th>Confirmed</th>\n      <th>Deaths</th>\n      <th>Recovered</th>\n      <th>Active</th>\n      <th>Combined_Key</th>\n      <th>Incident_Rate</th>\n      <th>Case_Fatality_Ratio</th>\n    </tr>\n  </thead>\n  <tbody>\n    <tr>\n      <th>652</th>\n      <td>1001.0</td>\n      <td>Autauga</td>\n      <td>Alabama</td>\n      <td>US</td>\n      <td>2021-04-30 04:21:03</td>\n      <td>32.539527</td>\n      <td>-86.644082</td>\n      <td>6897</td>\n      <td>107</td>\n      <td>NaN</td>\n      <td>NaN</td>\n      <td>Autauga, Alabama, US</td>\n      <td>12344.949793</td>\n      <td>1.551399</td>\n    </tr>\n    <tr>\n      <th>653</th>\n      <td>1003.0</td>\n      <td>Baldwin</td>\n      <td>Alabama</td>\n      <td>US</td>\n      <td>2021-04-30 04:21:03</td>\n      <td>30.727750</td>\n      <td>-87.722071</td>\n      <td>20921</td>\n      <td>305</td>\n      <td>NaN</td>\n      <td>NaN</td>\n      <td>Baldwin, Alabama, US</td>\n      <td>9371.780284</td>\n      <td>1.457865</td>\n    </tr>\n    <tr>\n      <th>654</th>\n      <td>1005.0</td>\n      <td>Barbour</td>\n      <td>Alabama</td>\n      <td>US</td>\n      <td>2021-04-30 04:21:03</td>\n      <td>31.868263</td>\n      <td>-85.387129</td>\n      <td>2299</td>\n      <td>56</td>\n      <td>NaN</td>\n      <td>NaN</td>\n      <td>Barbour, Alabama, US</td>\n      <td>9312.970915</td>\n      <td>2.435842</td>\n    </tr>\n    <tr>\n      <th>655</th>\n      <td>1007.0</td>\n      <td>Bibb</td>\n      <td>Alabama</td>\n      <td>US</td>\n      <td>2021-04-30 04:21:03</td>\n      <td>32.996421</td>\n      <td>-87.125115</td>\n      <td>2593</td>\n      <td>63</td>\n      <td>NaN</td>\n      <td>NaN</td>\n      <td>Bibb, Alabama, US</td>\n      <td>11578.994373</td>\n      <td>2.429618</td>\n    </tr>\n    <tr>\n      <th>656</th>\n      <td>1009.0</td>\n      <td>Blount</td>\n      <td>Alabama</td>\n      <td>US</td>\n      <td>2021-04-30 04:21:03</td>\n      <td>33.982109</td>\n      <td>-86.567906</td>\n      <td>6607</td>\n      <td>135</td>\n      <td>NaN</td>\n      <td>NaN</td>\n      <td>Blount, Alabama, US</td>\n      <td>11425.656279</td>\n      <td>2.043287</td>\n    </tr>\n    <tr>\n      <th>...</th>\n      <td>...</td>\n      <td>...</td>\n      <td>...</td>\n      <td>...</td>\n      <td>...</td>\n      <td>...</td>\n      <td>...</td>\n      <td>...</td>\n      <td>...</td>\n      <td>...</td>\n      <td>...</td>\n      <td>...</td>\n      <td>...</td>\n      <td>...</td>\n    </tr>\n    <tr>\n      <th>3924</th>\n      <td>56039.0</td>\n      <td>Teton</td>\n      <td>Wyoming</td>\n      <td>US</td>\n      <td>2021-04-30 04:21:03</td>\n      <td>43.935225</td>\n      <td>-110.589080</td>\n      <td>3730</td>\n      <td>9</td>\n      <td>NaN</td>\n      <td>NaN</td>\n      <td>Teton, Wyoming, US</td>\n      <td>15896.692806</td>\n      <td>0.241287</td>\n    </tr>\n    <tr>\n      <th>3925</th>\n      <td>56041.0</td>\n      <td>Uinta</td>\n      <td>Wyoming</td>\n      <td>US</td>\n      <td>2021-04-30 04:21:03</td>\n      <td>41.287818</td>\n      <td>-110.547578</td>\n      <td>2181</td>\n      <td>12</td>\n      <td>NaN</td>\n      <td>NaN</td>\n      <td>Uinta, Wyoming, US</td>\n      <td>10783.150400</td>\n      <td>0.550206</td>\n    </tr>\n    <tr>\n      <th>3926</th>\n      <td>90056.0</td>\n      <td>Unassigned</td>\n      <td>Wyoming</td>\n      <td>US</td>\n      <td>2021-04-30 04:21:03</td>\n      <td>NaN</td>\n      <td>NaN</td>\n      <td>0</td>\n      <td>0</td>\n      <td>NaN</td>\n      <td>NaN</td>\n      <td>Unassigned, Wyoming, US</td>\n      <td>NaN</td>\n      <td>NaN</td>\n    </tr>\n    <tr>\n      <th>3927</th>\n      <td>56043.0</td>\n      <td>Washakie</td>\n      <td>Wyoming</td>\n      <td>US</td>\n      <td>2021-04-30 04:21:03</td>\n      <td>43.904516</td>\n      <td>-107.680187</td>\n      <td>903</td>\n      <td>26</td>\n      <td>NaN</td>\n      <td>NaN</td>\n      <td>Washakie, Wyoming, US</td>\n      <td>11569.506726</td>\n      <td>2.879291</td>\n    </tr>\n    <tr>\n      <th>3928</th>\n      <td>56045.0</td>\n      <td>Weston</td>\n      <td>Wyoming</td>\n      <td>US</td>\n      <td>2021-04-30 04:21:03</td>\n      <td>43.839612</td>\n      <td>-104.567488</td>\n      <td>650</td>\n      <td>5</td>\n      <td>NaN</td>\n      <td>NaN</td>\n      <td>Weston, Wyoming, US</td>\n      <td>9383.571532</td>\n      <td>0.769231</td>\n    </tr>\n  </tbody>\n</table>\n<p>3277 rows × 14 columns</p>\n</div>"
     },
     "metadata": {},
     "execution_count": 89
    }
   ],
   "source": [
    "daily_report[daily_report['Country_Region'] == 'US']\n",
    "#daily_report.dropna()       #drop any row that has a nan value\n",
    "#print(daily_report['FIPS'].fillna(0))\n",
    "# daily_report.dropna(axis=1) #drop any column that has a nan value"
   ]
  },
  {
   "cell_type": "code",
   "execution_count": 90,
   "metadata": {},
   "outputs": [
    {
     "output_type": "execute_result",
     "data": {
      "text/plain": [
       "0       1111.0\n",
       "1       1111.0\n",
       "2       1111.0\n",
       "3       1111.0\n",
       "4       1111.0\n",
       "         ...  \n",
       "3978    1111.0\n",
       "3979    1111.0\n",
       "3980    1111.0\n",
       "3981    1111.0\n",
       "3982    1111.0\n",
       "Name: FIPS, Length: 3983, dtype: float64"
      ]
     },
     "metadata": {},
     "execution_count": 90
    }
   ],
   "source": [
    "daily_report['FIPS'].fillna(1111)"
   ]
  },
  {
   "source": [
    "### Splitting Strings with str.split as a series"
   ],
   "cell_type": "markdown",
   "metadata": {}
  },
  {
   "cell_type": "code",
   "execution_count": 92,
   "metadata": {},
   "outputs": [
    {
     "output_type": "execute_result",
     "data": {
      "text/plain": [
       "['Luke Skywalker', 'Anakin Skywalker']"
      ]
     },
     "metadata": {},
     "execution_count": 92
    }
   ],
   "source": [
    "luke_skywalker = \"Skywalker, Luke\"\n",
    "luke_skywalker.split(', ')\n",
    "skywalkers = ['Luke Skywalker', 'Anakin Skywalker']\n",
    "skywalkers"
   ]
  },
  {
   "cell_type": "code",
   "execution_count": 93,
   "metadata": {},
   "outputs": [
    {
     "output_type": "execute_result",
     "data": {
      "text/plain": [
       "652        [Autauga, Alabama, US]\n",
       "653        [Baldwin, Alabama, US]\n",
       "654        [Barbour, Alabama, US]\n",
       "655           [Bibb, Alabama, US]\n",
       "656         [Blount, Alabama, US]\n",
       "                  ...            \n",
       "3924         [Teton, Wyoming, US]\n",
       "3925         [Uinta, Wyoming, US]\n",
       "3926    [Unassigned, Wyoming, US]\n",
       "3927      [Washakie, Wyoming, US]\n",
       "3928        [Weston, Wyoming, US]\n",
       "Name: Combined_Key, Length: 3277, dtype: object"
      ]
     },
     "metadata": {},
     "execution_count": 93
    }
   ],
   "source": [
    "split_pattern = ', '\n",
    "daily_report[daily_report['Country_Region']=='US']['Combined_Key'].str.split(split_pattern)"
   ]
  },
  {
   "cell_type": "code",
   "execution_count": 94,
   "metadata": {},
   "outputs": [
    {
     "output_type": "execute_result",
     "data": {
      "text/plain": [
       "               0        1   2\n",
       "652      Autauga  Alabama  US\n",
       "653      Baldwin  Alabama  US\n",
       "654      Barbour  Alabama  US\n",
       "655         Bibb  Alabama  US\n",
       "656       Blount  Alabama  US\n",
       "...          ...      ...  ..\n",
       "3924       Teton  Wyoming  US\n",
       "3925       Uinta  Wyoming  US\n",
       "3926  Unassigned  Wyoming  US\n",
       "3927    Washakie  Wyoming  US\n",
       "3928      Weston  Wyoming  US\n",
       "\n",
       "[3277 rows x 3 columns]"
      ],
      "text/html": "<div>\n<style scoped>\n    .dataframe tbody tr th:only-of-type {\n        vertical-align: middle;\n    }\n\n    .dataframe tbody tr th {\n        vertical-align: top;\n    }\n\n    .dataframe thead th {\n        text-align: right;\n    }\n</style>\n<table border=\"1\" class=\"dataframe\">\n  <thead>\n    <tr style=\"text-align: right;\">\n      <th></th>\n      <th>0</th>\n      <th>1</th>\n      <th>2</th>\n    </tr>\n  </thead>\n  <tbody>\n    <tr>\n      <th>652</th>\n      <td>Autauga</td>\n      <td>Alabama</td>\n      <td>US</td>\n    </tr>\n    <tr>\n      <th>653</th>\n      <td>Baldwin</td>\n      <td>Alabama</td>\n      <td>US</td>\n    </tr>\n    <tr>\n      <th>654</th>\n      <td>Barbour</td>\n      <td>Alabama</td>\n      <td>US</td>\n    </tr>\n    <tr>\n      <th>655</th>\n      <td>Bibb</td>\n      <td>Alabama</td>\n      <td>US</td>\n    </tr>\n    <tr>\n      <th>656</th>\n      <td>Blount</td>\n      <td>Alabama</td>\n      <td>US</td>\n    </tr>\n    <tr>\n      <th>...</th>\n      <td>...</td>\n      <td>...</td>\n      <td>...</td>\n    </tr>\n    <tr>\n      <th>3924</th>\n      <td>Teton</td>\n      <td>Wyoming</td>\n      <td>US</td>\n    </tr>\n    <tr>\n      <th>3925</th>\n      <td>Uinta</td>\n      <td>Wyoming</td>\n      <td>US</td>\n    </tr>\n    <tr>\n      <th>3926</th>\n      <td>Unassigned</td>\n      <td>Wyoming</td>\n      <td>US</td>\n    </tr>\n    <tr>\n      <th>3927</th>\n      <td>Washakie</td>\n      <td>Wyoming</td>\n      <td>US</td>\n    </tr>\n    <tr>\n      <th>3928</th>\n      <td>Weston</td>\n      <td>Wyoming</td>\n      <td>US</td>\n    </tr>\n  </tbody>\n</table>\n<p>3277 rows × 3 columns</p>\n</div>"
     },
     "metadata": {},
     "execution_count": 94
    }
   ],
   "source": [
    "split_pattern = ', '\n",
    "us_combined_key = daily_report[daily_report['Country_Region']=='US']['Combined_Key']\n",
    "us_combined_key .str.split(split_pattern, expand=True)  #give the output as a dataframe\n",
    "\n"
   ]
  },
  {
   "cell_type": "code",
   "execution_count": 95,
   "metadata": {},
   "outputs": [
    {
     "output_type": "error",
     "ename": "ImportError",
     "evalue": "lxml not found, please install it",
     "traceback": [
      "\u001b[0;31m---------------------------------------------------------------------------\u001b[0m",
      "\u001b[0;31mImportError\u001b[0m                               Traceback (most recent call last)",
      "\u001b[0;32m<ipython-input-95-1f910c5fbd2b>\u001b[0m in \u001b[0;36m<module>\u001b[0;34m\u001b[0m\n\u001b[1;32m      1\u001b[0m \u001b[0mrequest_url\u001b[0m \u001b[0;34m=\u001b[0m \u001b[0;34m\"https://www.imdb.com/chart/top\"\u001b[0m\u001b[0;34m\u001b[0m\u001b[0;34m\u001b[0m\u001b[0m\n\u001b[0;32m----> 2\u001b[0;31m \u001b[0mdf_list\u001b[0m \u001b[0;34m=\u001b[0m \u001b[0mpd\u001b[0m\u001b[0;34m.\u001b[0m\u001b[0mread_html\u001b[0m\u001b[0;34m(\u001b[0m\u001b[0mrequest_url\u001b[0m\u001b[0;34m)\u001b[0m\u001b[0;34m\u001b[0m\u001b[0;34m\u001b[0m\u001b[0m\n\u001b[0m\u001b[1;32m      3\u001b[0m \u001b[0mmovies\u001b[0m \u001b[0;34m=\u001b[0m \u001b[0mdf_list\u001b[0m\u001b[0;34m[\u001b[0m\u001b[0;36m0\u001b[0m\u001b[0;34m]\u001b[0m\u001b[0;34m\u001b[0m\u001b[0;34m\u001b[0m\u001b[0m\n\u001b[1;32m      4\u001b[0m \u001b[0mno_nan\u001b[0m \u001b[0;34m=\u001b[0m \u001b[0mmovies\u001b[0m\u001b[0;34m.\u001b[0m\u001b[0mdropna\u001b[0m\u001b[0;34m(\u001b[0m\u001b[0maxis\u001b[0m\u001b[0;34m=\u001b[0m\u001b[0;36m1\u001b[0m\u001b[0;34m)\u001b[0m\u001b[0;34m\u001b[0m\u001b[0;34m\u001b[0m\u001b[0m\n\u001b[1;32m      5\u001b[0m \u001b[0mprint\u001b[0m\u001b[0;34m(\u001b[0m\u001b[0mno_nan\u001b[0m\u001b[0;34m)\u001b[0m\u001b[0;34m\u001b[0m\u001b[0;34m\u001b[0m\u001b[0m\n",
      "\u001b[0;32m/Library/Frameworks/Python.framework/Versions/3.9/lib/python3.9/site-packages/pandas/util/_decorators.py\u001b[0m in \u001b[0;36mwrapper\u001b[0;34m(*args, **kwargs)\u001b[0m\n\u001b[1;32m    297\u001b[0m                 )\n\u001b[1;32m    298\u001b[0m                 \u001b[0mwarnings\u001b[0m\u001b[0;34m.\u001b[0m\u001b[0mwarn\u001b[0m\u001b[0;34m(\u001b[0m\u001b[0mmsg\u001b[0m\u001b[0;34m,\u001b[0m \u001b[0mFutureWarning\u001b[0m\u001b[0;34m,\u001b[0m \u001b[0mstacklevel\u001b[0m\u001b[0;34m=\u001b[0m\u001b[0mstacklevel\u001b[0m\u001b[0;34m)\u001b[0m\u001b[0;34m\u001b[0m\u001b[0;34m\u001b[0m\u001b[0m\n\u001b[0;32m--> 299\u001b[0;31m             \u001b[0;32mreturn\u001b[0m \u001b[0mfunc\u001b[0m\u001b[0;34m(\u001b[0m\u001b[0;34m*\u001b[0m\u001b[0margs\u001b[0m\u001b[0;34m,\u001b[0m \u001b[0;34m**\u001b[0m\u001b[0mkwargs\u001b[0m\u001b[0;34m)\u001b[0m\u001b[0;34m\u001b[0m\u001b[0;34m\u001b[0m\u001b[0m\n\u001b[0m\u001b[1;32m    300\u001b[0m \u001b[0;34m\u001b[0m\u001b[0m\n\u001b[1;32m    301\u001b[0m         \u001b[0;32mreturn\u001b[0m \u001b[0mwrapper\u001b[0m\u001b[0;34m\u001b[0m\u001b[0;34m\u001b[0m\u001b[0m\n",
      "\u001b[0;32m/Library/Frameworks/Python.framework/Versions/3.9/lib/python3.9/site-packages/pandas/io/html.py\u001b[0m in \u001b[0;36mread_html\u001b[0;34m(io, match, flavor, header, index_col, skiprows, attrs, parse_dates, thousands, encoding, decimal, converters, na_values, keep_default_na, displayed_only)\u001b[0m\n\u001b[1;32m   1083\u001b[0m     \u001b[0mio\u001b[0m \u001b[0;34m=\u001b[0m \u001b[0mstringify_path\u001b[0m\u001b[0;34m(\u001b[0m\u001b[0mio\u001b[0m\u001b[0;34m)\u001b[0m\u001b[0;34m\u001b[0m\u001b[0;34m\u001b[0m\u001b[0m\n\u001b[1;32m   1084\u001b[0m \u001b[0;34m\u001b[0m\u001b[0m\n\u001b[0;32m-> 1085\u001b[0;31m     return _parse(\n\u001b[0m\u001b[1;32m   1086\u001b[0m         \u001b[0mflavor\u001b[0m\u001b[0;34m=\u001b[0m\u001b[0mflavor\u001b[0m\u001b[0;34m,\u001b[0m\u001b[0;34m\u001b[0m\u001b[0;34m\u001b[0m\u001b[0m\n\u001b[1;32m   1087\u001b[0m         \u001b[0mio\u001b[0m\u001b[0;34m=\u001b[0m\u001b[0mio\u001b[0m\u001b[0;34m,\u001b[0m\u001b[0;34m\u001b[0m\u001b[0;34m\u001b[0m\u001b[0m\n",
      "\u001b[0;32m/Library/Frameworks/Python.framework/Versions/3.9/lib/python3.9/site-packages/pandas/io/html.py\u001b[0m in \u001b[0;36m_parse\u001b[0;34m(flavor, io, match, attrs, encoding, displayed_only, **kwargs)\u001b[0m\n\u001b[1;32m    887\u001b[0m     \u001b[0mretained\u001b[0m \u001b[0;34m=\u001b[0m \u001b[0;32mNone\u001b[0m\u001b[0;34m\u001b[0m\u001b[0;34m\u001b[0m\u001b[0m\n\u001b[1;32m    888\u001b[0m     \u001b[0;32mfor\u001b[0m \u001b[0mflav\u001b[0m \u001b[0;32min\u001b[0m \u001b[0mflavor\u001b[0m\u001b[0;34m:\u001b[0m\u001b[0;34m\u001b[0m\u001b[0;34m\u001b[0m\u001b[0m\n\u001b[0;32m--> 889\u001b[0;31m         \u001b[0mparser\u001b[0m \u001b[0;34m=\u001b[0m \u001b[0m_parser_dispatch\u001b[0m\u001b[0;34m(\u001b[0m\u001b[0mflav\u001b[0m\u001b[0;34m)\u001b[0m\u001b[0;34m\u001b[0m\u001b[0;34m\u001b[0m\u001b[0m\n\u001b[0m\u001b[1;32m    890\u001b[0m         \u001b[0mp\u001b[0m \u001b[0;34m=\u001b[0m \u001b[0mparser\u001b[0m\u001b[0;34m(\u001b[0m\u001b[0mio\u001b[0m\u001b[0;34m,\u001b[0m \u001b[0mcompiled_match\u001b[0m\u001b[0;34m,\u001b[0m \u001b[0mattrs\u001b[0m\u001b[0;34m,\u001b[0m \u001b[0mencoding\u001b[0m\u001b[0;34m,\u001b[0m \u001b[0mdisplayed_only\u001b[0m\u001b[0;34m)\u001b[0m\u001b[0;34m\u001b[0m\u001b[0;34m\u001b[0m\u001b[0m\n\u001b[1;32m    891\u001b[0m \u001b[0;34m\u001b[0m\u001b[0m\n",
      "\u001b[0;32m/Library/Frameworks/Python.framework/Versions/3.9/lib/python3.9/site-packages/pandas/io/html.py\u001b[0m in \u001b[0;36m_parser_dispatch\u001b[0;34m(flavor)\u001b[0m\n\u001b[1;32m    844\u001b[0m     \u001b[0;32melse\u001b[0m\u001b[0;34m:\u001b[0m\u001b[0;34m\u001b[0m\u001b[0;34m\u001b[0m\u001b[0m\n\u001b[1;32m    845\u001b[0m         \u001b[0;32mif\u001b[0m \u001b[0;32mnot\u001b[0m \u001b[0m_HAS_LXML\u001b[0m\u001b[0;34m:\u001b[0m\u001b[0;34m\u001b[0m\u001b[0;34m\u001b[0m\u001b[0m\n\u001b[0;32m--> 846\u001b[0;31m             \u001b[0;32mraise\u001b[0m \u001b[0mImportError\u001b[0m\u001b[0;34m(\u001b[0m\u001b[0;34m\"lxml not found, please install it\"\u001b[0m\u001b[0;34m)\u001b[0m\u001b[0;34m\u001b[0m\u001b[0;34m\u001b[0m\u001b[0m\n\u001b[0m\u001b[1;32m    847\u001b[0m     \u001b[0;32mreturn\u001b[0m \u001b[0m_valid_parsers\u001b[0m\u001b[0;34m[\u001b[0m\u001b[0mflavor\u001b[0m\u001b[0;34m]\u001b[0m\u001b[0;34m\u001b[0m\u001b[0;34m\u001b[0m\u001b[0m\n\u001b[1;32m    848\u001b[0m \u001b[0;34m\u001b[0m\u001b[0m\n",
      "\u001b[0;31mImportError\u001b[0m: lxml not found, please install it"
     ]
    }
   ],
   "source": [
    "request_url = \"https://www.imdb.com/chart/top\"\n",
    "df_list = pd.read_html(request_url)\n",
    "movies = df_list[0]\n",
    "no_nan = movies.dropna(axis=1)\n",
    "print(no_nan)\n",
    "\n"
   ]
  },
  {
   "cell_type": "code",
   "execution_count": null,
   "metadata": {},
   "outputs": [],
   "source": []
  }
 ],
 "metadata": {
  "kernelspec": {
   "name": "python394jvsc74a57bd07812ea015bdcee6f23a998adcdd2ef97c151c0c241b7b7070987d9313e41299d",
   "display_name": "Python 3.9.4 64-bit ('3.9')"
  },
  "language_info": {
   "codemirror_mode": {
    "name": "ipython",
    "version": 3
   },
   "file_extension": ".py",
   "mimetype": "text/x-python",
   "name": "python",
   "nbconvert_exporter": "python",
   "pygments_lexer": "ipython3",
   "version": "3.9.4"
  },
  "metadata": {
   "interpreter": {
    "hash": "7812ea015bdcee6f23a998adcdd2ef97c151c0c241b7b7070987d9313e41299d"
   }
  }
 },
 "nbformat": 4,
 "nbformat_minor": 4
}