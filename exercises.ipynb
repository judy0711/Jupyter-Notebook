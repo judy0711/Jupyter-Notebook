{
 "cells": [
  {
   "cell_type": "markdown",
   "metadata": {
    "deletable": false,
    "editable": false
   },
   "source": [
    "#  Data Analysis with Python\n",
    "\n",
    "> Exercises: Advanced Pandas\n",
    "\n",
    "Kuo, Yao-Jen <yaojenkuo@datainpoint.com> from [DATAINPOINT](https://www.datainpoint.com)"
   ]
  },
  {
   "cell_type": "markdown",
   "metadata": {
    "deletable": false,
    "editable": false
   },
   "source": [
    "## Instructions\n",
    "\n",
    "- We've imported necessary modules/libraries at the beginning of each exercise.\n",
    "- We've put necessary files(if any) in the working directory of each exercise.\n",
    "- We've defined the names of functions/inputs/arguments for you.\n",
    "- Write down your solution between the comments `### BEGIN SOLUTION` and `### END SOLUTION`.\n",
    "- Running tests to see if your solutions are right: Kernel -> Restart & Run All -> Restart and Run All Cells.\n",
    "- You can run tests after each question or after finishing all questions."
   ]
  },
  {
   "cell_type": "code",
   "execution_count": 1,
   "metadata": {
    "deletable": false,
    "editable": false
   },
   "outputs": [],
   "source": [
    "import unittest\n",
    "import numpy as np\n",
    "import pandas as pd"
   ]
  },
  {
   "cell_type": "markdown",
   "metadata": {},
   "source": [
    "## 00. The ongoing COVID-19 pandemic has been affected more than `w` countries worldwide, more than `x` cases have been reported, resulting in more than `y` deaths, more than `z` people have recovered. Define a function named `covid19_pandemic` that is able to summarize these 4 numbers as of 2021-03-31.\n",
    "\n",
    "- Expected inputs: a CSV file `03-31-2021.csv`.\n",
    "- Expected outputs: a dict with length 4."
   ]
  },
  {
   "cell_type": "code",
   "execution_count": 2,
   "metadata": {},
   "outputs": [],
   "source": [
    "def summarize_covid19_pandemic(csv_file_path):\n",
    "    \"\"\"\n",
    "    >>> covid19_pandemic = summarize_covid19_pandemic('03-31-2021.csv')\n",
    "    >>> print(type(covid19_pandemic))\n",
    "    dict\n",
    "    >>> print(len(covid19_pandemic))\n",
    "    4\n",
    "    >>> print(covid19_pandemic['w'])\n",
    "    192\n",
    "    >>> print(covid19_pandemic['x'])\n",
    "    128897696\n",
    "    >>> print(covid19_pandemic['y'])\n",
    "    2816017\n",
    "    >>> print(covid19_pandemic['z'])\n",
    "    73119295.0\n",
    "    \"\"\"\n",
    "    ### BEGIN SOLUTION\n",
    "    list_out = pd.read_csv(csv_file_path)\n",
    "    w =  list_out['Country_Region'].nunique()\n",
    "    x= list_out['Confirmed'].count()\n",
    "    y = list_out['Deaths'].count()\n",
    "    z = list_out['Recovered'].count()\n",
    "    out = {            \n",
    "        'w':w,\n",
    "        'x':x,\n",
    "        'y':y,\n",
    "        'z':z\n",
    "    }\n",
    "    return out\n",
    "    ### END SOLUTION"
   ]
  },
  {
   "cell_type": "code",
   "execution_count": 3,
   "metadata": {},
   "outputs": [
    {
     "data": {
      "text/plain": [
       "192"
      ]
     },
     "execution_count": 3,
     "metadata": {},
     "output_type": "execute_result"
    }
   ],
   "source": [
    "csv_file_path = '03-31-2021.csv'\n",
    "daily_report = pd.read_csv(csv_file_path)\n",
    "w = daily_report['Country_Region'].unique()\n",
    "w.size #len(w)"
   ]
  },
  {
   "cell_type": "code",
   "execution_count": 4,
   "metadata": {},
   "outputs": [
    {
     "name": "stdout",
     "output_type": "stream",
     "text": [
      "<class 'dict'>\n",
      "4\n",
      "192\n"
     ]
    }
   ],
   "source": [
    "covid19_pandemic = summarize_covid19_pandemic('03-31-2021.csv')\n",
    "print(type(covid19_pandemic))\n",
    "print(len(covid19_pandemic))\n",
    "print(covid19_pandemic['w'])"
   ]
  },
  {
   "cell_type": "markdown",
   "metadata": {},
   "source": [
    "## 01. Define a function named `find_most_confirmed_countries` that is able to summarize the top 10 most confirmed cases by country as of 2021-03-31.\n",
    "\n",
    "- Expected inputs: a CSV file `03-31-2021.csv`.\n",
    "- Expected outputs: a Series with a size of 10."
   ]
  },
  {
   "cell_type": "code",
   "execution_count": 5,
   "metadata": {},
   "outputs": [],
   "source": [
    "def find_most_confirmed_countries(csv_file_path):\n",
    "    \"\"\"\n",
    "    >>> most_confirmed_countries = find_most_confirmed_countries('03-31-2021.csv')\n",
    "    >>> print(type(most_confirmed_countries))\n",
    "    <class 'pandas.core.series.Series'>\n",
    "    >>> print(most_confirmed_countries.size)\n",
    "    10\n",
    "    >>> print(most_confirmed_countries)\n",
    "    Country_Region\n",
    "    US                30462210\n",
    "    Brazil            12748747\n",
    "    India             12221665\n",
    "    France             4705068\n",
    "    Russia             4494234\n",
    "    United Kingdom     4359982\n",
    "    Italy              3584899\n",
    "    Turkey             3317182\n",
    "    Spain              3284353\n",
    "    Germany            2843644\n",
    "    Name: Confirmed, dtype: int64\n",
    "    \"\"\"\n",
    "    ### BEGIN SOLUTION\n",
    "    list_out = pd.read_csv(csv_file_path)\n",
    "    out = list_out.groupby('Country_Region')['Confirmed'].sum().sort_values(ascending=False)[:10]\n",
    "    return(out)\n",
    "    ### END SOLUTION"
   ]
  },
  {
   "cell_type": "code",
   "execution_count": 6,
   "metadata": {},
   "outputs": [
    {
     "data": {
      "text/plain": [
       "Country_Region\n",
       "US        30462210\n",
       "Brazil    12748747\n",
       "India     12221665\n",
       "France     4705068\n",
       "Russia     4494234\n",
       "Name: Confirmed, dtype: int64"
      ]
     },
     "execution_count": 6,
     "metadata": {},
     "output_type": "execute_result"
    }
   ],
   "source": [
    "covid19_pandemic = find_most_confirmed_countries('03-31-2021.csv')\n",
    "covid19_pandemic.head()\n"
   ]
  },
  {
   "cell_type": "markdown",
   "metadata": {},
   "source": [
    "## 02. Define a function named `calculate_daily_increase` that is able to calculate the daily increase of confirmed cases for Taiwan from 2020-01-23 to 2021-04-29.\n",
    "\n",
    "- Expected inputs: a CSV file `time_series_covid19_confirmed_global.csv`.\n",
    "- Expected outputs: a (464, 4) DataFrame."
   ]
  },
  {
   "cell_type": "code",
   "execution_count": 7,
   "metadata": {},
   "outputs": [],
   "source": [
    "def calculate_daily_increase(csv_file_path):\n",
    "    \"\"\"\n",
    "    >>> daily_increase_tw = calculate_daily_increase('time_series_covid19_confirmed_global.csv')\n",
    "    >>> print(type(daily_increase_tw))\n",
    "    <class 'pandas.core.frame.DataFrame'>\n",
    "    >>> print(daily_increase_tw.shape)\n",
    "    (464, 4)\n",
    "    >>> print(daily_increase_tw)\n",
    "            Date Country/Region  Confirmed  Daily_Increase\n",
    "    0    1/22/20        Taiwan*          1             NaN\n",
    "    1    1/23/20        Taiwan*          1             0.0\n",
    "    2    1/24/20        Taiwan*          3             2.0\n",
    "    3    1/25/20        Taiwan*          3             0.0\n",
    "    4    1/26/20        Taiwan*          4             1.0\n",
    "    ..       ...            ...        ...             ...\n",
    "    459  4/25/21        Taiwan*       1100             3.0\n",
    "    460  4/26/21        Taiwan*       1104             4.0\n",
    "    461  4/27/21        Taiwan*       1110             6.0\n",
    "    462  4/28/21        Taiwan*       1116             6.0\n",
    "    463  4/29/21        Taiwan*       1121             5.0\n",
    "\n",
    "    [464 rows x 4 columns]\n",
    "    \"\"\"\n",
    "    ### BEGIN SOLUTION\n",
    "    \n",
    "    ### END SOLUTION"
   ]
  },
  {
   "cell_type": "code",
   "execution_count": null,
   "metadata": {},
   "outputs": [
    {
     "data": {
      "text/html": [
       "<div>\n",
       "<style scoped>\n",
       "    .dataframe tbody tr th:only-of-type {\n",
       "        vertical-align: middle;\n",
       "    }\n",
       "\n",
       "    .dataframe tbody tr th {\n",
       "        vertical-align: top;\n",
       "    }\n",
       "\n",
       "    .dataframe thead th {\n",
       "        text-align: right;\n",
       "    }\n",
       "</style>\n",
       "<table border=\"1\" class=\"dataframe\">\n",
       "  <thead>\n",
       "    <tr style=\"text-align: right;\">\n",
       "      <th></th>\n",
       "      <th>Date</th>\n",
       "      <th>Country/Region</th>\n",
       "      <th>Confirmed</th>\n",
       "      <th>Daily_Increase</th>\n",
       "    </tr>\n",
       "  </thead>\n",
       "  <tbody>\n",
       "    <tr>\n",
       "      <th>0</th>\n",
       "      <td>1/22/20</td>\n",
       "      <td>Taiwan*</td>\n",
       "      <td>1</td>\n",
       "      <td>NaN</td>\n",
       "    </tr>\n",
       "    <tr>\n",
       "      <th>1</th>\n",
       "      <td>1/23/20</td>\n",
       "      <td>Taiwan*</td>\n",
       "      <td>1</td>\n",
       "      <td>0.0</td>\n",
       "    </tr>\n",
       "    <tr>\n",
       "      <th>2</th>\n",
       "      <td>1/24/20</td>\n",
       "      <td>Taiwan*</td>\n",
       "      <td>3</td>\n",
       "      <td>2.0</td>\n",
       "    </tr>\n",
       "    <tr>\n",
       "      <th>3</th>\n",
       "      <td>1/25/20</td>\n",
       "      <td>Taiwan*</td>\n",
       "      <td>3</td>\n",
       "      <td>0.0</td>\n",
       "    </tr>\n",
       "    <tr>\n",
       "      <th>4</th>\n",
       "      <td>1/26/20</td>\n",
       "      <td>Taiwan*</td>\n",
       "      <td>4</td>\n",
       "      <td>1.0</td>\n",
       "    </tr>\n",
       "    <tr>\n",
       "      <th>...</th>\n",
       "      <td>...</td>\n",
       "      <td>...</td>\n",
       "      <td>...</td>\n",
       "      <td>...</td>\n",
       "    </tr>\n",
       "    <tr>\n",
       "      <th>459</th>\n",
       "      <td>4/25/21</td>\n",
       "      <td>Taiwan*</td>\n",
       "      <td>1100</td>\n",
       "      <td>3.0</td>\n",
       "    </tr>\n",
       "    <tr>\n",
       "      <th>460</th>\n",
       "      <td>4/26/21</td>\n",
       "      <td>Taiwan*</td>\n",
       "      <td>1104</td>\n",
       "      <td>4.0</td>\n",
       "    </tr>\n",
       "    <tr>\n",
       "      <th>461</th>\n",
       "      <td>4/27/21</td>\n",
       "      <td>Taiwan*</td>\n",
       "      <td>1110</td>\n",
       "      <td>6.0</td>\n",
       "    </tr>\n",
       "    <tr>\n",
       "      <th>462</th>\n",
       "      <td>4/28/21</td>\n",
       "      <td>Taiwan*</td>\n",
       "      <td>1116</td>\n",
       "      <td>6.0</td>\n",
       "    </tr>\n",
       "    <tr>\n",
       "      <th>463</th>\n",
       "      <td>4/29/21</td>\n",
       "      <td>Taiwan*</td>\n",
       "      <td>1121</td>\n",
       "      <td>5.0</td>\n",
       "    </tr>\n",
       "  </tbody>\n",
       "</table>\n",
       "<p>464 rows × 4 columns</p>\n",
       "</div>"
      ],
      "text/plain": [
       "        Date Country/Region  Confirmed  Daily_Increase\n",
       "0    1/22/20        Taiwan*          1             NaN\n",
       "1    1/23/20        Taiwan*          1             0.0\n",
       "2    1/24/20        Taiwan*          3             2.0\n",
       "3    1/25/20        Taiwan*          3             0.0\n",
       "4    1/26/20        Taiwan*          4             1.0\n",
       "..       ...            ...        ...             ...\n",
       "459  4/25/21        Taiwan*       1100             3.0\n",
       "460  4/26/21        Taiwan*       1104             4.0\n",
       "461  4/27/21        Taiwan*       1110             6.0\n",
       "462  4/28/21        Taiwan*       1116             6.0\n",
       "463  4/29/21        Taiwan*       1121             5.0\n",
       "\n",
       "[464 rows x 4 columns]"
      ]
     },
     "execution_count": 37,
     "metadata": {},
     "output_type": "execute_result"
    }
   ],
   "source": [
    "csv_file_path = 'time_series_covid19_confirmed_global.csv'\n",
    "time_series = pd.read_csv(csv_file_path)\n",
    "tw_time_series = time_series[time_series['Country/Region'].str.contains('Taiwan')]\n",
    "idVars = ['Province/State', 'Country/Region', 'Lat', 'Long']\n",
    "tw_time_series_melted = pd.melt(tw_time_series, \n",
    "                                id_vars = idVars, \n",
    "                                var_name = 'Date',\n",
    "                                value_name = 'Confirmed')\n",
    "confirmed = tw_time_series_melted['Confirmed'].values\n",
    "lagged_confirmed = list(confirmed)\n",
    "lagged_confirmed.pop()\n",
    "lagged_confirmed.insert(0,np.NaN)\n",
    "lagged_confirmed_arr = np.array(lagged_confirmed)\n",
    "daily_increase = confirmed-lagged_confirmed_arr\n",
    "#daily_increase = np.diff(confirmed).astype(float)\n",
    "#np.insert(daily_increase, 0, np.NaN)\n",
    "out_df = tw_time_series_melted[['Date', 'Country/Region', 'Confirmed']]\n",
    "out_df.insert(out_df.shape[1], 'Daily_Increase', daily_increase)\n",
    "out_df"
   ]
  },
  {
   "cell_type": "markdown",
   "metadata": {},
   "source": [
    "## 03. Define a function named `presidential_2020_summary` that is able to summarize the national voting summary for Presidential Election of Taiwan in 2020.\n",
    "\n",
    "- Expected inputs: a CSV file `presidential.csv`.\n",
    "- Expected outputs: a (3, 3) DataFrame."
   ]
  },
  {
   "cell_type": "code",
   "execution_count": 9,
   "metadata": {},
   "outputs": [],
   "source": [
    "def presidential_2020_summary(csv_file_path):\n",
    "    \"\"\"\n",
    "    >>> summary = presidential_2020_summary('presidential.csv')\n",
    "    >>> print(type(summary))\n",
    "    <class 'pandas.core.frame.DataFrame'>\n",
    "    >>> print(summary.shape)\n",
    "    (3, 3)\n",
    "    >>> print(summary)\n",
    "       number candidate    votes\n",
    "    0       1    宋楚瑜/余湘   608590\n",
    "    1       2   韓國瑜/張善政  5522119\n",
    "    2       3   蔡英文/賴清德  8170231\n",
    "    \"\"\"\n",
    "    ### BEGIN SOLUTION\n",
    "    presidential = pd.read_csv('presidential.csv')\n",
    "    votes_by_candidate = presidential.groupby(['number','candidate'])['votes'].sum()\n",
    "    votes_by_candidate_df = pd.DataFrame(votes_by_candidate)\n",
    "    out = votes_by_candidate_df.reset_index()\n",
    "    return out\n",
    "    ### END SOLUTION"
   ]
  },
  {
   "cell_type": "code",
   "execution_count": 10,
   "metadata": {},
   "outputs": [
    {
     "name": "stdout",
     "output_type": "stream",
     "text": [
      "  candidate    votes\n",
      "0    宋楚瑜/余湘   608590\n",
      "1   韓國瑜/張善政  5522119\n",
      "2   蔡英文/賴清德  8170231\n"
     ]
    }
   ],
   "source": [
    "def my_wrong_solution_presidential_2020_summary(csv_file_path):\n",
    "    file = pd.read_csv(csv_file_path)\n",
    "    out = file.groupby('candidate')['votes'].sum().sort_values(ascending=True)\n",
    "    out = pd.DataFrame(out).reset_index()\n",
    "    return out\n",
    "summary = my_wrong_solution_presidential_2020_summary('presidential.csv')\n",
    "print(summary)"
   ]
  },
  {
   "cell_type": "markdown",
   "metadata": {},
   "source": [
    "## 04. Define a function named `summary_by_county_type` that is able to summarize the voting summary by \"六都\" and \"非六都\" for Presidential Election of Taiwan in 2020.\n",
    "\n",
    "- Expected inputs: a CSV file `presidential.csv`.\n",
    "- Expected outputs: a (6, 3) DataFrame."
   ]
  },
  {
   "cell_type": "code",
   "execution_count": 11,
   "metadata": {},
   "outputs": [],
   "source": [
    "def create_county_type(county_name):\n",
    "    if county_name in {'臺北市', '新北市', '桃園市', '臺中市', '臺南市', '高雄市'}:\n",
    "        county_type = '六都'\n",
    "    else:\n",
    "        county_type='非六都'\n",
    "    \n",
    "def summary_by_county_type(csv_file_path):\n",
    "    \"\"\"\n",
    "    >>> summary = summary_by_county_type('presidential.csv')\n",
    "    >>> print(type(summary))\n",
    "    <class 'pandas.core.frame.DataFrame'>\n",
    "    >>> print(summary.shape)\n",
    "    (6, 3)\n",
    "    >>> print(summary)\n",
    "      county_type candidate    votes\n",
    "    0          六都    宋楚瑜/余湘   427705\n",
    "    1          六都   韓國瑜/張善政  3772174\n",
    "    2          六都   蔡英文/賴清德  5839446\n",
    "    3         非六都    宋楚瑜/余湘   180885\n",
    "    4         非六都   韓國瑜/張善政  1749945\n",
    "    5         非六都   蔡英文/賴清德  2330785\n",
    "    \"\"\"\n",
    "    ### BEGIN SOLUTION\n",
    "    presidential = pd.read_csv(csv_file_path)\n",
    "    six_capitals = ('臺北市', '新北市', '桃園市', '臺中市', '臺南市', '高雄市')\n",
    "    county_type = presidential['county'].map(lambda x: '六都' if x in six_capitals else '非六都')\n",
    "    presidential.insert(presidential.shape[1], \"county_type\", county_type, True)\n",
    "    out = presidential.groupby(['county_type', 'number', 'candidate'])['votes'].sum()\n",
    "    out = pd.DataFrame(out).reset_index()\n",
    "    out = out.drop('number', axis=1)\n",
    "    return out\n",
    "    ### END SOLUTION"
   ]
  },
  {
   "cell_type": "markdown",
   "metadata": {},
   "source": [
    "  ### wont-work\n",
    "    csv_file_path = 'presidential.csv'\n",
    "    presidential = pd.read_csv(csv_file_path)\n",
    "    county_type = presidential['county'].map(create_county_type)\n",
    "    presidential['county_type'] = county_type.values\n",
    "    out = presidential.groupby(['county_type', 'number','candidate'])['votes'].sum()\n",
    "    return out"
   ]
  },
  {
   "cell_type": "markdown",
   "metadata": {
    "deletable": false,
    "editable": false
   },
   "source": [
    "## Run tests!\n",
    "\n",
    "Kernel -> Restart & Run All -> Restart and Run All Cells."
   ]
  },
  {
   "cell_type": "code",
   "execution_count": 12,
   "metadata": {
    "deletable": false,
    "editable": false
   },
   "outputs": [
    {
     "name": "stderr",
     "output_type": "stream",
     "text": [
      "test_00_covid19_pandemic (__main__.TestAdvancedPandas) ... ok\n",
      "test_01_find_most_confirmed_countries (__main__.TestAdvancedPandas) ... ok\n",
      "test_02_calculate_daily_increase (__main__.TestAdvancedPandas) ... ERROR\n",
      "test_03_presidential_2020_summary (__main__.TestAdvancedPandas) ... ok\n",
      "test_04_summary_by_county_type (__main__.TestAdvancedPandas) ... ok\n",
      "\n",
      "======================================================================\n",
      "ERROR: test_02_calculate_daily_increase (__main__.TestAdvancedPandas)\n",
      "----------------------------------------------------------------------\n",
      "Traceback (most recent call last):\n",
      "  File \"<ipython-input-12-f9c1a7eb9986>\", line 21, in test_02_calculate_daily_increase\n",
      "    daily_increase_tw = calculate_daily_increase('time_series_covid19_confirmed_global.csv')\n",
      "  File \"<ipython-input-7-a60879b6f41e>\", line 26, in calculate_daily_increase\n",
      "    melt\n",
      "NameError: name 'melt' is not defined\n",
      "\n",
      "----------------------------------------------------------------------\n",
      "Ran 5 tests in 0.211s\n",
      "\n",
      "FAILED (errors=1)\n"
     ]
    }
   ],
   "source": [
    "class TestAdvancedPandas(unittest.TestCase):\n",
    "    def test_00_covid19_pandemic(self):\n",
    "        covid19_pandemic = summarize_covid19_pandemic('03-31-2021.csv')\n",
    "        self.assertIsInstance(covid19_pandemic, dict)\n",
    "        self.assertEqual(len(covid19_pandemic), 4)\n",
    "        keys = covid19_pandemic.keys()\n",
    "        self.assertTrue('w' in keys)\n",
    "        self.assertTrue('x' in keys)\n",
    "        self.assertTrue('y' in keys)\n",
    "        self.assertTrue('z' in keys)\n",
    "    def test_01_find_most_confirmed_countries(self):\n",
    "        most_confirmed_countries = find_most_confirmed_countries('03-31-2021.csv')\n",
    "        self.assertIsInstance(most_confirmed_countries, pd.core.series.Series)\n",
    "        self.assertEqual(most_confirmed_countries.size, 10)\n",
    "        countries = most_confirmed_countries.index\n",
    "        self.assertTrue('US' in countries)\n",
    "        self.assertTrue('India' in countries)\n",
    "        self.assertTrue('Brazil' in countries)\n",
    "        self.assertTrue('France' in countries)\n",
    "    def test_02_calculate_daily_increase(self):\n",
    "        daily_increase_tw = calculate_daily_increase('time_series_covid19_confirmed_global.csv')\n",
    "        self.assertIsInstance(daily_increase_tw, pd.core.frame.DataFrame)\n",
    "        self.assertEqual(daily_increase_tw.shape, (464, 4))\n",
    "        np.testing.assert_array_almost_equal(daily_increase_tw['Daily_Increase'].values[:5], \n",
    "                                             np.array([np.nan, 0., 2., 0., 1.]))\n",
    "        np.testing.assert_array_equal(daily_increase_tw['Confirmed'].values[:5], \n",
    "                                             np.array([1, 1, 3, 3, 4]))\n",
    "        np.testing.assert_array_equal(daily_increase_tw['Date'].values[:5], \n",
    "                                             np.array(['1/22/20', '1/23/20', '1/24/20', '1/25/20', '1/26/20']))\n",
    "    def test_03_presidential_2020_summary(self):\n",
    "        summary = presidential_2020_summary('presidential.csv')\n",
    "        self.assertIsInstance(summary, pd.core.frame.DataFrame)\n",
    "        self.assertEqual(summary.shape, (3, 3))\n",
    "        np.testing.assert_array_equal(summary['number'].values,\n",
    "                                     np.array([1, 2, 3]))\n",
    "        np.testing.assert_array_equal(summary['votes'].values,\n",
    "                                     np.array([608590, 5522119, 8170231]))\n",
    "        np.testing.assert_array_equal(summary['candidate'].values,\n",
    "                                     np.array(['宋楚瑜/余湘', '韓國瑜/張善政', '蔡英文/賴清德']))\n",
    "    def test_04_summary_by_county_type(self):\n",
    "        summary = summary_by_county_type('presidential.csv')\n",
    "        self.assertIsInstance(summary, pd.core.frame.DataFrame)\n",
    "        self.assertEqual(summary.shape, (6, 3))\n",
    "        np.testing.assert_array_equal(summary['county_type'].values,\n",
    "                                     np.array(['六都', '六都', '六都', '非六都', '非六都', '非六都']))\n",
    "        np.testing.assert_array_equal(summary['votes'].values,\n",
    "                                     np.array([427705, 3772174, 5839446,  180885, 1749945, 2330785]))\n",
    "\n",
    "suite = unittest.TestLoader().loadTestsFromTestCase(TestAdvancedPandas)\n",
    "runner = unittest.TextTestRunner(verbosity=2)\n",
    "test_results = runner.run(suite)\n",
    "number_of_failures = len(test_results.failures)\n",
    "number_of_errors = len(test_results.errors)\n",
    "number_of_test_runs = test_results.testsRun\n",
    "number_of_successes = number_of_test_runs - (number_of_failures + number_of_errors)"
   ]
  },
  {
   "cell_type": "code",
   "execution_count": 13,
   "metadata": {
    "deletable": false,
    "editable": false
   },
   "outputs": [
    {
     "name": "stdout",
     "output_type": "stream",
     "text": [
      "You've got 4 successes among 5 questions.\n"
     ]
    }
   ],
   "source": [
    "print(\"You've got {} successes among {} questions.\".format(number_of_successes, number_of_test_runs))"
   ]
  }
 ],
 "metadata": {
  "celltoolbar": "Edit Metadata",
  "kernelspec": {
   "display_name": "Python 3",
   "language": "python",
   "name": "python3"
  },
  "language_info": {
   "codemirror_mode": {
    "name": "ipython",
    "version": 3
   },
   "file_extension": ".py",
   "mimetype": "text/x-python",
   "name": "python",
   "nbconvert_exporter": "python",
   "pygments_lexer": "ipython3",
   "version": "3.8.6"
  }
 },
 "nbformat": 4,
 "nbformat_minor": 4
}
